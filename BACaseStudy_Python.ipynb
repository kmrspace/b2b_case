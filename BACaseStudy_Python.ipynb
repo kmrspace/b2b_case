{
 "cells": [
  {
   "cell_type": "markdown",
   "id": "bac10f9d",
   "metadata": {},
   "source": [
    "# <font color=blue>E-Commerce B2B case study</font>"
   ]
  },
  {
   "cell_type": "code",
   "execution_count": 935,
   "id": "006a18d6",
   "metadata": {},
   "outputs": [],
   "source": [
    "#import the warnings.\n",
    "import warnings\n",
    "warnings.filterwarnings(\"ignore\")"
   ]
  },
  {
   "cell_type": "code",
   "execution_count": 936,
   "id": "4d8c0b82",
   "metadata": {},
   "outputs": [],
   "source": [
    "#import the useful libraries.\n",
    "import pandas as pd, numpy as np\n",
    "import matplotlib.pyplot as plt, seaborn as sns\n",
    "%matplotlib inline\n",
    "\n",
    "import datetime as dt\n",
    "import sklearn\n",
    "from sklearn.preprocessing import StandardScaler\n",
    "from sklearn.cluster import KMeans\n",
    "from sklearn.metrics import silhouette_score\n",
    "\n",
    "from scipy.cluster.hierarchy import linkage\n",
    "from scipy.cluster.hierarchy import dendrogram\n",
    "from scipy.cluster.hierarchy import cut_tree"
   ]
  },
  {
   "cell_type": "markdown",
   "id": "dc5f48f5",
   "metadata": {},
   "source": [
    "### <font color=blue>1. Data Prepartion</font>"
   ]
  },
  {
   "cell_type": "markdown",
   "id": "97e1781a",
   "metadata": {},
   "source": [
    "### Read in the historical dataset"
   ]
  },
  {
   "cell_type": "code",
   "execution_count": 937,
   "id": "5f885e48",
   "metadata": {},
   "outputs": [],
   "source": [
    "#read the data set of \"application_data\" in inp0.\n",
    "inp0= pd.read_csv(\"Received_Payments_Data.csv\")"
   ]
  },
  {
   "cell_type": "code",
   "execution_count": 938,
   "id": "8b3ef624",
   "metadata": {},
   "outputs": [
    {
     "data": {
      "text/plain": [
       "(93937, 16)"
      ]
     },
     "execution_count": 938,
     "metadata": {},
     "output_type": "execute_result"
    }
   ],
   "source": [
    "# checking the shape of the dataset\n",
    "inp0.shape"
   ]
  },
  {
   "cell_type": "code",
   "execution_count": 939,
   "id": "12e787c7",
   "metadata": {},
   "outputs": [
    {
     "data": {
      "text/html": [
       "<div>\n",
       "<style scoped>\n",
       "    .dataframe tbody tr th:only-of-type {\n",
       "        vertical-align: middle;\n",
       "    }\n",
       "\n",
       "    .dataframe tbody tr th {\n",
       "        vertical-align: top;\n",
       "    }\n",
       "\n",
       "    .dataframe thead th {\n",
       "        text-align: right;\n",
       "    }\n",
       "</style>\n",
       "<table border=\"1\" class=\"dataframe\">\n",
       "  <thead>\n",
       "    <tr style=\"text-align: right;\">\n",
       "      <th></th>\n",
       "      <th>RECEIPT_METHOD</th>\n",
       "      <th>CUSTOMER_NAME</th>\n",
       "      <th>CUSTOMER_NUMBER</th>\n",
       "      <th>RECEIPT_DOC_NO</th>\n",
       "      <th>RECEIPT_DATE</th>\n",
       "      <th>CLASS</th>\n",
       "      <th>CURRENCY_CODE</th>\n",
       "      <th>Local Amount</th>\n",
       "      <th>USD Amount</th>\n",
       "      <th>INVOICE_ALLOCATED</th>\n",
       "      <th>INVOICE_CREATION_DATE</th>\n",
       "      <th>DUE_DATE</th>\n",
       "      <th>PAYMENT_TERM</th>\n",
       "      <th>INVOICE_CLASS</th>\n",
       "      <th>INVOICE_CURRENCY_CODE</th>\n",
       "      <th>INVOICE_TYPE</th>\n",
       "    </tr>\n",
       "  </thead>\n",
       "  <tbody>\n",
       "    <tr>\n",
       "      <th>0</th>\n",
       "      <td>WIRE</td>\n",
       "      <td>C EA Corp</td>\n",
       "      <td>37403</td>\n",
       "      <td>1.421000e+10</td>\n",
       "      <td>20-Apr-21</td>\n",
       "      <td>PMT</td>\n",
       "      <td>USD</td>\n",
       "      <td>370990.92</td>\n",
       "      <td>101018.63040</td>\n",
       "      <td>14200000001</td>\n",
       "      <td>2-Nov-20</td>\n",
       "      <td>30-Dec-20</td>\n",
       "      <td>30 Days from EOM</td>\n",
       "      <td>INV</td>\n",
       "      <td>AED</td>\n",
       "      <td>Non Goods</td>\n",
       "    </tr>\n",
       "    <tr>\n",
       "      <th>1</th>\n",
       "      <td>WIRE</td>\n",
       "      <td>RADW Corp</td>\n",
       "      <td>4003</td>\n",
       "      <td>9.921000e+10</td>\n",
       "      <td>31-Jan-21</td>\n",
       "      <td>PMT</td>\n",
       "      <td>SAR</td>\n",
       "      <td>183750.00</td>\n",
       "      <td>48990.21133</td>\n",
       "      <td>99200000043</td>\n",
       "      <td>29-Dec-20</td>\n",
       "      <td>28-Jan-21</td>\n",
       "      <td>30 Days from Inv Date</td>\n",
       "      <td>INV</td>\n",
       "      <td>SAR</td>\n",
       "      <td>Non Goods</td>\n",
       "    </tr>\n",
       "    <tr>\n",
       "      <th>2</th>\n",
       "      <td>WIRE</td>\n",
       "      <td>RADW Corp</td>\n",
       "      <td>4003</td>\n",
       "      <td>9.921000e+10</td>\n",
       "      <td>31-Jan-21</td>\n",
       "      <td>PMT</td>\n",
       "      <td>SAR</td>\n",
       "      <td>157500.00</td>\n",
       "      <td>41991.60971</td>\n",
       "      <td>99210000003</td>\n",
       "      <td>30-Jan-21</td>\n",
       "      <td>1-Mar-21</td>\n",
       "      <td>30 Days from Inv Date</td>\n",
       "      <td>INV</td>\n",
       "      <td>SAR</td>\n",
       "      <td>Non Goods</td>\n",
       "    </tr>\n",
       "    <tr>\n",
       "      <th>3</th>\n",
       "      <td>WIRE</td>\n",
       "      <td>FARO Corp</td>\n",
       "      <td>1409</td>\n",
       "      <td>9.921000e+10</td>\n",
       "      <td>31-Jan-21</td>\n",
       "      <td>PMT</td>\n",
       "      <td>SAR</td>\n",
       "      <td>157500.00</td>\n",
       "      <td>41991.60971</td>\n",
       "      <td>99200000038</td>\n",
       "      <td>15-Dec-20</td>\n",
       "      <td>14-Jan-21</td>\n",
       "      <td>30 Days from Inv Date</td>\n",
       "      <td>INV</td>\n",
       "      <td>SAR</td>\n",
       "      <td>Non Goods</td>\n",
       "    </tr>\n",
       "    <tr>\n",
       "      <th>4</th>\n",
       "      <td>WIRE</td>\n",
       "      <td>RADW Corp</td>\n",
       "      <td>4003</td>\n",
       "      <td>9.921000e+10</td>\n",
       "      <td>31-Jan-21</td>\n",
       "      <td>PMT</td>\n",
       "      <td>SAR</td>\n",
       "      <td>157500.00</td>\n",
       "      <td>41991.60971</td>\n",
       "      <td>99200000039</td>\n",
       "      <td>15-Dec-20</td>\n",
       "      <td>14-Jan-21</td>\n",
       "      <td>30 Days from Inv Date</td>\n",
       "      <td>INV</td>\n",
       "      <td>SAR</td>\n",
       "      <td>Non Goods</td>\n",
       "    </tr>\n",
       "  </tbody>\n",
       "</table>\n",
       "</div>"
      ],
      "text/plain": [
       "  RECEIPT_METHOD CUSTOMER_NAME  CUSTOMER_NUMBER  RECEIPT_DOC_NO RECEIPT_DATE  \\\n",
       "0           WIRE     C EA Corp            37403    1.421000e+10    20-Apr-21   \n",
       "1           WIRE     RADW Corp             4003    9.921000e+10    31-Jan-21   \n",
       "2           WIRE     RADW Corp             4003    9.921000e+10    31-Jan-21   \n",
       "3           WIRE     FARO Corp             1409    9.921000e+10    31-Jan-21   \n",
       "4           WIRE     RADW Corp             4003    9.921000e+10    31-Jan-21   \n",
       "\n",
       "  CLASS CURRENCY_CODE  Local Amount    USD Amount INVOICE_ALLOCATED  \\\n",
       "0   PMT           USD     370990.92  101018.63040       14200000001   \n",
       "1   PMT           SAR     183750.00   48990.21133       99200000043   \n",
       "2   PMT           SAR     157500.00   41991.60971       99210000003   \n",
       "3   PMT           SAR     157500.00   41991.60971       99200000038   \n",
       "4   PMT           SAR     157500.00   41991.60971       99200000039   \n",
       "\n",
       "  INVOICE_CREATION_DATE   DUE_DATE           PAYMENT_TERM INVOICE_CLASS  \\\n",
       "0              2-Nov-20  30-Dec-20       30 Days from EOM           INV   \n",
       "1             29-Dec-20  28-Jan-21  30 Days from Inv Date           INV   \n",
       "2             30-Jan-21   1-Mar-21  30 Days from Inv Date           INV   \n",
       "3             15-Dec-20  14-Jan-21  30 Days from Inv Date           INV   \n",
       "4             15-Dec-20  14-Jan-21  30 Days from Inv Date           INV   \n",
       "\n",
       "  INVOICE_CURRENCY_CODE INVOICE_TYPE  \n",
       "0                   AED    Non Goods  \n",
       "1                   SAR    Non Goods  \n",
       "2                   SAR    Non Goods  \n",
       "3                   SAR    Non Goods  \n",
       "4                   SAR    Non Goods  "
      ]
     },
     "execution_count": 939,
     "metadata": {},
     "output_type": "execute_result"
    }
   ],
   "source": [
    "inp0.head()"
   ]
  },
  {
   "cell_type": "code",
   "execution_count": 940,
   "id": "a7c35f09",
   "metadata": {},
   "outputs": [
    {
     "name": "stdout",
     "output_type": "stream",
     "text": [
      "<class 'pandas.core.frame.DataFrame'>\n",
      "RangeIndex: 93937 entries, 0 to 93936\n",
      "Data columns (total 16 columns):\n",
      " #   Column                 Non-Null Count  Dtype  \n",
      "---  ------                 --------------  -----  \n",
      " 0   RECEIPT_METHOD         93937 non-null  object \n",
      " 1   CUSTOMER_NAME          93937 non-null  object \n",
      " 2   CUSTOMER_NUMBER        93937 non-null  int64  \n",
      " 3   RECEIPT_DOC_NO         93908 non-null  float64\n",
      " 4   RECEIPT_DATE           93937 non-null  object \n",
      " 5   CLASS                  93937 non-null  object \n",
      " 6   CURRENCY_CODE          93937 non-null  object \n",
      " 7   Local Amount           93937 non-null  float64\n",
      " 8   USD Amount             93937 non-null  float64\n",
      " 9   INVOICE_ALLOCATED      93937 non-null  object \n",
      " 10  INVOICE_CREATION_DATE  93937 non-null  object \n",
      " 11  DUE_DATE               93937 non-null  object \n",
      " 12  PAYMENT_TERM           93937 non-null  object \n",
      " 13  INVOICE_CLASS          93937 non-null  object \n",
      " 14  INVOICE_CURRENCY_CODE  93937 non-null  object \n",
      " 15  INVOICE_TYPE           93937 non-null  object \n",
      "dtypes: float64(3), int64(1), object(12)\n",
      "memory usage: 11.5+ MB\n"
     ]
    }
   ],
   "source": [
    "inp0.info()"
   ]
  },
  {
   "cell_type": "markdown",
   "id": "d53ad2a1",
   "metadata": {},
   "source": [
    "### Data cleaning and manipulation"
   ]
  },
  {
   "cell_type": "code",
   "execution_count": 941,
   "id": "60a5816f",
   "metadata": {},
   "outputs": [
    {
     "data": {
      "text/plain": [
       "RECEIPT_METHOD            0\n",
       "CUSTOMER_NAME             0\n",
       "CUSTOMER_NUMBER           0\n",
       "RECEIPT_DOC_NO           29\n",
       "RECEIPT_DATE              0\n",
       "CLASS                     0\n",
       "CURRENCY_CODE             0\n",
       "Local Amount              0\n",
       "USD Amount                0\n",
       "INVOICE_ALLOCATED         0\n",
       "INVOICE_CREATION_DATE     0\n",
       "DUE_DATE                  0\n",
       "PAYMENT_TERM              0\n",
       "INVOICE_CLASS             0\n",
       "INVOICE_CURRENCY_CODE     0\n",
       "INVOICE_TYPE              0\n",
       "dtype: int64"
      ]
     },
     "execution_count": 941,
     "metadata": {},
     "output_type": "execute_result"
    }
   ],
   "source": [
    "inp0.isnull().sum()"
   ]
  },
  {
   "cell_type": "markdown",
   "id": "f2309a8b",
   "metadata": {},
   "source": [
    "##### <font color=green>Only one variable has null data. This variable can be dropped as it is not relevant for modeling</font> "
   ]
  },
  {
   "cell_type": "code",
   "execution_count": 942,
   "id": "29fc338a",
   "metadata": {},
   "outputs": [
    {
     "data": {
      "text/plain": [
       "690"
      ]
     },
     "execution_count": 942,
     "metadata": {},
     "output_type": "execute_result"
    }
   ],
   "source": [
    "inp0['CUSTOMER_NAME'].nunique()"
   ]
  },
  {
   "cell_type": "code",
   "execution_count": 943,
   "id": "a1c8563e",
   "metadata": {},
   "outputs": [
    {
     "data": {
      "text/plain": [
       "1054"
      ]
     },
     "execution_count": 943,
     "metadata": {},
     "output_type": "execute_result"
    }
   ],
   "source": [
    "inp0['CUSTOMER_NUMBER'].nunique()"
   ]
  },
  {
   "cell_type": "markdown",
   "id": "95cdadeb",
   "metadata": {},
   "source": [
    "##### <font color=green>Many customers are allocated multiple customer numbers</font>"
   ]
  },
  {
   "cell_type": "code",
   "execution_count": 944,
   "id": "629dcafd",
   "metadata": {},
   "outputs": [],
   "source": [
    "# converting customer number to String\n",
    "inp0[\"CUSTOMER_NUMBER\"] = inp0[\"CUSTOMER_NUMBER\"].astype(str)"
   ]
  },
  {
   "cell_type": "markdown",
   "id": "da2a1a60",
   "metadata": {},
   "source": [
    "#### Checking the categorical variables"
   ]
  },
  {
   "cell_type": "code",
   "execution_count": 945,
   "id": "8aa59334",
   "metadata": {},
   "outputs": [
    {
     "data": {
      "text/plain": [
       "PMT    93937\n",
       "Name: CLASS, dtype: int64"
      ]
     },
     "execution_count": 945,
     "metadata": {},
     "output_type": "execute_result"
    }
   ],
   "source": [
    "inp0['CLASS'].value_counts()"
   ]
  },
  {
   "cell_type": "code",
   "execution_count": 946,
   "id": "0f0d3283",
   "metadata": {},
   "outputs": [
    {
     "data": {
      "text/plain": [
       "INV    88124\n",
       "CM      5261\n",
       "DM       552\n",
       "Name: INVOICE_CLASS, dtype: int64"
      ]
     },
     "execution_count": 946,
     "metadata": {},
     "output_type": "execute_result"
    }
   ],
   "source": [
    "inp0['INVOICE_CLASS'].value_counts()"
   ]
  },
  {
   "cell_type": "code",
   "execution_count": 947,
   "id": "dee944d1",
   "metadata": {},
   "outputs": [
    {
     "data": {
      "text/plain": [
       "Goods        66715\n",
       "Non Goods    27222\n",
       "Name: INVOICE_TYPE, dtype: int64"
      ]
     },
     "execution_count": 947,
     "metadata": {},
     "output_type": "execute_result"
    }
   ],
   "source": [
    "inp0['INVOICE_TYPE'].value_counts()"
   ]
  },
  {
   "cell_type": "code",
   "execution_count": 948,
   "id": "92b3ffc3",
   "metadata": {},
   "outputs": [
    {
     "data": {
      "text/plain": [
       "WIRE             84407\n",
       "AP/AR Netting     4847\n",
       "CHEQUE            3472\n",
       "CASH               782\n",
       "I/C WIRE           211\n",
       "PDC                210\n",
       "I/C Check            6\n",
       "I/C CASH             2\n",
       "Name: RECEIPT_METHOD, dtype: int64"
      ]
     },
     "execution_count": 948,
     "metadata": {},
     "output_type": "execute_result"
    }
   ],
   "source": [
    "inp0['RECEIPT_METHOD'].value_counts()"
   ]
  },
  {
   "cell_type": "code",
   "execution_count": 949,
   "id": "b6de4f2c",
   "metadata": {},
   "outputs": [
    {
     "data": {
      "text/plain": [
       "SAR    39199\n",
       "AED    32377\n",
       "USD    18547\n",
       "EUR     1519\n",
       "KWD     1089\n",
       "QAR      611\n",
       "BHD      400\n",
       "GBP      134\n",
       "JOD       38\n",
       "ZAR       23\n",
       "Name: INVOICE_CURRENCY_CODE, dtype: int64"
      ]
     },
     "execution_count": 949,
     "metadata": {},
     "output_type": "execute_result"
    }
   ],
   "source": [
    "inp0['INVOICE_CURRENCY_CODE'].value_counts()"
   ]
  },
  {
   "cell_type": "code",
   "execution_count": 950,
   "id": "6170404e",
   "metadata": {},
   "outputs": [],
   "source": [
    "## Removing ZAR currency code from the train data as it is missing in the real data"
   ]
  },
  {
   "cell_type": "code",
   "execution_count": 951,
   "id": "8ad5cf49",
   "metadata": {},
   "outputs": [],
   "source": [
    "indexCurr = inp0[inp0['INVOICE_CURRENCY_CODE'] == 'ZAR'].index\n"
   ]
  },
  {
   "cell_type": "code",
   "execution_count": 952,
   "id": "e023d3b1",
   "metadata": {},
   "outputs": [],
   "source": [
    "inp0.drop(indexCurr , inplace=True)"
   ]
  },
  {
   "cell_type": "markdown",
   "id": "4b068f76",
   "metadata": {},
   "source": [
    "#### Correcting the datatypes"
   ]
  },
  {
   "cell_type": "code",
   "execution_count": 953,
   "id": "6794954e",
   "metadata": {},
   "outputs": [],
   "source": [
    "inp0['INVOICE_CREATION_DATE'] = pd.to_datetime(inp0['INVOICE_CREATION_DATE'])"
   ]
  },
  {
   "cell_type": "code",
   "execution_count": 954,
   "id": "4e8d713c",
   "metadata": {},
   "outputs": [],
   "source": [
    "inp0['RECEIPT_DATE'] = pd.to_datetime(inp0['RECEIPT_DATE'])"
   ]
  },
  {
   "cell_type": "code",
   "execution_count": 955,
   "id": "492d4faf",
   "metadata": {},
   "outputs": [],
   "source": [
    "inp0['DUE_DATE'] = pd.to_datetime(inp0['DUE_DATE'])"
   ]
  },
  {
   "cell_type": "markdown",
   "id": "666da254",
   "metadata": {},
   "source": [
    "#### Recreating Payment Term variable based on Due data and Invoice creation date"
   ]
  },
  {
   "cell_type": "code",
   "execution_count": 956,
   "id": "a18f5f6a",
   "metadata": {},
   "outputs": [],
   "source": [
    "inp0['PAYMENT_TERM'] = inp0['DUE_DATE'] - inp0['INVOICE_CREATION_DATE']"
   ]
  },
  {
   "cell_type": "code",
   "execution_count": 957,
   "id": "5109464d",
   "metadata": {},
   "outputs": [],
   "source": [
    "inp0['PAYMENT_TERM'] =inp0['PAYMENT_TERM'].dt.days"
   ]
  },
  {
   "cell_type": "code",
   "execution_count": 958,
   "id": "8e2a9fe1",
   "metadata": {},
   "outputs": [
    {
     "data": {
      "text/html": [
       "<div>\n",
       "<style scoped>\n",
       "    .dataframe tbody tr th:only-of-type {\n",
       "        vertical-align: middle;\n",
       "    }\n",
       "\n",
       "    .dataframe tbody tr th {\n",
       "        vertical-align: top;\n",
       "    }\n",
       "\n",
       "    .dataframe thead th {\n",
       "        text-align: right;\n",
       "    }\n",
       "</style>\n",
       "<table border=\"1\" class=\"dataframe\">\n",
       "  <thead>\n",
       "    <tr style=\"text-align: right;\">\n",
       "      <th></th>\n",
       "      <th>RECEIPT_METHOD</th>\n",
       "      <th>CUSTOMER_NAME</th>\n",
       "      <th>CUSTOMER_NUMBER</th>\n",
       "      <th>RECEIPT_DOC_NO</th>\n",
       "      <th>RECEIPT_DATE</th>\n",
       "      <th>CLASS</th>\n",
       "      <th>CURRENCY_CODE</th>\n",
       "      <th>Local Amount</th>\n",
       "      <th>USD Amount</th>\n",
       "      <th>INVOICE_ALLOCATED</th>\n",
       "      <th>INVOICE_CREATION_DATE</th>\n",
       "      <th>DUE_DATE</th>\n",
       "      <th>PAYMENT_TERM</th>\n",
       "      <th>INVOICE_CLASS</th>\n",
       "      <th>INVOICE_CURRENCY_CODE</th>\n",
       "      <th>INVOICE_TYPE</th>\n",
       "    </tr>\n",
       "  </thead>\n",
       "  <tbody>\n",
       "    <tr>\n",
       "      <th>0</th>\n",
       "      <td>WIRE</td>\n",
       "      <td>C EA Corp</td>\n",
       "      <td>37403</td>\n",
       "      <td>1.421000e+10</td>\n",
       "      <td>2021-04-20</td>\n",
       "      <td>PMT</td>\n",
       "      <td>USD</td>\n",
       "      <td>370990.92</td>\n",
       "      <td>101018.63040</td>\n",
       "      <td>14200000001</td>\n",
       "      <td>2020-11-02</td>\n",
       "      <td>2020-12-30</td>\n",
       "      <td>58</td>\n",
       "      <td>INV</td>\n",
       "      <td>AED</td>\n",
       "      <td>Non Goods</td>\n",
       "    </tr>\n",
       "    <tr>\n",
       "      <th>1</th>\n",
       "      <td>WIRE</td>\n",
       "      <td>RADW Corp</td>\n",
       "      <td>4003</td>\n",
       "      <td>9.921000e+10</td>\n",
       "      <td>2021-01-31</td>\n",
       "      <td>PMT</td>\n",
       "      <td>SAR</td>\n",
       "      <td>183750.00</td>\n",
       "      <td>48990.21133</td>\n",
       "      <td>99200000043</td>\n",
       "      <td>2020-12-29</td>\n",
       "      <td>2021-01-28</td>\n",
       "      <td>30</td>\n",
       "      <td>INV</td>\n",
       "      <td>SAR</td>\n",
       "      <td>Non Goods</td>\n",
       "    </tr>\n",
       "    <tr>\n",
       "      <th>2</th>\n",
       "      <td>WIRE</td>\n",
       "      <td>RADW Corp</td>\n",
       "      <td>4003</td>\n",
       "      <td>9.921000e+10</td>\n",
       "      <td>2021-01-31</td>\n",
       "      <td>PMT</td>\n",
       "      <td>SAR</td>\n",
       "      <td>157500.00</td>\n",
       "      <td>41991.60971</td>\n",
       "      <td>99210000003</td>\n",
       "      <td>2021-01-30</td>\n",
       "      <td>2021-03-01</td>\n",
       "      <td>30</td>\n",
       "      <td>INV</td>\n",
       "      <td>SAR</td>\n",
       "      <td>Non Goods</td>\n",
       "    </tr>\n",
       "    <tr>\n",
       "      <th>3</th>\n",
       "      <td>WIRE</td>\n",
       "      <td>FARO Corp</td>\n",
       "      <td>1409</td>\n",
       "      <td>9.921000e+10</td>\n",
       "      <td>2021-01-31</td>\n",
       "      <td>PMT</td>\n",
       "      <td>SAR</td>\n",
       "      <td>157500.00</td>\n",
       "      <td>41991.60971</td>\n",
       "      <td>99200000038</td>\n",
       "      <td>2020-12-15</td>\n",
       "      <td>2021-01-14</td>\n",
       "      <td>30</td>\n",
       "      <td>INV</td>\n",
       "      <td>SAR</td>\n",
       "      <td>Non Goods</td>\n",
       "    </tr>\n",
       "    <tr>\n",
       "      <th>4</th>\n",
       "      <td>WIRE</td>\n",
       "      <td>RADW Corp</td>\n",
       "      <td>4003</td>\n",
       "      <td>9.921000e+10</td>\n",
       "      <td>2021-01-31</td>\n",
       "      <td>PMT</td>\n",
       "      <td>SAR</td>\n",
       "      <td>157500.00</td>\n",
       "      <td>41991.60971</td>\n",
       "      <td>99200000039</td>\n",
       "      <td>2020-12-15</td>\n",
       "      <td>2021-01-14</td>\n",
       "      <td>30</td>\n",
       "      <td>INV</td>\n",
       "      <td>SAR</td>\n",
       "      <td>Non Goods</td>\n",
       "    </tr>\n",
       "  </tbody>\n",
       "</table>\n",
       "</div>"
      ],
      "text/plain": [
       "  RECEIPT_METHOD CUSTOMER_NAME CUSTOMER_NUMBER  RECEIPT_DOC_NO RECEIPT_DATE  \\\n",
       "0           WIRE     C EA Corp           37403    1.421000e+10   2021-04-20   \n",
       "1           WIRE     RADW Corp            4003    9.921000e+10   2021-01-31   \n",
       "2           WIRE     RADW Corp            4003    9.921000e+10   2021-01-31   \n",
       "3           WIRE     FARO Corp            1409    9.921000e+10   2021-01-31   \n",
       "4           WIRE     RADW Corp            4003    9.921000e+10   2021-01-31   \n",
       "\n",
       "  CLASS CURRENCY_CODE  Local Amount    USD Amount INVOICE_ALLOCATED  \\\n",
       "0   PMT           USD     370990.92  101018.63040       14200000001   \n",
       "1   PMT           SAR     183750.00   48990.21133       99200000043   \n",
       "2   PMT           SAR     157500.00   41991.60971       99210000003   \n",
       "3   PMT           SAR     157500.00   41991.60971       99200000038   \n",
       "4   PMT           SAR     157500.00   41991.60971       99200000039   \n",
       "\n",
       "  INVOICE_CREATION_DATE   DUE_DATE  PAYMENT_TERM INVOICE_CLASS  \\\n",
       "0            2020-11-02 2020-12-30            58           INV   \n",
       "1            2020-12-29 2021-01-28            30           INV   \n",
       "2            2021-01-30 2021-03-01            30           INV   \n",
       "3            2020-12-15 2021-01-14            30           INV   \n",
       "4            2020-12-15 2021-01-14            30           INV   \n",
       "\n",
       "  INVOICE_CURRENCY_CODE INVOICE_TYPE  \n",
       "0                   AED    Non Goods  \n",
       "1                   SAR    Non Goods  \n",
       "2                   SAR    Non Goods  \n",
       "3                   SAR    Non Goods  \n",
       "4                   SAR    Non Goods  "
      ]
     },
     "execution_count": 958,
     "metadata": {},
     "output_type": "execute_result"
    }
   ],
   "source": [
    "inp0.head()"
   ]
  },
  {
   "cell_type": "code",
   "execution_count": 959,
   "id": "3e023202",
   "metadata": {
    "scrolled": true
   },
   "outputs": [
    {
     "data": {
      "text/html": [
       "<div>\n",
       "<style scoped>\n",
       "    .dataframe tbody tr th:only-of-type {\n",
       "        vertical-align: middle;\n",
       "    }\n",
       "\n",
       "    .dataframe tbody tr th {\n",
       "        vertical-align: top;\n",
       "    }\n",
       "\n",
       "    .dataframe thead th {\n",
       "        text-align: right;\n",
       "    }\n",
       "</style>\n",
       "<table border=\"1\" class=\"dataframe\">\n",
       "  <thead>\n",
       "    <tr style=\"text-align: right;\">\n",
       "      <th></th>\n",
       "      <th>RECEIPT_METHOD</th>\n",
       "      <th>CUSTOMER_NAME</th>\n",
       "      <th>CUSTOMER_NUMBER</th>\n",
       "      <th>RECEIPT_DOC_NO</th>\n",
       "      <th>RECEIPT_DATE</th>\n",
       "      <th>CLASS</th>\n",
       "      <th>CURRENCY_CODE</th>\n",
       "      <th>Local Amount</th>\n",
       "      <th>USD Amount</th>\n",
       "      <th>INVOICE_ALLOCATED</th>\n",
       "      <th>INVOICE_CREATION_DATE</th>\n",
       "      <th>DUE_DATE</th>\n",
       "      <th>PAYMENT_TERM</th>\n",
       "      <th>INVOICE_CLASS</th>\n",
       "      <th>INVOICE_CURRENCY_CODE</th>\n",
       "      <th>INVOICE_TYPE</th>\n",
       "    </tr>\n",
       "  </thead>\n",
       "  <tbody>\n",
       "    <tr>\n",
       "      <th>148</th>\n",
       "      <td>WIRE</td>\n",
       "      <td>RADW Corp</td>\n",
       "      <td>34647</td>\n",
       "      <td>1.000000e+11</td>\n",
       "      <td>2021-04-14</td>\n",
       "      <td>PMT</td>\n",
       "      <td>USD</td>\n",
       "      <td>2345.81</td>\n",
       "      <td>2345.810000</td>\n",
       "      <td>1.0021E+11</td>\n",
       "      <td>2021-04-01</td>\n",
       "      <td>2021-03-31</td>\n",
       "      <td>-1</td>\n",
       "      <td>INV</td>\n",
       "      <td>AED</td>\n",
       "      <td>Non Goods</td>\n",
       "    </tr>\n",
       "    <tr>\n",
       "      <th>152</th>\n",
       "      <td>WIRE</td>\n",
       "      <td>RADW Corp</td>\n",
       "      <td>34647</td>\n",
       "      <td>1.000000e+11</td>\n",
       "      <td>2021-04-14</td>\n",
       "      <td>PMT</td>\n",
       "      <td>USD</td>\n",
       "      <td>2345.81</td>\n",
       "      <td>2345.810000</td>\n",
       "      <td>1.0021E+11</td>\n",
       "      <td>2021-04-01</td>\n",
       "      <td>2021-03-31</td>\n",
       "      <td>-1</td>\n",
       "      <td>INV</td>\n",
       "      <td>AED</td>\n",
       "      <td>Non Goods</td>\n",
       "    </tr>\n",
       "    <tr>\n",
       "      <th>160</th>\n",
       "      <td>WIRE</td>\n",
       "      <td>REAL Corp</td>\n",
       "      <td>4002</td>\n",
       "      <td>1.000000e+11</td>\n",
       "      <td>2021-04-20</td>\n",
       "      <td>PMT</td>\n",
       "      <td>AED</td>\n",
       "      <td>98247.31</td>\n",
       "      <td>98247.310000</td>\n",
       "      <td>PAY1001522100494</td>\n",
       "      <td>2021-03-31</td>\n",
       "      <td>2021-03-01</td>\n",
       "      <td>-30</td>\n",
       "      <td>INV</td>\n",
       "      <td>AED</td>\n",
       "      <td>Non Goods</td>\n",
       "    </tr>\n",
       "    <tr>\n",
       "      <th>161</th>\n",
       "      <td>WIRE</td>\n",
       "      <td>REAL Corp</td>\n",
       "      <td>4002</td>\n",
       "      <td>1.000000e+11</td>\n",
       "      <td>2021-04-20</td>\n",
       "      <td>PMT</td>\n",
       "      <td>AED</td>\n",
       "      <td>98247.31</td>\n",
       "      <td>98247.310000</td>\n",
       "      <td>PAY1001522100496</td>\n",
       "      <td>2021-03-31</td>\n",
       "      <td>2021-03-01</td>\n",
       "      <td>-30</td>\n",
       "      <td>CM</td>\n",
       "      <td>AED</td>\n",
       "      <td>Non Goods</td>\n",
       "    </tr>\n",
       "    <tr>\n",
       "      <th>167</th>\n",
       "      <td>WIRE</td>\n",
       "      <td>RADW Corp</td>\n",
       "      <td>34647</td>\n",
       "      <td>1.000000e+11</td>\n",
       "      <td>2021-04-24</td>\n",
       "      <td>PMT</td>\n",
       "      <td>AED</td>\n",
       "      <td>10861.54</td>\n",
       "      <td>10861.540000</td>\n",
       "      <td>1.0021E+11</td>\n",
       "      <td>2021-04-01</td>\n",
       "      <td>2021-03-31</td>\n",
       "      <td>-1</td>\n",
       "      <td>INV</td>\n",
       "      <td>AED</td>\n",
       "      <td>Non Goods</td>\n",
       "    </tr>\n",
       "    <tr>\n",
       "      <th>...</th>\n",
       "      <td>...</td>\n",
       "      <td>...</td>\n",
       "      <td>...</td>\n",
       "      <td>...</td>\n",
       "      <td>...</td>\n",
       "      <td>...</td>\n",
       "      <td>...</td>\n",
       "      <td>...</td>\n",
       "      <td>...</td>\n",
       "      <td>...</td>\n",
       "      <td>...</td>\n",
       "      <td>...</td>\n",
       "      <td>...</td>\n",
       "      <td>...</td>\n",
       "      <td>...</td>\n",
       "      <td>...</td>\n",
       "    </tr>\n",
       "    <tr>\n",
       "      <th>93881</th>\n",
       "      <td>WIRE</td>\n",
       "      <td>SAUD Corp</td>\n",
       "      <td>38035</td>\n",
       "      <td>2.910000e+11</td>\n",
       "      <td>2021-05-31</td>\n",
       "      <td>PMT</td>\n",
       "      <td>SAR</td>\n",
       "      <td>0.00</td>\n",
       "      <td>0.000000</td>\n",
       "      <td>2000006765</td>\n",
       "      <td>2020-06-28</td>\n",
       "      <td>2017-09-06</td>\n",
       "      <td>-1026</td>\n",
       "      <td>INV</td>\n",
       "      <td>SAR</td>\n",
       "      <td>Non Goods</td>\n",
       "    </tr>\n",
       "    <tr>\n",
       "      <th>93882</th>\n",
       "      <td>WIRE</td>\n",
       "      <td>SAUD Corp</td>\n",
       "      <td>38035</td>\n",
       "      <td>2.910000e+11</td>\n",
       "      <td>2021-05-31</td>\n",
       "      <td>PMT</td>\n",
       "      <td>SAR</td>\n",
       "      <td>0.00</td>\n",
       "      <td>0.000000</td>\n",
       "      <td>2000006917</td>\n",
       "      <td>2020-06-28</td>\n",
       "      <td>2017-09-09</td>\n",
       "      <td>-1023</td>\n",
       "      <td>INV</td>\n",
       "      <td>SAR</td>\n",
       "      <td>Non Goods</td>\n",
       "    </tr>\n",
       "    <tr>\n",
       "      <th>93883</th>\n",
       "      <td>WIRE</td>\n",
       "      <td>SAUD Corp</td>\n",
       "      <td>38035</td>\n",
       "      <td>2.910000e+11</td>\n",
       "      <td>2021-05-31</td>\n",
       "      <td>PMT</td>\n",
       "      <td>SAR</td>\n",
       "      <td>0.00</td>\n",
       "      <td>0.000000</td>\n",
       "      <td>2000007075</td>\n",
       "      <td>2020-06-28</td>\n",
       "      <td>2017-09-13</td>\n",
       "      <td>-1019</td>\n",
       "      <td>INV</td>\n",
       "      <td>SAR</td>\n",
       "      <td>Non Goods</td>\n",
       "    </tr>\n",
       "    <tr>\n",
       "      <th>93903</th>\n",
       "      <td>WIRE</td>\n",
       "      <td>SCOP Corp</td>\n",
       "      <td>50801</td>\n",
       "      <td>2.970000e+11</td>\n",
       "      <td>2021-06-07</td>\n",
       "      <td>PMT</td>\n",
       "      <td>AED</td>\n",
       "      <td>23875.00</td>\n",
       "      <td>6501.021103</td>\n",
       "      <td>2.9721E+11</td>\n",
       "      <td>2021-03-04</td>\n",
       "      <td>2021-03-01</td>\n",
       "      <td>-3</td>\n",
       "      <td>INV</td>\n",
       "      <td>AED</td>\n",
       "      <td>Non Goods</td>\n",
       "    </tr>\n",
       "    <tr>\n",
       "      <th>93930</th>\n",
       "      <td>WIRE</td>\n",
       "      <td>PEAR Corp</td>\n",
       "      <td>21144</td>\n",
       "      <td>NaN</td>\n",
       "      <td>2021-04-01</td>\n",
       "      <td>PMT</td>\n",
       "      <td>USD</td>\n",
       "      <td>59914.50</td>\n",
       "      <td>59914.500000</td>\n",
       "      <td>2.842E+11</td>\n",
       "      <td>2020-12-16</td>\n",
       "      <td>2020-12-15</td>\n",
       "      <td>-1</td>\n",
       "      <td>CM</td>\n",
       "      <td>USD</td>\n",
       "      <td>Goods</td>\n",
       "    </tr>\n",
       "  </tbody>\n",
       "</table>\n",
       "<p>3674 rows × 16 columns</p>\n",
       "</div>"
      ],
      "text/plain": [
       "      RECEIPT_METHOD CUSTOMER_NAME CUSTOMER_NUMBER  RECEIPT_DOC_NO  \\\n",
       "148             WIRE     RADW Corp           34647    1.000000e+11   \n",
       "152             WIRE     RADW Corp           34647    1.000000e+11   \n",
       "160             WIRE     REAL Corp            4002    1.000000e+11   \n",
       "161             WIRE     REAL Corp            4002    1.000000e+11   \n",
       "167             WIRE     RADW Corp           34647    1.000000e+11   \n",
       "...              ...           ...             ...             ...   \n",
       "93881           WIRE     SAUD Corp           38035    2.910000e+11   \n",
       "93882           WIRE     SAUD Corp           38035    2.910000e+11   \n",
       "93883           WIRE     SAUD Corp           38035    2.910000e+11   \n",
       "93903           WIRE     SCOP Corp           50801    2.970000e+11   \n",
       "93930           WIRE     PEAR Corp           21144             NaN   \n",
       "\n",
       "      RECEIPT_DATE CLASS CURRENCY_CODE  Local Amount    USD Amount  \\\n",
       "148     2021-04-14   PMT           USD       2345.81   2345.810000   \n",
       "152     2021-04-14   PMT           USD       2345.81   2345.810000   \n",
       "160     2021-04-20   PMT           AED      98247.31  98247.310000   \n",
       "161     2021-04-20   PMT           AED      98247.31  98247.310000   \n",
       "167     2021-04-24   PMT           AED      10861.54  10861.540000   \n",
       "...            ...   ...           ...           ...           ...   \n",
       "93881   2021-05-31   PMT           SAR          0.00      0.000000   \n",
       "93882   2021-05-31   PMT           SAR          0.00      0.000000   \n",
       "93883   2021-05-31   PMT           SAR          0.00      0.000000   \n",
       "93903   2021-06-07   PMT           AED      23875.00   6501.021103   \n",
       "93930   2021-04-01   PMT           USD      59914.50  59914.500000   \n",
       "\n",
       "      INVOICE_ALLOCATED INVOICE_CREATION_DATE   DUE_DATE  PAYMENT_TERM  \\\n",
       "148          1.0021E+11            2021-04-01 2021-03-31            -1   \n",
       "152          1.0021E+11            2021-04-01 2021-03-31            -1   \n",
       "160    PAY1001522100494            2021-03-31 2021-03-01           -30   \n",
       "161    PAY1001522100496            2021-03-31 2021-03-01           -30   \n",
       "167          1.0021E+11            2021-04-01 2021-03-31            -1   \n",
       "...                 ...                   ...        ...           ...   \n",
       "93881        2000006765            2020-06-28 2017-09-06         -1026   \n",
       "93882        2000006917            2020-06-28 2017-09-09         -1023   \n",
       "93883        2000007075            2020-06-28 2017-09-13         -1019   \n",
       "93903        2.9721E+11            2021-03-04 2021-03-01            -3   \n",
       "93930         2.842E+11            2020-12-16 2020-12-15            -1   \n",
       "\n",
       "      INVOICE_CLASS INVOICE_CURRENCY_CODE INVOICE_TYPE  \n",
       "148             INV                   AED    Non Goods  \n",
       "152             INV                   AED    Non Goods  \n",
       "160             INV                   AED    Non Goods  \n",
       "161              CM                   AED    Non Goods  \n",
       "167             INV                   AED    Non Goods  \n",
       "...             ...                   ...          ...  \n",
       "93881           INV                   SAR    Non Goods  \n",
       "93882           INV                   SAR    Non Goods  \n",
       "93883           INV                   SAR    Non Goods  \n",
       "93903           INV                   AED    Non Goods  \n",
       "93930            CM                   USD        Goods  \n",
       "\n",
       "[3674 rows x 16 columns]"
      ]
     },
     "execution_count": 959,
     "metadata": {},
     "output_type": "execute_result"
    }
   ],
   "source": [
    "#Check how many Payment term entries are negative\n",
    "inp0[inp0['PAYMENT_TERM']<0]"
   ]
  },
  {
   "cell_type": "code",
   "execution_count": 960,
   "id": "da93b95c",
   "metadata": {
    "scrolled": true
   },
   "outputs": [
    {
     "data": {
      "text/plain": [
       "count    93914.000000\n",
       "mean        42.254350\n",
       "std         61.357531\n",
       "min      -3622.000000\n",
       "25%         30.000000\n",
       "50%         45.000000\n",
       "75%         60.000000\n",
       "max        365.000000\n",
       "Name: PAYMENT_TERM, dtype: float64"
      ]
     },
     "execution_count": 960,
     "metadata": {},
     "output_type": "execute_result"
    }
   ],
   "source": [
    "inp0['PAYMENT_TERM'].describe()"
   ]
  },
  {
   "cell_type": "markdown",
   "id": "812b8e53",
   "metadata": {},
   "source": [
    "##### Reseting the payment terms for all rows to 0, where payment term is negative (as due date cannot be post invoice generation)"
   ]
  },
  {
   "cell_type": "code",
   "execution_count": 961,
   "id": "c4870d28",
   "metadata": {},
   "outputs": [],
   "source": [
    "inp0['PAYMENT_TERM'] = np.where(inp0['PAYMENT_TERM']<0, 0, inp0['PAYMENT_TERM'])"
   ]
  },
  {
   "cell_type": "code",
   "execution_count": 962,
   "id": "62f8ee59",
   "metadata": {},
   "outputs": [
    {
     "name": "stdout",
     "output_type": "stream",
     "text": [
      "<class 'pandas.core.frame.DataFrame'>\n",
      "Int64Index: 93914 entries, 0 to 93936\n",
      "Data columns (total 16 columns):\n",
      " #   Column                 Non-Null Count  Dtype         \n",
      "---  ------                 --------------  -----         \n",
      " 0   RECEIPT_METHOD         93914 non-null  object        \n",
      " 1   CUSTOMER_NAME          93914 non-null  object        \n",
      " 2   CUSTOMER_NUMBER        93914 non-null  object        \n",
      " 3   RECEIPT_DOC_NO         93885 non-null  float64       \n",
      " 4   RECEIPT_DATE           93914 non-null  datetime64[ns]\n",
      " 5   CLASS                  93914 non-null  object        \n",
      " 6   CURRENCY_CODE          93914 non-null  object        \n",
      " 7   Local Amount           93914 non-null  float64       \n",
      " 8   USD Amount             93914 non-null  float64       \n",
      " 9   INVOICE_ALLOCATED      93914 non-null  object        \n",
      " 10  INVOICE_CREATION_DATE  93914 non-null  datetime64[ns]\n",
      " 11  DUE_DATE               93914 non-null  datetime64[ns]\n",
      " 12  PAYMENT_TERM           93914 non-null  int64         \n",
      " 13  INVOICE_CLASS          93914 non-null  object        \n",
      " 14  INVOICE_CURRENCY_CODE  93914 non-null  object        \n",
      " 15  INVOICE_TYPE           93914 non-null  object        \n",
      "dtypes: datetime64[ns](3), float64(3), int64(1), object(9)\n",
      "memory usage: 12.2+ MB\n"
     ]
    }
   ],
   "source": [
    "inp0.info()"
   ]
  },
  {
   "cell_type": "markdown",
   "id": "d55924e8",
   "metadata": {},
   "source": [
    "##### Dropping rows that have zero or less in invoice amount"
   ]
  },
  {
   "cell_type": "code",
   "execution_count": 963,
   "id": "a849a7a1",
   "metadata": {},
   "outputs": [
    {
     "data": {
      "text/plain": [
       "18016"
      ]
     },
     "execution_count": 963,
     "metadata": {},
     "output_type": "execute_result"
    }
   ],
   "source": [
    "inp0[inp0['USD Amount']<=0].size"
   ]
  },
  {
   "cell_type": "code",
   "execution_count": 964,
   "id": "002ab27e",
   "metadata": {},
   "outputs": [],
   "source": [
    "inp0=inp0[inp0['USD Amount']>0]"
   ]
  },
  {
   "cell_type": "code",
   "execution_count": 965,
   "id": "533948b1",
   "metadata": {},
   "outputs": [
    {
     "data": {
      "text/plain": [
       "(92788, 16)"
      ]
     },
     "execution_count": 965,
     "metadata": {},
     "output_type": "execute_result"
    }
   ],
   "source": [
    "inp0.shape"
   ]
  },
  {
   "cell_type": "code",
   "execution_count": 966,
   "id": "2b60ef1a",
   "metadata": {},
   "outputs": [
    {
     "data": {
      "text/plain": [
       "(92788, 16)"
      ]
     },
     "execution_count": 966,
     "metadata": {},
     "output_type": "execute_result"
    }
   ],
   "source": [
    "inp0.shape"
   ]
  },
  {
   "cell_type": "code",
   "execution_count": 967,
   "id": "9784fced",
   "metadata": {},
   "outputs": [
    {
     "name": "stdout",
     "output_type": "stream",
     "text": [
      "<class 'pandas.core.frame.DataFrame'>\n",
      "Int64Index: 92788 entries, 0 to 93936\n",
      "Data columns (total 16 columns):\n",
      " #   Column                 Non-Null Count  Dtype         \n",
      "---  ------                 --------------  -----         \n",
      " 0   RECEIPT_METHOD         92788 non-null  object        \n",
      " 1   CUSTOMER_NAME          92788 non-null  object        \n",
      " 2   CUSTOMER_NUMBER        92788 non-null  object        \n",
      " 3   RECEIPT_DOC_NO         92759 non-null  float64       \n",
      " 4   RECEIPT_DATE           92788 non-null  datetime64[ns]\n",
      " 5   CLASS                  92788 non-null  object        \n",
      " 6   CURRENCY_CODE          92788 non-null  object        \n",
      " 7   Local Amount           92788 non-null  float64       \n",
      " 8   USD Amount             92788 non-null  float64       \n",
      " 9   INVOICE_ALLOCATED      92788 non-null  object        \n",
      " 10  INVOICE_CREATION_DATE  92788 non-null  datetime64[ns]\n",
      " 11  DUE_DATE               92788 non-null  datetime64[ns]\n",
      " 12  PAYMENT_TERM           92788 non-null  int64         \n",
      " 13  INVOICE_CLASS          92788 non-null  object        \n",
      " 14  INVOICE_CURRENCY_CODE  92788 non-null  object        \n",
      " 15  INVOICE_TYPE           92788 non-null  object        \n",
      "dtypes: datetime64[ns](3), float64(3), int64(1), object(9)\n",
      "memory usage: 12.0+ MB\n"
     ]
    }
   ],
   "source": [
    "inp0.info()"
   ]
  },
  {
   "cell_type": "code",
   "execution_count": 968,
   "id": "bd020d8e",
   "metadata": {
    "scrolled": true
   },
   "outputs": [
    {
     "data": {
      "text/html": [
       "<div>\n",
       "<style scoped>\n",
       "    .dataframe tbody tr th:only-of-type {\n",
       "        vertical-align: middle;\n",
       "    }\n",
       "\n",
       "    .dataframe tbody tr th {\n",
       "        vertical-align: top;\n",
       "    }\n",
       "\n",
       "    .dataframe thead th {\n",
       "        text-align: right;\n",
       "    }\n",
       "</style>\n",
       "<table border=\"1\" class=\"dataframe\">\n",
       "  <thead>\n",
       "    <tr style=\"text-align: right;\">\n",
       "      <th></th>\n",
       "      <th>RECEIPT_METHOD</th>\n",
       "      <th>CUSTOMER_NAME</th>\n",
       "      <th>CUSTOMER_NUMBER</th>\n",
       "      <th>RECEIPT_DOC_NO</th>\n",
       "      <th>RECEIPT_DATE</th>\n",
       "      <th>CLASS</th>\n",
       "      <th>CURRENCY_CODE</th>\n",
       "      <th>Local Amount</th>\n",
       "      <th>USD Amount</th>\n",
       "      <th>INVOICE_ALLOCATED</th>\n",
       "      <th>INVOICE_CREATION_DATE</th>\n",
       "      <th>DUE_DATE</th>\n",
       "      <th>PAYMENT_TERM</th>\n",
       "      <th>INVOICE_CLASS</th>\n",
       "      <th>INVOICE_CURRENCY_CODE</th>\n",
       "      <th>INVOICE_TYPE</th>\n",
       "    </tr>\n",
       "  </thead>\n",
       "  <tbody>\n",
       "    <tr>\n",
       "      <th>0</th>\n",
       "      <td>WIRE</td>\n",
       "      <td>C EA Corp</td>\n",
       "      <td>37403</td>\n",
       "      <td>1.421000e+10</td>\n",
       "      <td>2021-04-20</td>\n",
       "      <td>PMT</td>\n",
       "      <td>USD</td>\n",
       "      <td>370990.92</td>\n",
       "      <td>101018.63040</td>\n",
       "      <td>14200000001</td>\n",
       "      <td>2020-11-02</td>\n",
       "      <td>2020-12-30</td>\n",
       "      <td>58</td>\n",
       "      <td>INV</td>\n",
       "      <td>AED</td>\n",
       "      <td>Non Goods</td>\n",
       "    </tr>\n",
       "    <tr>\n",
       "      <th>1</th>\n",
       "      <td>WIRE</td>\n",
       "      <td>RADW Corp</td>\n",
       "      <td>4003</td>\n",
       "      <td>9.921000e+10</td>\n",
       "      <td>2021-01-31</td>\n",
       "      <td>PMT</td>\n",
       "      <td>SAR</td>\n",
       "      <td>183750.00</td>\n",
       "      <td>48990.21133</td>\n",
       "      <td>99200000043</td>\n",
       "      <td>2020-12-29</td>\n",
       "      <td>2021-01-28</td>\n",
       "      <td>30</td>\n",
       "      <td>INV</td>\n",
       "      <td>SAR</td>\n",
       "      <td>Non Goods</td>\n",
       "    </tr>\n",
       "    <tr>\n",
       "      <th>2</th>\n",
       "      <td>WIRE</td>\n",
       "      <td>RADW Corp</td>\n",
       "      <td>4003</td>\n",
       "      <td>9.921000e+10</td>\n",
       "      <td>2021-01-31</td>\n",
       "      <td>PMT</td>\n",
       "      <td>SAR</td>\n",
       "      <td>157500.00</td>\n",
       "      <td>41991.60971</td>\n",
       "      <td>99210000003</td>\n",
       "      <td>2021-01-30</td>\n",
       "      <td>2021-03-01</td>\n",
       "      <td>30</td>\n",
       "      <td>INV</td>\n",
       "      <td>SAR</td>\n",
       "      <td>Non Goods</td>\n",
       "    </tr>\n",
       "    <tr>\n",
       "      <th>3</th>\n",
       "      <td>WIRE</td>\n",
       "      <td>FARO Corp</td>\n",
       "      <td>1409</td>\n",
       "      <td>9.921000e+10</td>\n",
       "      <td>2021-01-31</td>\n",
       "      <td>PMT</td>\n",
       "      <td>SAR</td>\n",
       "      <td>157500.00</td>\n",
       "      <td>41991.60971</td>\n",
       "      <td>99200000038</td>\n",
       "      <td>2020-12-15</td>\n",
       "      <td>2021-01-14</td>\n",
       "      <td>30</td>\n",
       "      <td>INV</td>\n",
       "      <td>SAR</td>\n",
       "      <td>Non Goods</td>\n",
       "    </tr>\n",
       "    <tr>\n",
       "      <th>4</th>\n",
       "      <td>WIRE</td>\n",
       "      <td>RADW Corp</td>\n",
       "      <td>4003</td>\n",
       "      <td>9.921000e+10</td>\n",
       "      <td>2021-01-31</td>\n",
       "      <td>PMT</td>\n",
       "      <td>SAR</td>\n",
       "      <td>157500.00</td>\n",
       "      <td>41991.60971</td>\n",
       "      <td>99200000039</td>\n",
       "      <td>2020-12-15</td>\n",
       "      <td>2021-01-14</td>\n",
       "      <td>30</td>\n",
       "      <td>INV</td>\n",
       "      <td>SAR</td>\n",
       "      <td>Non Goods</td>\n",
       "    </tr>\n",
       "  </tbody>\n",
       "</table>\n",
       "</div>"
      ],
      "text/plain": [
       "  RECEIPT_METHOD CUSTOMER_NAME CUSTOMER_NUMBER  RECEIPT_DOC_NO RECEIPT_DATE  \\\n",
       "0           WIRE     C EA Corp           37403    1.421000e+10   2021-04-20   \n",
       "1           WIRE     RADW Corp            4003    9.921000e+10   2021-01-31   \n",
       "2           WIRE     RADW Corp            4003    9.921000e+10   2021-01-31   \n",
       "3           WIRE     FARO Corp            1409    9.921000e+10   2021-01-31   \n",
       "4           WIRE     RADW Corp            4003    9.921000e+10   2021-01-31   \n",
       "\n",
       "  CLASS CURRENCY_CODE  Local Amount    USD Amount INVOICE_ALLOCATED  \\\n",
       "0   PMT           USD     370990.92  101018.63040       14200000001   \n",
       "1   PMT           SAR     183750.00   48990.21133       99200000043   \n",
       "2   PMT           SAR     157500.00   41991.60971       99210000003   \n",
       "3   PMT           SAR     157500.00   41991.60971       99200000038   \n",
       "4   PMT           SAR     157500.00   41991.60971       99200000039   \n",
       "\n",
       "  INVOICE_CREATION_DATE   DUE_DATE  PAYMENT_TERM INVOICE_CLASS  \\\n",
       "0            2020-11-02 2020-12-30            58           INV   \n",
       "1            2020-12-29 2021-01-28            30           INV   \n",
       "2            2021-01-30 2021-03-01            30           INV   \n",
       "3            2020-12-15 2021-01-14            30           INV   \n",
       "4            2020-12-15 2021-01-14            30           INV   \n",
       "\n",
       "  INVOICE_CURRENCY_CODE INVOICE_TYPE  \n",
       "0                   AED    Non Goods  \n",
       "1                   SAR    Non Goods  \n",
       "2                   SAR    Non Goods  \n",
       "3                   SAR    Non Goods  \n",
       "4                   SAR    Non Goods  "
      ]
     },
     "execution_count": 968,
     "metadata": {},
     "output_type": "execute_result"
    }
   ],
   "source": [
    "inp0.head()"
   ]
  },
  {
   "cell_type": "markdown",
   "id": "baad23e2",
   "metadata": {},
   "source": [
    "##### Add an Age column for data analysis (days taken to pay post invoice creation)"
   ]
  },
  {
   "cell_type": "code",
   "execution_count": 969,
   "id": "29038127",
   "metadata": {},
   "outputs": [],
   "source": [
    "inp0['AGE'] = inp0['RECEIPT_DATE'] - inp0['INVOICE_CREATION_DATE']"
   ]
  },
  {
   "cell_type": "code",
   "execution_count": 970,
   "id": "ff0cfe7c",
   "metadata": {},
   "outputs": [],
   "source": [
    "inp0['AGE'] = inp0['AGE'].dt.days"
   ]
  },
  {
   "cell_type": "markdown",
   "id": "391df263",
   "metadata": {},
   "source": [
    "##### Reseting the AGE <0 to 0 "
   ]
  },
  {
   "cell_type": "code",
   "execution_count": 971,
   "id": "2808ba1a",
   "metadata": {},
   "outputs": [
    {
     "data": {
      "text/html": [
       "<div>\n",
       "<style scoped>\n",
       "    .dataframe tbody tr th:only-of-type {\n",
       "        vertical-align: middle;\n",
       "    }\n",
       "\n",
       "    .dataframe tbody tr th {\n",
       "        vertical-align: top;\n",
       "    }\n",
       "\n",
       "    .dataframe thead th {\n",
       "        text-align: right;\n",
       "    }\n",
       "</style>\n",
       "<table border=\"1\" class=\"dataframe\">\n",
       "  <thead>\n",
       "    <tr style=\"text-align: right;\">\n",
       "      <th></th>\n",
       "      <th>RECEIPT_METHOD</th>\n",
       "      <th>CUSTOMER_NAME</th>\n",
       "      <th>CUSTOMER_NUMBER</th>\n",
       "      <th>RECEIPT_DOC_NO</th>\n",
       "      <th>RECEIPT_DATE</th>\n",
       "      <th>CLASS</th>\n",
       "      <th>CURRENCY_CODE</th>\n",
       "      <th>Local Amount</th>\n",
       "      <th>USD Amount</th>\n",
       "      <th>INVOICE_ALLOCATED</th>\n",
       "      <th>INVOICE_CREATION_DATE</th>\n",
       "      <th>DUE_DATE</th>\n",
       "      <th>PAYMENT_TERM</th>\n",
       "      <th>INVOICE_CLASS</th>\n",
       "      <th>INVOICE_CURRENCY_CODE</th>\n",
       "      <th>INVOICE_TYPE</th>\n",
       "      <th>AGE</th>\n",
       "    </tr>\n",
       "  </thead>\n",
       "  <tbody>\n",
       "    <tr>\n",
       "      <th>56</th>\n",
       "      <td>WIRE</td>\n",
       "      <td>QATA Corp</td>\n",
       "      <td>2273</td>\n",
       "      <td>1.000000e+11</td>\n",
       "      <td>2021-01-19</td>\n",
       "      <td>PMT</td>\n",
       "      <td>AED</td>\n",
       "      <td>38302.39</td>\n",
       "      <td>38302.390000</td>\n",
       "      <td>1.0021E+11</td>\n",
       "      <td>2021-01-28</td>\n",
       "      <td>2021-01-28</td>\n",
       "      <td>0</td>\n",
       "      <td>CM</td>\n",
       "      <td>USD</td>\n",
       "      <td>Non Goods</td>\n",
       "      <td>-9</td>\n",
       "    </tr>\n",
       "    <tr>\n",
       "      <th>211</th>\n",
       "      <td>WIRE</td>\n",
       "      <td>QATA Corp</td>\n",
       "      <td>2273</td>\n",
       "      <td>1.000000e+11</td>\n",
       "      <td>2021-06-22</td>\n",
       "      <td>PMT</td>\n",
       "      <td>AED</td>\n",
       "      <td>66940.58</td>\n",
       "      <td>66940.580000</td>\n",
       "      <td>1.0021E+11</td>\n",
       "      <td>2021-06-24</td>\n",
       "      <td>2021-06-22</td>\n",
       "      <td>0</td>\n",
       "      <td>CM</td>\n",
       "      <td>USD</td>\n",
       "      <td>Non Goods</td>\n",
       "      <td>-2</td>\n",
       "    </tr>\n",
       "    <tr>\n",
       "      <th>281</th>\n",
       "      <td>CHEQUE</td>\n",
       "      <td>MALI Corp</td>\n",
       "      <td>42223</td>\n",
       "      <td>1.010000e+11</td>\n",
       "      <td>2021-01-05</td>\n",
       "      <td>PMT</td>\n",
       "      <td>SAR</td>\n",
       "      <td>111918.00</td>\n",
       "      <td>29838.837940</td>\n",
       "      <td>1.0121E+11</td>\n",
       "      <td>2021-01-12</td>\n",
       "      <td>2021-02-15</td>\n",
       "      <td>34</td>\n",
       "      <td>INV</td>\n",
       "      <td>SAR</td>\n",
       "      <td>Goods</td>\n",
       "      <td>-7</td>\n",
       "    </tr>\n",
       "    <tr>\n",
       "      <th>286</th>\n",
       "      <td>WIRE</td>\n",
       "      <td>MANF Corp</td>\n",
       "      <td>48601</td>\n",
       "      <td>1.010000e+11</td>\n",
       "      <td>2021-01-05</td>\n",
       "      <td>PMT</td>\n",
       "      <td>SAR</td>\n",
       "      <td>50000.00</td>\n",
       "      <td>13330.669750</td>\n",
       "      <td>1.0121E+11</td>\n",
       "      <td>2021-01-09</td>\n",
       "      <td>2021-01-09</td>\n",
       "      <td>0</td>\n",
       "      <td>INV</td>\n",
       "      <td>SAR</td>\n",
       "      <td>Goods</td>\n",
       "      <td>-4</td>\n",
       "    </tr>\n",
       "    <tr>\n",
       "      <th>288</th>\n",
       "      <td>WIRE</td>\n",
       "      <td>MANF Corp</td>\n",
       "      <td>48601</td>\n",
       "      <td>1.010000e+11</td>\n",
       "      <td>2021-01-06</td>\n",
       "      <td>PMT</td>\n",
       "      <td>SAR</td>\n",
       "      <td>50000.00</td>\n",
       "      <td>13330.669750</td>\n",
       "      <td>1.0121E+11</td>\n",
       "      <td>2021-01-09</td>\n",
       "      <td>2021-01-09</td>\n",
       "      <td>0</td>\n",
       "      <td>INV</td>\n",
       "      <td>SAR</td>\n",
       "      <td>Goods</td>\n",
       "      <td>-3</td>\n",
       "    </tr>\n",
       "    <tr>\n",
       "      <th>...</th>\n",
       "      <td>...</td>\n",
       "      <td>...</td>\n",
       "      <td>...</td>\n",
       "      <td>...</td>\n",
       "      <td>...</td>\n",
       "      <td>...</td>\n",
       "      <td>...</td>\n",
       "      <td>...</td>\n",
       "      <td>...</td>\n",
       "      <td>...</td>\n",
       "      <td>...</td>\n",
       "      <td>...</td>\n",
       "      <td>...</td>\n",
       "      <td>...</td>\n",
       "      <td>...</td>\n",
       "      <td>...</td>\n",
       "      <td>...</td>\n",
       "    </tr>\n",
       "    <tr>\n",
       "      <th>91522</th>\n",
       "      <td>WIRE</td>\n",
       "      <td>NOON Corp</td>\n",
       "      <td>38297</td>\n",
       "      <td>2.820000e+11</td>\n",
       "      <td>2021-05-24</td>\n",
       "      <td>PMT</td>\n",
       "      <td>AED</td>\n",
       "      <td>9343.36</td>\n",
       "      <td>2544.141593</td>\n",
       "      <td>2.8221E+11</td>\n",
       "      <td>2021-06-15</td>\n",
       "      <td>2021-08-30</td>\n",
       "      <td>76</td>\n",
       "      <td>INV</td>\n",
       "      <td>AED</td>\n",
       "      <td>Goods</td>\n",
       "      <td>-22</td>\n",
       "    </tr>\n",
       "    <tr>\n",
       "      <th>91523</th>\n",
       "      <td>WIRE</td>\n",
       "      <td>NOON Corp</td>\n",
       "      <td>38297</td>\n",
       "      <td>2.820000e+11</td>\n",
       "      <td>2021-05-24</td>\n",
       "      <td>PMT</td>\n",
       "      <td>AED</td>\n",
       "      <td>9343.36</td>\n",
       "      <td>2544.141593</td>\n",
       "      <td>2.8221E+11</td>\n",
       "      <td>2021-06-20</td>\n",
       "      <td>2021-08-30</td>\n",
       "      <td>71</td>\n",
       "      <td>INV</td>\n",
       "      <td>AED</td>\n",
       "      <td>Goods</td>\n",
       "      <td>-27</td>\n",
       "    </tr>\n",
       "    <tr>\n",
       "      <th>91524</th>\n",
       "      <td>WIRE</td>\n",
       "      <td>NOON Corp</td>\n",
       "      <td>38297</td>\n",
       "      <td>2.820000e+11</td>\n",
       "      <td>2021-05-24</td>\n",
       "      <td>PMT</td>\n",
       "      <td>AED</td>\n",
       "      <td>9343.36</td>\n",
       "      <td>2544.141593</td>\n",
       "      <td>2.8221E+11</td>\n",
       "      <td>2021-06-15</td>\n",
       "      <td>2021-08-30</td>\n",
       "      <td>76</td>\n",
       "      <td>INV</td>\n",
       "      <td>AED</td>\n",
       "      <td>Goods</td>\n",
       "      <td>-22</td>\n",
       "    </tr>\n",
       "    <tr>\n",
       "      <th>91525</th>\n",
       "      <td>WIRE</td>\n",
       "      <td>NOON Corp</td>\n",
       "      <td>38297</td>\n",
       "      <td>2.820000e+11</td>\n",
       "      <td>2021-05-24</td>\n",
       "      <td>PMT</td>\n",
       "      <td>AED</td>\n",
       "      <td>9533.40</td>\n",
       "      <td>2595.888359</td>\n",
       "      <td>2.8221E+11</td>\n",
       "      <td>2021-06-15</td>\n",
       "      <td>2021-08-30</td>\n",
       "      <td>76</td>\n",
       "      <td>INV</td>\n",
       "      <td>AED</td>\n",
       "      <td>Goods</td>\n",
       "      <td>-22</td>\n",
       "    </tr>\n",
       "    <tr>\n",
       "      <th>92767</th>\n",
       "      <td>CHEQUE</td>\n",
       "      <td>BULG Corp</td>\n",
       "      <td>52040</td>\n",
       "      <td>2.840000e+11</td>\n",
       "      <td>2021-04-25</td>\n",
       "      <td>PMT</td>\n",
       "      <td>AED</td>\n",
       "      <td>4140.23</td>\n",
       "      <td>4140.230000</td>\n",
       "      <td>2.8421E+11</td>\n",
       "      <td>2021-04-27</td>\n",
       "      <td>2021-05-27</td>\n",
       "      <td>30</td>\n",
       "      <td>INV</td>\n",
       "      <td>AED</td>\n",
       "      <td>Goods</td>\n",
       "      <td>-2</td>\n",
       "    </tr>\n",
       "  </tbody>\n",
       "</table>\n",
       "<p>1375 rows × 17 columns</p>\n",
       "</div>"
      ],
      "text/plain": [
       "      RECEIPT_METHOD CUSTOMER_NAME CUSTOMER_NUMBER  RECEIPT_DOC_NO  \\\n",
       "56              WIRE     QATA Corp            2273    1.000000e+11   \n",
       "211             WIRE     QATA Corp            2273    1.000000e+11   \n",
       "281           CHEQUE     MALI Corp           42223    1.010000e+11   \n",
       "286             WIRE     MANF Corp           48601    1.010000e+11   \n",
       "288             WIRE     MANF Corp           48601    1.010000e+11   \n",
       "...              ...           ...             ...             ...   \n",
       "91522           WIRE     NOON Corp           38297    2.820000e+11   \n",
       "91523           WIRE     NOON Corp           38297    2.820000e+11   \n",
       "91524           WIRE     NOON Corp           38297    2.820000e+11   \n",
       "91525           WIRE     NOON Corp           38297    2.820000e+11   \n",
       "92767         CHEQUE     BULG Corp           52040    2.840000e+11   \n",
       "\n",
       "      RECEIPT_DATE CLASS CURRENCY_CODE  Local Amount    USD Amount  \\\n",
       "56      2021-01-19   PMT           AED      38302.39  38302.390000   \n",
       "211     2021-06-22   PMT           AED      66940.58  66940.580000   \n",
       "281     2021-01-05   PMT           SAR     111918.00  29838.837940   \n",
       "286     2021-01-05   PMT           SAR      50000.00  13330.669750   \n",
       "288     2021-01-06   PMT           SAR      50000.00  13330.669750   \n",
       "...            ...   ...           ...           ...           ...   \n",
       "91522   2021-05-24   PMT           AED       9343.36   2544.141593   \n",
       "91523   2021-05-24   PMT           AED       9343.36   2544.141593   \n",
       "91524   2021-05-24   PMT           AED       9343.36   2544.141593   \n",
       "91525   2021-05-24   PMT           AED       9533.40   2595.888359   \n",
       "92767   2021-04-25   PMT           AED       4140.23   4140.230000   \n",
       "\n",
       "      INVOICE_ALLOCATED INVOICE_CREATION_DATE   DUE_DATE  PAYMENT_TERM  \\\n",
       "56           1.0021E+11            2021-01-28 2021-01-28             0   \n",
       "211          1.0021E+11            2021-06-24 2021-06-22             0   \n",
       "281          1.0121E+11            2021-01-12 2021-02-15            34   \n",
       "286          1.0121E+11            2021-01-09 2021-01-09             0   \n",
       "288          1.0121E+11            2021-01-09 2021-01-09             0   \n",
       "...                 ...                   ...        ...           ...   \n",
       "91522        2.8221E+11            2021-06-15 2021-08-30            76   \n",
       "91523        2.8221E+11            2021-06-20 2021-08-30            71   \n",
       "91524        2.8221E+11            2021-06-15 2021-08-30            76   \n",
       "91525        2.8221E+11            2021-06-15 2021-08-30            76   \n",
       "92767        2.8421E+11            2021-04-27 2021-05-27            30   \n",
       "\n",
       "      INVOICE_CLASS INVOICE_CURRENCY_CODE INVOICE_TYPE  AGE  \n",
       "56               CM                   USD    Non Goods   -9  \n",
       "211              CM                   USD    Non Goods   -2  \n",
       "281             INV                   SAR        Goods   -7  \n",
       "286             INV                   SAR        Goods   -4  \n",
       "288             INV                   SAR        Goods   -3  \n",
       "...             ...                   ...          ...  ...  \n",
       "91522           INV                   AED        Goods  -22  \n",
       "91523           INV                   AED        Goods  -27  \n",
       "91524           INV                   AED        Goods  -22  \n",
       "91525           INV                   AED        Goods  -22  \n",
       "92767           INV                   AED        Goods   -2  \n",
       "\n",
       "[1375 rows x 17 columns]"
      ]
     },
     "execution_count": 971,
     "metadata": {},
     "output_type": "execute_result"
    }
   ],
   "source": [
    "inp0[inp0['AGE']<0]"
   ]
  },
  {
   "cell_type": "code",
   "execution_count": 972,
   "id": "3fed5126",
   "metadata": {},
   "outputs": [],
   "source": [
    "inp0['AGE'] = np.where(inp0['AGE']<0, 0, inp0['AGE'])"
   ]
  },
  {
   "cell_type": "markdown",
   "id": "bcf0a868",
   "metadata": {},
   "source": [
    " #### Create Target variable ('1' indicates late payments and '0' indicates ontime payments)"
   ]
  },
  {
   "cell_type": "code",
   "execution_count": 973,
   "id": "cb649b6a",
   "metadata": {},
   "outputs": [],
   "source": [
    "inp0['TARGET'] = np.where(inp0['RECEIPT_DATE']>inp0['DUE_DATE'], 1,0 )"
   ]
  },
  {
   "cell_type": "code",
   "execution_count": 974,
   "id": "deb73e94",
   "metadata": {},
   "outputs": [
    {
     "data": {
      "text/html": [
       "<div>\n",
       "<style scoped>\n",
       "    .dataframe tbody tr th:only-of-type {\n",
       "        vertical-align: middle;\n",
       "    }\n",
       "\n",
       "    .dataframe tbody tr th {\n",
       "        vertical-align: top;\n",
       "    }\n",
       "\n",
       "    .dataframe thead th {\n",
       "        text-align: right;\n",
       "    }\n",
       "</style>\n",
       "<table border=\"1\" class=\"dataframe\">\n",
       "  <thead>\n",
       "    <tr style=\"text-align: right;\">\n",
       "      <th></th>\n",
       "      <th>RECEIPT_METHOD</th>\n",
       "      <th>CUSTOMER_NAME</th>\n",
       "      <th>CUSTOMER_NUMBER</th>\n",
       "      <th>RECEIPT_DOC_NO</th>\n",
       "      <th>RECEIPT_DATE</th>\n",
       "      <th>CLASS</th>\n",
       "      <th>CURRENCY_CODE</th>\n",
       "      <th>Local Amount</th>\n",
       "      <th>USD Amount</th>\n",
       "      <th>INVOICE_ALLOCATED</th>\n",
       "      <th>INVOICE_CREATION_DATE</th>\n",
       "      <th>DUE_DATE</th>\n",
       "      <th>PAYMENT_TERM</th>\n",
       "      <th>INVOICE_CLASS</th>\n",
       "      <th>INVOICE_CURRENCY_CODE</th>\n",
       "      <th>INVOICE_TYPE</th>\n",
       "      <th>AGE</th>\n",
       "      <th>TARGET</th>\n",
       "    </tr>\n",
       "  </thead>\n",
       "  <tbody>\n",
       "    <tr>\n",
       "      <th>0</th>\n",
       "      <td>WIRE</td>\n",
       "      <td>C EA Corp</td>\n",
       "      <td>37403</td>\n",
       "      <td>1.421000e+10</td>\n",
       "      <td>2021-04-20</td>\n",
       "      <td>PMT</td>\n",
       "      <td>USD</td>\n",
       "      <td>370990.92</td>\n",
       "      <td>101018.63040</td>\n",
       "      <td>14200000001</td>\n",
       "      <td>2020-11-02</td>\n",
       "      <td>2020-12-30</td>\n",
       "      <td>58</td>\n",
       "      <td>INV</td>\n",
       "      <td>AED</td>\n",
       "      <td>Non Goods</td>\n",
       "      <td>169</td>\n",
       "      <td>1</td>\n",
       "    </tr>\n",
       "    <tr>\n",
       "      <th>1</th>\n",
       "      <td>WIRE</td>\n",
       "      <td>RADW Corp</td>\n",
       "      <td>4003</td>\n",
       "      <td>9.921000e+10</td>\n",
       "      <td>2021-01-31</td>\n",
       "      <td>PMT</td>\n",
       "      <td>SAR</td>\n",
       "      <td>183750.00</td>\n",
       "      <td>48990.21133</td>\n",
       "      <td>99200000043</td>\n",
       "      <td>2020-12-29</td>\n",
       "      <td>2021-01-28</td>\n",
       "      <td>30</td>\n",
       "      <td>INV</td>\n",
       "      <td>SAR</td>\n",
       "      <td>Non Goods</td>\n",
       "      <td>33</td>\n",
       "      <td>1</td>\n",
       "    </tr>\n",
       "    <tr>\n",
       "      <th>2</th>\n",
       "      <td>WIRE</td>\n",
       "      <td>RADW Corp</td>\n",
       "      <td>4003</td>\n",
       "      <td>9.921000e+10</td>\n",
       "      <td>2021-01-31</td>\n",
       "      <td>PMT</td>\n",
       "      <td>SAR</td>\n",
       "      <td>157500.00</td>\n",
       "      <td>41991.60971</td>\n",
       "      <td>99210000003</td>\n",
       "      <td>2021-01-30</td>\n",
       "      <td>2021-03-01</td>\n",
       "      <td>30</td>\n",
       "      <td>INV</td>\n",
       "      <td>SAR</td>\n",
       "      <td>Non Goods</td>\n",
       "      <td>1</td>\n",
       "      <td>0</td>\n",
       "    </tr>\n",
       "    <tr>\n",
       "      <th>3</th>\n",
       "      <td>WIRE</td>\n",
       "      <td>FARO Corp</td>\n",
       "      <td>1409</td>\n",
       "      <td>9.921000e+10</td>\n",
       "      <td>2021-01-31</td>\n",
       "      <td>PMT</td>\n",
       "      <td>SAR</td>\n",
       "      <td>157500.00</td>\n",
       "      <td>41991.60971</td>\n",
       "      <td>99200000038</td>\n",
       "      <td>2020-12-15</td>\n",
       "      <td>2021-01-14</td>\n",
       "      <td>30</td>\n",
       "      <td>INV</td>\n",
       "      <td>SAR</td>\n",
       "      <td>Non Goods</td>\n",
       "      <td>47</td>\n",
       "      <td>1</td>\n",
       "    </tr>\n",
       "    <tr>\n",
       "      <th>4</th>\n",
       "      <td>WIRE</td>\n",
       "      <td>RADW Corp</td>\n",
       "      <td>4003</td>\n",
       "      <td>9.921000e+10</td>\n",
       "      <td>2021-01-31</td>\n",
       "      <td>PMT</td>\n",
       "      <td>SAR</td>\n",
       "      <td>157500.00</td>\n",
       "      <td>41991.60971</td>\n",
       "      <td>99200000039</td>\n",
       "      <td>2020-12-15</td>\n",
       "      <td>2021-01-14</td>\n",
       "      <td>30</td>\n",
       "      <td>INV</td>\n",
       "      <td>SAR</td>\n",
       "      <td>Non Goods</td>\n",
       "      <td>47</td>\n",
       "      <td>1</td>\n",
       "    </tr>\n",
       "  </tbody>\n",
       "</table>\n",
       "</div>"
      ],
      "text/plain": [
       "  RECEIPT_METHOD CUSTOMER_NAME CUSTOMER_NUMBER  RECEIPT_DOC_NO RECEIPT_DATE  \\\n",
       "0           WIRE     C EA Corp           37403    1.421000e+10   2021-04-20   \n",
       "1           WIRE     RADW Corp            4003    9.921000e+10   2021-01-31   \n",
       "2           WIRE     RADW Corp            4003    9.921000e+10   2021-01-31   \n",
       "3           WIRE     FARO Corp            1409    9.921000e+10   2021-01-31   \n",
       "4           WIRE     RADW Corp            4003    9.921000e+10   2021-01-31   \n",
       "\n",
       "  CLASS CURRENCY_CODE  Local Amount    USD Amount INVOICE_ALLOCATED  \\\n",
       "0   PMT           USD     370990.92  101018.63040       14200000001   \n",
       "1   PMT           SAR     183750.00   48990.21133       99200000043   \n",
       "2   PMT           SAR     157500.00   41991.60971       99210000003   \n",
       "3   PMT           SAR     157500.00   41991.60971       99200000038   \n",
       "4   PMT           SAR     157500.00   41991.60971       99200000039   \n",
       "\n",
       "  INVOICE_CREATION_DATE   DUE_DATE  PAYMENT_TERM INVOICE_CLASS  \\\n",
       "0            2020-11-02 2020-12-30            58           INV   \n",
       "1            2020-12-29 2021-01-28            30           INV   \n",
       "2            2021-01-30 2021-03-01            30           INV   \n",
       "3            2020-12-15 2021-01-14            30           INV   \n",
       "4            2020-12-15 2021-01-14            30           INV   \n",
       "\n",
       "  INVOICE_CURRENCY_CODE INVOICE_TYPE  AGE  TARGET  \n",
       "0                   AED    Non Goods  169       1  \n",
       "1                   SAR    Non Goods   33       1  \n",
       "2                   SAR    Non Goods    1       0  \n",
       "3                   SAR    Non Goods   47       1  \n",
       "4                   SAR    Non Goods   47       1  "
      ]
     },
     "execution_count": 974,
     "metadata": {},
     "output_type": "execute_result"
    }
   ],
   "source": [
    "inp0.head()"
   ]
  },
  {
   "cell_type": "code",
   "execution_count": 975,
   "id": "9e3078a1",
   "metadata": {},
   "outputs": [
    {
     "name": "stdout",
     "output_type": "stream",
     "text": [
      "<class 'pandas.core.frame.DataFrame'>\n",
      "Int64Index: 92788 entries, 0 to 93936\n",
      "Data columns (total 18 columns):\n",
      " #   Column                 Non-Null Count  Dtype         \n",
      "---  ------                 --------------  -----         \n",
      " 0   RECEIPT_METHOD         92788 non-null  object        \n",
      " 1   CUSTOMER_NAME          92788 non-null  object        \n",
      " 2   CUSTOMER_NUMBER        92788 non-null  object        \n",
      " 3   RECEIPT_DOC_NO         92759 non-null  float64       \n",
      " 4   RECEIPT_DATE           92788 non-null  datetime64[ns]\n",
      " 5   CLASS                  92788 non-null  object        \n",
      " 6   CURRENCY_CODE          92788 non-null  object        \n",
      " 7   Local Amount           92788 non-null  float64       \n",
      " 8   USD Amount             92788 non-null  float64       \n",
      " 9   INVOICE_ALLOCATED      92788 non-null  object        \n",
      " 10  INVOICE_CREATION_DATE  92788 non-null  datetime64[ns]\n",
      " 11  DUE_DATE               92788 non-null  datetime64[ns]\n",
      " 12  PAYMENT_TERM           92788 non-null  int64         \n",
      " 13  INVOICE_CLASS          92788 non-null  object        \n",
      " 14  INVOICE_CURRENCY_CODE  92788 non-null  object        \n",
      " 15  INVOICE_TYPE           92788 non-null  object        \n",
      " 16  AGE                    92788 non-null  int64         \n",
      " 17  TARGET                 92788 non-null  int32         \n",
      "dtypes: datetime64[ns](3), float64(3), int32(1), int64(2), object(9)\n",
      "memory usage: 13.1+ MB\n"
     ]
    }
   ],
   "source": [
    "inp0.info()"
   ]
  },
  {
   "cell_type": "markdown",
   "id": "651364af",
   "metadata": {},
   "source": [
    "### <font color=blue>2. Data Analysis</font>"
   ]
  },
  {
   "cell_type": "code",
   "execution_count": 976,
   "id": "74a859b3",
   "metadata": {},
   "outputs": [
    {
     "data": {
      "text/html": [
       "<div>\n",
       "<style scoped>\n",
       "    .dataframe tbody tr th:only-of-type {\n",
       "        vertical-align: middle;\n",
       "    }\n",
       "\n",
       "    .dataframe tbody tr th {\n",
       "        vertical-align: top;\n",
       "    }\n",
       "\n",
       "    .dataframe thead th {\n",
       "        text-align: right;\n",
       "    }\n",
       "</style>\n",
       "<table border=\"1\" class=\"dataframe\">\n",
       "  <thead>\n",
       "    <tr style=\"text-align: right;\">\n",
       "      <th></th>\n",
       "      <th>RECEIPT_DOC_NO</th>\n",
       "      <th>Local Amount</th>\n",
       "      <th>USD Amount</th>\n",
       "      <th>PAYMENT_TERM</th>\n",
       "      <th>AGE</th>\n",
       "      <th>TARGET</th>\n",
       "    </tr>\n",
       "  </thead>\n",
       "  <tbody>\n",
       "    <tr>\n",
       "      <th>count</th>\n",
       "      <td>9.275900e+04</td>\n",
       "      <td>9.278800e+04</td>\n",
       "      <td>9.278800e+04</td>\n",
       "      <td>92788.000000</td>\n",
       "      <td>92788.000000</td>\n",
       "      <td>92788.000000</td>\n",
       "    </tr>\n",
       "    <tr>\n",
       "      <th>mean</th>\n",
       "      <td>1.581998e+11</td>\n",
       "      <td>1.079641e+06</td>\n",
       "      <td>5.377440e+05</td>\n",
       "      <td>45.841542</td>\n",
       "      <td>111.161045</td>\n",
       "      <td>0.656443</td>\n",
       "    </tr>\n",
       "    <tr>\n",
       "      <th>std</th>\n",
       "      <td>3.829402e+10</td>\n",
       "      <td>1.551885e+06</td>\n",
       "      <td>9.549053e+05</td>\n",
       "      <td>27.166422</td>\n",
       "      <td>187.513393</td>\n",
       "      <td>0.474898</td>\n",
       "    </tr>\n",
       "    <tr>\n",
       "      <th>min</th>\n",
       "      <td>1.421000e+10</td>\n",
       "      <td>4.830000e+00</td>\n",
       "      <td>1.287743e+00</td>\n",
       "      <td>0.000000</td>\n",
       "      <td>0.000000</td>\n",
       "      <td>0.000000</td>\n",
       "    </tr>\n",
       "    <tr>\n",
       "      <th>25%</th>\n",
       "      <td>1.470000e+11</td>\n",
       "      <td>9.055659e+04</td>\n",
       "      <td>4.034563e+04</td>\n",
       "      <td>30.000000</td>\n",
       "      <td>39.000000</td>\n",
       "      <td>0.000000</td>\n",
       "    </tr>\n",
       "    <tr>\n",
       "      <th>50%</th>\n",
       "      <td>1.510000e+11</td>\n",
       "      <td>4.160992e+05</td>\n",
       "      <td>1.915275e+05</td>\n",
       "      <td>45.000000</td>\n",
       "      <td>64.000000</td>\n",
       "      <td>1.000000</td>\n",
       "    </tr>\n",
       "    <tr>\n",
       "      <th>75%</th>\n",
       "      <td>1.690000e+11</td>\n",
       "      <td>1.465108e+06</td>\n",
       "      <td>5.996137e+05</td>\n",
       "      <td>60.000000</td>\n",
       "      <td>89.000000</td>\n",
       "      <td>1.000000</td>\n",
       "    </tr>\n",
       "    <tr>\n",
       "      <th>max</th>\n",
       "      <td>2.970000e+11</td>\n",
       "      <td>1.084983e+07</td>\n",
       "      <td>1.084983e+07</td>\n",
       "      <td>365.000000</td>\n",
       "      <td>2315.000000</td>\n",
       "      <td>1.000000</td>\n",
       "    </tr>\n",
       "  </tbody>\n",
       "</table>\n",
       "</div>"
      ],
      "text/plain": [
       "       RECEIPT_DOC_NO  Local Amount    USD Amount  PAYMENT_TERM           AGE  \\\n",
       "count    9.275900e+04  9.278800e+04  9.278800e+04  92788.000000  92788.000000   \n",
       "mean     1.581998e+11  1.079641e+06  5.377440e+05     45.841542    111.161045   \n",
       "std      3.829402e+10  1.551885e+06  9.549053e+05     27.166422    187.513393   \n",
       "min      1.421000e+10  4.830000e+00  1.287743e+00      0.000000      0.000000   \n",
       "25%      1.470000e+11  9.055659e+04  4.034563e+04     30.000000     39.000000   \n",
       "50%      1.510000e+11  4.160992e+05  1.915275e+05     45.000000     64.000000   \n",
       "75%      1.690000e+11  1.465108e+06  5.996137e+05     60.000000     89.000000   \n",
       "max      2.970000e+11  1.084983e+07  1.084983e+07    365.000000   2315.000000   \n",
       "\n",
       "             TARGET  \n",
       "count  92788.000000  \n",
       "mean       0.656443  \n",
       "std        0.474898  \n",
       "min        0.000000  \n",
       "25%        0.000000  \n",
       "50%        1.000000  \n",
       "75%        1.000000  \n",
       "max        1.000000  "
      ]
     },
     "execution_count": 976,
     "metadata": {},
     "output_type": "execute_result"
    }
   ],
   "source": [
    "inp0.describe()"
   ]
  },
  {
   "cell_type": "code",
   "execution_count": 977,
   "id": "51a3c605",
   "metadata": {},
   "outputs": [
    {
     "data": {
      "text/plain": [
       "count    9.278800e+04\n",
       "mean     5.377440e+05\n",
       "std      9.549053e+05\n",
       "min      1.287743e+00\n",
       "25%      4.034563e+04\n",
       "50%      1.915275e+05\n",
       "75%      5.996137e+05\n",
       "max      1.084983e+07\n",
       "Name: USD Amount, dtype: float64"
      ]
     },
     "execution_count": 977,
     "metadata": {},
     "output_type": "execute_result"
    }
   ],
   "source": [
    "inp0['USD Amount'].describe()"
   ]
  },
  {
   "cell_type": "markdown",
   "id": "fb0a635d",
   "metadata": {},
   "source": [
    "#### Analyzing columns USD Amount"
   ]
  },
  {
   "cell_type": "code",
   "execution_count": 978,
   "id": "b58a62a1",
   "metadata": {
    "scrolled": true
   },
   "outputs": [
    {
     "data": {
      "image/png": "[encoded data removed]",
      "text/plain": [
       "<Figure size 432x288 with 1 Axes>"
      ]
     },
     "metadata": {
      "needs_background": "light"
     },
     "output_type": "display_data"
    }
   ],
   "source": [
    "sns.boxplot(inp0['USD Amount'])\n",
    "plt.show()"
   ]
  },
  {
   "cell_type": "markdown",
   "id": "ded52b7e",
   "metadata": {},
   "source": [
    "##### Median of the trasaction amount is 20,000 USD. There are few outliers with large amounts"
   ]
  },
  {
   "cell_type": "code",
   "execution_count": 979,
   "id": "e25e0809",
   "metadata": {},
   "outputs": [
    {
     "data": {
      "text/plain": [
       "Goods        0.717183\n",
       "Non Goods    0.282817\n",
       "Name: INVOICE_TYPE, dtype: float64"
      ]
     },
     "execution_count": 979,
     "metadata": {},
     "output_type": "execute_result"
    }
   ],
   "source": [
    "inp0.INVOICE_TYPE.value_counts(normalize=True)"
   ]
  },
  {
   "cell_type": "code",
   "execution_count": 980,
   "id": "5d82ad03",
   "metadata": {},
   "outputs": [
    {
     "data": {
      "text/plain": [
       "count    92788.000000\n",
       "mean        45.841542\n",
       "std         27.166422\n",
       "min          0.000000\n",
       "25%         30.000000\n",
       "50%         45.000000\n",
       "75%         60.000000\n",
       "max        365.000000\n",
       "Name: PAYMENT_TERM, dtype: float64"
      ]
     },
     "execution_count": 980,
     "metadata": {},
     "output_type": "execute_result"
    }
   ],
   "source": [
    "inp0.PAYMENT_TERM.describe()"
   ]
  },
  {
   "cell_type": "code",
   "execution_count": 981,
   "id": "41bbc78f",
   "metadata": {
    "scrolled": false
   },
   "outputs": [
    {
     "data": {
      "image/png": "[encoded data removed]",
      "text/plain": [
       "<Figure size 432x288 with 1 Axes>"
      ]
     },
     "metadata": {
      "needs_background": "light"
     },
     "output_type": "display_data"
    }
   ],
   "source": [
    "sns.boxplot(inp0['PAYMENT_TERM'])\n",
    "plt.show()"
   ]
  },
  {
   "cell_type": "markdown",
   "id": "9b2551c4",
   "metadata": {},
   "source": [
    "##### 75% of the payment terms are less than 60 days"
   ]
  },
  {
   "cell_type": "code",
   "execution_count": 982,
   "id": "8c053ed0",
   "metadata": {},
   "outputs": [
    {
     "data": {
      "image/png": "[encoded data removed]",
      "text/plain": [
       "<Figure size 432x288 with 1 Axes>"
      ]
     },
     "metadata": {
      "needs_background": "light"
     },
     "output_type": "display_data"
    }
   ],
   "source": [
    "sns.boxplot(inp0['AGE'])\n",
    "plt.show()"
   ]
  },
  {
   "cell_type": "code",
   "execution_count": 983,
   "id": "38805dcc",
   "metadata": {},
   "outputs": [
    {
     "data": {
      "text/plain": [
       "count    92788.000000\n",
       "mean       111.161045\n",
       "std        187.513393\n",
       "min          0.000000\n",
       "25%         39.000000\n",
       "50%         64.000000\n",
       "75%         89.000000\n",
       "max       2315.000000\n",
       "Name: AGE, dtype: float64"
      ]
     },
     "execution_count": 983,
     "metadata": {},
     "output_type": "execute_result"
    }
   ],
   "source": [
    "inp0['AGE'].describe()"
   ]
  },
  {
   "cell_type": "code",
   "execution_count": 984,
   "id": "0b396c2a",
   "metadata": {},
   "outputs": [
    {
     "data": {
      "text/plain": [
       "1    0.656443\n",
       "0    0.343557\n",
       "Name: TARGET, dtype: float64"
      ]
     },
     "execution_count": 984,
     "metadata": {},
     "output_type": "execute_result"
    }
   ],
   "source": [
    "inp0.TARGET.value_counts(normalize=True)"
   ]
  },
  {
   "cell_type": "code",
   "execution_count": 985,
   "id": "9cbb5559",
   "metadata": {},
   "outputs": [
    {
     "data": {
      "image/png": "[encoded data removed]",
      "text/plain": [
       "<Figure size 432x288 with 1 Axes>"
      ]
     },
     "metadata": {},
     "output_type": "display_data"
    }
   ],
   "source": [
    "inp0.TARGET.value_counts(normalize= True).plot.pie(autopct='%1.1f%%')\n",
    "plt.show()"
   ]
  },
  {
   "cell_type": "markdown",
   "id": "5553a99e",
   "metadata": {},
   "source": [
    "##### 65.6% of the transaction end up in late payments, while 34.4% make ontime payments"
   ]
  },
  {
   "cell_type": "code",
   "execution_count": 986,
   "id": "1f43dafa",
   "metadata": {},
   "outputs": [],
   "source": [
    "def univariate_box(df,col):\n",
    "    plt.figure(figsize=(8,6)) \n",
    "    sns.boxplot(data=df, x=col)\n",
    "    plt.title('Box Plot of {}'.format(col))"
   ]
  },
  {
   "cell_type": "code",
   "execution_count": 987,
   "id": "6397efd8",
   "metadata": {},
   "outputs": [],
   "source": [
    "def univariate_count(df,col):\n",
    "    plt.figure(figsize=(8,6)) \n",
    "    sns.countplot(data=df, x=col)\n",
    "    plt.title('Bar Plot of {}'.format(col))"
   ]
  },
  {
   "cell_type": "markdown",
   "id": "a42dc316",
   "metadata": {},
   "source": [
    "##### Above graph shows Cash loans thare much more than Revolving loans"
   ]
  },
  {
   "cell_type": "code",
   "execution_count": 988,
   "id": "5fab5100",
   "metadata": {},
   "outputs": [
    {
     "data": {
      "text/plain": [
       "WIRE             0.897293\n",
       "AP/AR Netting    0.052237\n",
       "CHEQUE           0.037419\n",
       "CASH             0.008428\n",
       "I/C WIRE         0.002274\n",
       "PDC              0.002263\n",
       "I/C Check        0.000065\n",
       "I/C CASH         0.000022\n",
       "Name: RECEIPT_METHOD, dtype: float64"
      ]
     },
     "execution_count": 988,
     "metadata": {},
     "output_type": "execute_result"
    }
   ],
   "source": [
    "inp0['RECEIPT_METHOD'].value_counts(normalize=True)"
   ]
  },
  {
   "cell_type": "code",
   "execution_count": 989,
   "id": "66765795",
   "metadata": {},
   "outputs": [
    {
     "data": {
      "image/png": "[encoded data removed]",
      "text/plain": [
       "<Figure size 576x432 with 1 Axes>"
      ]
     },
     "metadata": {
      "needs_background": "light"
     },
     "output_type": "display_data"
    }
   ],
   "source": [
    "univariate_count(inp0,'RECEIPT_METHOD')\n",
    "plt.xticks(rotation=90)\n",
    "plt.show()"
   ]
  },
  {
   "cell_type": "markdown",
   "id": "6074f63c",
   "metadata": {},
   "source": [
    "##### Wire is the most common method of payment"
   ]
  },
  {
   "cell_type": "markdown",
   "id": "33800d00",
   "metadata": {},
   "source": [
    "### Bivariate Analysis"
   ]
  },
  {
   "cell_type": "markdown",
   "id": "b285721d",
   "metadata": {},
   "source": [
    "###### <font color=blue> Splitting the dataframe into target 1 and 0 for more focussed analysis </font>"
   ]
  },
  {
   "cell_type": "code",
   "execution_count": 990,
   "id": "25722142",
   "metadata": {},
   "outputs": [
    {
     "data": {
      "text/plain": [
       "31878"
      ]
     },
     "execution_count": 990,
     "metadata": {},
     "output_type": "execute_result"
    }
   ],
   "source": [
    "tar0=inp0[inp0['TARGET']==0]\n",
    "#tar0.head()\n",
    "len(tar0)"
   ]
  },
  {
   "cell_type": "code",
   "execution_count": 991,
   "id": "553b0f91",
   "metadata": {},
   "outputs": [
    {
     "data": {
      "text/plain": [
       "60910"
      ]
     },
     "execution_count": 991,
     "metadata": {},
     "output_type": "execute_result"
    }
   ],
   "source": [
    "tar1=inp0[inp0['TARGET']==1]\n",
    "#tar0.head()\n",
    "len(tar1)"
   ]
  },
  {
   "cell_type": "markdown",
   "id": "797a608b",
   "metadata": {},
   "source": [
    "#### fuctions for plotting graph"
   ]
  },
  {
   "cell_type": "code",
   "execution_count": 992,
   "id": "941bed46",
   "metadata": {},
   "outputs": [],
   "source": [
    "def bivariate_box(df,coly):\n",
    "    plt.figure(figsize=(8,6)) \n",
    "    sns.boxplot(data=df,x='TARGET', y=coly)\n",
    "    plt.title('Plot of {}'.format(coly))\n",
    "    plt.show()\n",
    "   "
   ]
  },
  {
   "cell_type": "code",
   "execution_count": 993,
   "id": "9808fc92",
   "metadata": {},
   "outputs": [],
   "source": [
    "def bivariate_his_split(col):\n",
    "    plt.figure(figsize=(12,6)) \n",
    "    plt.subplot(1,2,1)\n",
    "    sns.histplot(data=tar0, x=col, bins=10, stat='percent')\n",
    "    plt.title('Customers without payment difficulties')\n",
    "    plt.xticks(rotation=90)\n",
    "    \n",
    "    plt.subplot(1,2,2)\n",
    "    sns.histplot(data=tar1, x=col, bins=10, stat='percent')\n",
    "    plt.title('Customers with payment difficulties')\n",
    "    plt.xticks(rotation=90)"
   ]
  },
  {
   "cell_type": "code",
   "execution_count": 994,
   "id": "6dda6837",
   "metadata": {},
   "outputs": [],
   "source": [
    "def bivariate_his(col):\n",
    "    plt.figure(figsize=(10,6)) \n",
    "    #plt.subplot(1,2,1)\n",
    "    sns.histplot(data=inp0, x=col, bins=10, stat='percent', multiple='dodge',hue='TARGET',palette='hls')\n",
    "    plt.title('Plot for {}'.format(col))\n",
    "    \n",
    "    #plt.subplot(1,2,2)\n",
    "    #sns.histplot(data=tar1, x=col, bins=10, stat='percent', palette='hls')\n",
    "    #plt.title('Customers with payment difficulties')"
   ]
  },
  {
   "cell_type": "code",
   "execution_count": 995,
   "id": "2185cf04",
   "metadata": {},
   "outputs": [],
   "source": [
    "def bivariate_count(col):\n",
    "    plt.figure(figsize=(12,6)) \n",
    "    plt.subplot(1,2,1)\n",
    "    sns.countplot(data=tar0, x=col, order=tar0[col].value_counts().index)\n",
    "    plt.title('Customers without payment difficulties')\n",
    "    plt.xticks(rotation=90)\n",
    "    \n",
    "    plt.subplot(1,2,2)\n",
    "    sns.countplot(data=tar1, x=col, order=tar0[col].value_counts().index)\n",
    "    plt.title('Customers with payment difficulties')\n",
    "    plt.xticks(rotation=90)"
   ]
  },
  {
   "cell_type": "code",
   "execution_count": 996,
   "id": "4b10c944",
   "metadata": {},
   "outputs": [
    {
     "data": {
      "image/png": "[encoded data removed]",
      "text/plain": [
       "<Figure size 576x432 with 1 Axes>"
      ]
     },
     "metadata": {
      "needs_background": "light"
     },
     "output_type": "display_data"
    }
   ],
   "source": [
    "# comparing Target 1 and 0 customers based on USD Amount\n",
    "bivariate_box(inp0[inp0['USD Amount']<1000000],'USD Amount')"
   ]
  },
  {
   "cell_type": "markdown",
   "id": "c50723e0",
   "metadata": {},
   "source": [
    "##### Trasaction amount is distributed almost equally amoung Targets"
   ]
  },
  {
   "cell_type": "code",
   "execution_count": 997,
   "id": "bc40e5ff",
   "metadata": {},
   "outputs": [
    {
     "data": {
      "image/png": "[encoded data removed]",
      "text/plain": [
       "<Figure size 576x432 with 1 Axes>"
      ]
     },
     "metadata": {
      "needs_background": "light"
     },
     "output_type": "display_data"
    }
   ],
   "source": [
    "bivariate_box(inp0[inp0['PAYMENT_TERM']<100],'PAYMENT_TERM')"
   ]
  },
  {
   "cell_type": "markdown",
   "id": "195d65a8",
   "metadata": {},
   "source": [
    "##### Default payments happen generally when payment term is shorter"
   ]
  },
  {
   "cell_type": "code",
   "execution_count": 998,
   "id": "c3197dcb",
   "metadata": {},
   "outputs": [
    {
     "data": {
      "image/png": "[encoded data removed]",
      "text/plain": [
       "<Figure size 576x432 with 1 Axes>"
      ]
     },
     "metadata": {
      "needs_background": "light"
     },
     "output_type": "display_data"
    }
   ],
   "source": [
    "bivariate_box(inp0,'AGE')"
   ]
  },
  {
   "cell_type": "code",
   "execution_count": 999,
   "id": "294786bb",
   "metadata": {},
   "outputs": [],
   "source": [
    "tar1['AGE_POST_DUE'] = tar1['RECEIPT_DATE'] - tar1['DUE_DATE']\n",
    "tar1['AGE_POST_DUE'] = tar1['AGE_POST_DUE'].dt.days"
   ]
  },
  {
   "cell_type": "code",
   "execution_count": 1000,
   "id": "893ecf0d",
   "metadata": {},
   "outputs": [
    {
     "data": {
      "image/png": "[encoded data removed]",
      "text/plain": [
       "<Figure size 432x288 with 1 Axes>"
      ]
     },
     "metadata": {
      "needs_background": "light"
     },
     "output_type": "display_data"
    }
   ],
   "source": [
    "sns.boxplot(tar1['AGE_POST_DUE'])\n",
    "plt.show()"
   ]
  },
  {
   "cell_type": "code",
   "execution_count": 1001,
   "id": "e2d7763c",
   "metadata": {},
   "outputs": [
    {
     "data": {
      "text/plain": [
       "count    60910.000000\n",
       "mean       107.349483\n",
       "std        227.628518\n",
       "min          1.000000\n",
       "25%         12.000000\n",
       "50%         30.000000\n",
       "75%         76.000000\n",
       "max       3873.000000\n",
       "Name: AGE_POST_DUE, dtype: float64"
      ]
     },
     "execution_count": 1001,
     "metadata": {},
     "output_type": "execute_result"
    }
   ],
   "source": [
    "tar1['AGE_POST_DUE'].describe()"
   ]
  },
  {
   "cell_type": "code",
   "execution_count": 1002,
   "id": "0232741f",
   "metadata": {
    "scrolled": true
   },
   "outputs": [
    {
     "data": {
      "image/png": "[encoded data removed]",
      "text/plain": [
       "<Figure size 432x288 with 1 Axes>"
      ]
     },
     "metadata": {
      "needs_background": "light"
     },
     "output_type": "display_data"
    }
   ],
   "source": [
    "sns.histplot(tar1[tar1['AGE_POST_DUE']<100]['AGE_POST_DUE'],bins=30, stat='percent')\n",
    "plt.show()"
   ]
  },
  {
   "cell_type": "markdown",
   "id": "c44c4d5d",
   "metadata": {},
   "source": [
    "##### 75% of the people who default make payment within 78 days post Due date"
   ]
  },
  {
   "cell_type": "code",
   "execution_count": 1003,
   "id": "20d2caa8",
   "metadata": {},
   "outputs": [
    {
     "data": {
      "image/png": "[encoded data removed]",
      "text/plain": [
       "<Figure size 432x288 with 1 Axes>"
      ]
     },
     "metadata": {
      "needs_background": "light"
     },
     "output_type": "display_data"
    }
   ],
   "source": [
    "sns.histplot(tar1[tar1['AGE']<200]['AGE'],bins=30, stat='percent')\n",
    "plt.show()"
   ]
  },
  {
   "cell_type": "code",
   "execution_count": 1004,
   "id": "47207284",
   "metadata": {},
   "outputs": [
    {
     "data": {
      "image/png": "[encoded data removed]",
      "text/plain": [
       "<Figure size 720x432 with 1 Axes>"
      ]
     },
     "metadata": {
      "needs_background": "light"
     },
     "output_type": "display_data"
    }
   ],
   "source": [
    "bivariate_his('RECEIPT_METHOD')"
   ]
  },
  {
   "cell_type": "markdown",
   "id": "c724abc1",
   "metadata": {},
   "source": [
    "##### Defaulters make payment on all modes equally"
   ]
  },
  {
   "cell_type": "code",
   "execution_count": 1005,
   "id": "43662fae",
   "metadata": {},
   "outputs": [
    {
     "data": {
      "image/png": "[encoded data removed]",
      "text/plain": [
       "<Figure size 720x432 with 1 Axes>"
      ]
     },
     "metadata": {
      "needs_background": "light"
     },
     "output_type": "display_data"
    }
   ],
   "source": [
    "bivariate_his('INVOICE_TYPE')"
   ]
  },
  {
   "cell_type": "markdown",
   "id": "792a69ac",
   "metadata": {},
   "source": [
    "##### Goods category has generally higher chances of deatulting compared to Non-Goods"
   ]
  },
  {
   "cell_type": "code",
   "execution_count": 1006,
   "id": "de305f15",
   "metadata": {},
   "outputs": [
    {
     "data": {
      "image/png": "[encoded data removed]",
      "text/plain": [
       "<Figure size 864x432 with 2 Axes>"
      ]
     },
     "metadata": {
      "needs_background": "light"
     },
     "output_type": "display_data"
    }
   ],
   "source": [
    "bivariate_his_split('USD Amount')"
   ]
  },
  {
   "cell_type": "code",
   "execution_count": 1007,
   "id": "4d2ce22e",
   "metadata": {},
   "outputs": [
    {
     "data": {
      "image/png": "[encoded data removed]",
      "text/plain": [
       "<Figure size 864x432 with 2 Axes>"
      ]
     },
     "metadata": {
      "needs_background": "light"
     },
     "output_type": "display_data"
    }
   ],
   "source": [
    "bivariate_his_split('PAYMENT_TERM')"
   ]
  },
  {
   "cell_type": "code",
   "execution_count": 1008,
   "id": "8b7bc8e4",
   "metadata": {},
   "outputs": [
    {
     "data": {
      "image/png": "[encoded data removed]",
      "text/plain": [
       "<Figure size 864x432 with 2 Axes>"
      ]
     },
     "metadata": {
      "needs_background": "light"
     },
     "output_type": "display_data"
    }
   ],
   "source": [
    "bivariate_his_split('RECEIPT_METHOD')"
   ]
  },
  {
   "cell_type": "code",
   "execution_count": 1009,
   "id": "e95b76bf",
   "metadata": {},
   "outputs": [
    {
     "data": {
      "image/png": "[encoded data removed]",
      "text/plain": [
       "<Figure size 864x432 with 2 Axes>"
      ]
     },
     "metadata": {
      "needs_background": "light"
     },
     "output_type": "display_data"
    }
   ],
   "source": [
    "bivariate_count('INVOICE_CURRENCY_CODE')"
   ]
  },
  {
   "cell_type": "code",
   "execution_count": 1010,
   "id": "5dcc9d37",
   "metadata": {},
   "outputs": [
    {
     "data": {
      "image/png": "[encoded data removed]",
      "text/plain": [
       "<Figure size 720x432 with 1 Axes>"
      ]
     },
     "metadata": {
      "needs_background": "light"
     },
     "output_type": "display_data"
    }
   ],
   "source": [
    "bivariate_his('INVOICE_CURRENCY_CODE')"
   ]
  },
  {
   "cell_type": "markdown",
   "id": "73eab01a",
   "metadata": {},
   "source": [
    "##### SAR and USD have more defulters than other currencies, AED has less number of defaulters"
   ]
  },
  {
   "cell_type": "code",
   "execution_count": 1011,
   "id": "8e2352cb",
   "metadata": {},
   "outputs": [
    {
     "data": {
      "text/html": [
       "<div>\n",
       "<style scoped>\n",
       "    .dataframe tbody tr th:only-of-type {\n",
       "        vertical-align: middle;\n",
       "    }\n",
       "\n",
       "    .dataframe tbody tr th {\n",
       "        vertical-align: top;\n",
       "    }\n",
       "\n",
       "    .dataframe thead th {\n",
       "        text-align: right;\n",
       "    }\n",
       "</style>\n",
       "<table border=\"1\" class=\"dataframe\">\n",
       "  <thead>\n",
       "    <tr style=\"text-align: right;\">\n",
       "      <th></th>\n",
       "      <th>CUSTOMER_NUMBER</th>\n",
       "      <th>TARGET</th>\n",
       "    </tr>\n",
       "  </thead>\n",
       "  <tbody>\n",
       "    <tr>\n",
       "      <th>0</th>\n",
       "      <td>10100</td>\n",
       "      <td>1.000000</td>\n",
       "    </tr>\n",
       "    <tr>\n",
       "      <th>1</th>\n",
       "      <td>10320</td>\n",
       "      <td>0.714286</td>\n",
       "    </tr>\n",
       "    <tr>\n",
       "      <th>2</th>\n",
       "      <td>10360</td>\n",
       "      <td>0.553191</td>\n",
       "    </tr>\n",
       "    <tr>\n",
       "      <th>3</th>\n",
       "      <td>1044</td>\n",
       "      <td>0.719912</td>\n",
       "    </tr>\n",
       "    <tr>\n",
       "      <th>4</th>\n",
       "      <td>1076</td>\n",
       "      <td>0.472000</td>\n",
       "    </tr>\n",
       "  </tbody>\n",
       "</table>\n",
       "</div>"
      ],
      "text/plain": [
       "  CUSTOMER_NUMBER    TARGET\n",
       "0           10100  1.000000\n",
       "1           10320  0.714286\n",
       "2           10360  0.553191\n",
       "3            1044  0.719912\n",
       "4            1076  0.472000"
      ]
     },
     "execution_count": 1011,
     "metadata": {},
     "output_type": "execute_result"
    }
   ],
   "source": [
    "grouped_df = inp0.groupby('CUSTOMER_NUMBER')['TARGET'].mean()\n",
    "grouped_df = grouped_df.reset_index()\n",
    "grouped_df.head()"
   ]
  },
  {
   "cell_type": "code",
   "execution_count": 1012,
   "id": "0d3315f1",
   "metadata": {},
   "outputs": [
    {
     "data": {
      "text/html": [
       "<div>\n",
       "<style scoped>\n",
       "    .dataframe tbody tr th:only-of-type {\n",
       "        vertical-align: middle;\n",
       "    }\n",
       "\n",
       "    .dataframe tbody tr th {\n",
       "        vertical-align: top;\n",
       "    }\n",
       "\n",
       "    .dataframe thead th {\n",
       "        text-align: right;\n",
       "    }\n",
       "</style>\n",
       "<table border=\"1\" class=\"dataframe\">\n",
       "  <thead>\n",
       "    <tr style=\"text-align: right;\">\n",
       "      <th></th>\n",
       "      <th>CUSTOMER_NUMBER</th>\n",
       "      <th>TARGET</th>\n",
       "    </tr>\n",
       "  </thead>\n",
       "  <tbody>\n",
       "    <tr>\n",
       "      <th>10</th>\n",
       "      <td>1201</td>\n",
       "      <td>0.0</td>\n",
       "    </tr>\n",
       "    <tr>\n",
       "      <th>27</th>\n",
       "      <td>15762</td>\n",
       "      <td>0.0</td>\n",
       "    </tr>\n",
       "    <tr>\n",
       "      <th>53</th>\n",
       "      <td>20867</td>\n",
       "      <td>0.0</td>\n",
       "    </tr>\n",
       "    <tr>\n",
       "      <th>60</th>\n",
       "      <td>20894</td>\n",
       "      <td>0.0</td>\n",
       "    </tr>\n",
       "    <tr>\n",
       "      <th>67</th>\n",
       "      <td>20952</td>\n",
       "      <td>0.0</td>\n",
       "    </tr>\n",
       "    <tr>\n",
       "      <th>...</th>\n",
       "      <td>...</td>\n",
       "      <td>...</td>\n",
       "    </tr>\n",
       "    <tr>\n",
       "      <th>1019</th>\n",
       "      <td>52800</td>\n",
       "      <td>0.0</td>\n",
       "    </tr>\n",
       "    <tr>\n",
       "      <th>1021</th>\n",
       "      <td>52820</td>\n",
       "      <td>0.0</td>\n",
       "    </tr>\n",
       "    <tr>\n",
       "      <th>1022</th>\n",
       "      <td>52940</td>\n",
       "      <td>0.0</td>\n",
       "    </tr>\n",
       "    <tr>\n",
       "      <th>1027</th>\n",
       "      <td>5720</td>\n",
       "      <td>0.0</td>\n",
       "    </tr>\n",
       "    <tr>\n",
       "      <th>1028</th>\n",
       "      <td>5743</td>\n",
       "      <td>0.0</td>\n",
       "    </tr>\n",
       "  </tbody>\n",
       "</table>\n",
       "<p>149 rows × 2 columns</p>\n",
       "</div>"
      ],
      "text/plain": [
       "     CUSTOMER_NUMBER  TARGET\n",
       "10              1201     0.0\n",
       "27             15762     0.0\n",
       "53             20867     0.0\n",
       "60             20894     0.0\n",
       "67             20952     0.0\n",
       "...              ...     ...\n",
       "1019           52800     0.0\n",
       "1021           52820     0.0\n",
       "1022           52940     0.0\n",
       "1027            5720     0.0\n",
       "1028            5743     0.0\n",
       "\n",
       "[149 rows x 2 columns]"
      ]
     },
     "execution_count": 1012,
     "metadata": {},
     "output_type": "execute_result"
    }
   ],
   "source": [
    "grouped_df[grouped_df['TARGET']==0]"
   ]
  },
  {
   "cell_type": "markdown",
   "id": "35d51b4f",
   "metadata": {},
   "source": [
    "#### 149 customers have no history of defaulting"
   ]
  },
  {
   "cell_type": "markdown",
   "id": "aa0f9b27",
   "metadata": {},
   "source": [
    "### <font color=blue>3. Customer Segmentation using Clustering</font>"
   ]
  },
  {
   "cell_type": "code",
   "execution_count": 1013,
   "id": "8c3a3acc",
   "metadata": {},
   "outputs": [],
   "source": [
    "retail_df = inp0.copy()"
   ]
  },
  {
   "cell_type": "code",
   "execution_count": 1014,
   "id": "3d1d3a68",
   "metadata": {},
   "outputs": [
    {
     "data": {
      "text/html": [
       "<div>\n",
       "<style scoped>\n",
       "    .dataframe tbody tr th:only-of-type {\n",
       "        vertical-align: middle;\n",
       "    }\n",
       "\n",
       "    .dataframe tbody tr th {\n",
       "        vertical-align: top;\n",
       "    }\n",
       "\n",
       "    .dataframe thead th {\n",
       "        text-align: right;\n",
       "    }\n",
       "</style>\n",
       "<table border=\"1\" class=\"dataframe\">\n",
       "  <thead>\n",
       "    <tr style=\"text-align: right;\">\n",
       "      <th></th>\n",
       "      <th>RECEIPT_METHOD</th>\n",
       "      <th>CUSTOMER_NAME</th>\n",
       "      <th>CUSTOMER_NUMBER</th>\n",
       "      <th>RECEIPT_DOC_NO</th>\n",
       "      <th>RECEIPT_DATE</th>\n",
       "      <th>CLASS</th>\n",
       "      <th>CURRENCY_CODE</th>\n",
       "      <th>Local Amount</th>\n",
       "      <th>USD Amount</th>\n",
       "      <th>INVOICE_ALLOCATED</th>\n",
       "      <th>INVOICE_CREATION_DATE</th>\n",
       "      <th>DUE_DATE</th>\n",
       "      <th>PAYMENT_TERM</th>\n",
       "      <th>INVOICE_CLASS</th>\n",
       "      <th>INVOICE_CURRENCY_CODE</th>\n",
       "      <th>INVOICE_TYPE</th>\n",
       "      <th>AGE</th>\n",
       "      <th>TARGET</th>\n",
       "    </tr>\n",
       "  </thead>\n",
       "  <tbody>\n",
       "    <tr>\n",
       "      <th>0</th>\n",
       "      <td>WIRE</td>\n",
       "      <td>C EA Corp</td>\n",
       "      <td>37403</td>\n",
       "      <td>1.421000e+10</td>\n",
       "      <td>2021-04-20</td>\n",
       "      <td>PMT</td>\n",
       "      <td>USD</td>\n",
       "      <td>370990.92</td>\n",
       "      <td>101018.63040</td>\n",
       "      <td>14200000001</td>\n",
       "      <td>2020-11-02</td>\n",
       "      <td>2020-12-30</td>\n",
       "      <td>58</td>\n",
       "      <td>INV</td>\n",
       "      <td>AED</td>\n",
       "      <td>Non Goods</td>\n",
       "      <td>169</td>\n",
       "      <td>1</td>\n",
       "    </tr>\n",
       "    <tr>\n",
       "      <th>1</th>\n",
       "      <td>WIRE</td>\n",
       "      <td>RADW Corp</td>\n",
       "      <td>4003</td>\n",
       "      <td>9.921000e+10</td>\n",
       "      <td>2021-01-31</td>\n",
       "      <td>PMT</td>\n",
       "      <td>SAR</td>\n",
       "      <td>183750.00</td>\n",
       "      <td>48990.21133</td>\n",
       "      <td>99200000043</td>\n",
       "      <td>2020-12-29</td>\n",
       "      <td>2021-01-28</td>\n",
       "      <td>30</td>\n",
       "      <td>INV</td>\n",
       "      <td>SAR</td>\n",
       "      <td>Non Goods</td>\n",
       "      <td>33</td>\n",
       "      <td>1</td>\n",
       "    </tr>\n",
       "    <tr>\n",
       "      <th>2</th>\n",
       "      <td>WIRE</td>\n",
       "      <td>RADW Corp</td>\n",
       "      <td>4003</td>\n",
       "      <td>9.921000e+10</td>\n",
       "      <td>2021-01-31</td>\n",
       "      <td>PMT</td>\n",
       "      <td>SAR</td>\n",
       "      <td>157500.00</td>\n",
       "      <td>41991.60971</td>\n",
       "      <td>99210000003</td>\n",
       "      <td>2021-01-30</td>\n",
       "      <td>2021-03-01</td>\n",
       "      <td>30</td>\n",
       "      <td>INV</td>\n",
       "      <td>SAR</td>\n",
       "      <td>Non Goods</td>\n",
       "      <td>1</td>\n",
       "      <td>0</td>\n",
       "    </tr>\n",
       "    <tr>\n",
       "      <th>3</th>\n",
       "      <td>WIRE</td>\n",
       "      <td>FARO Corp</td>\n",
       "      <td>1409</td>\n",
       "      <td>9.921000e+10</td>\n",
       "      <td>2021-01-31</td>\n",
       "      <td>PMT</td>\n",
       "      <td>SAR</td>\n",
       "      <td>157500.00</td>\n",
       "      <td>41991.60971</td>\n",
       "      <td>99200000038</td>\n",
       "      <td>2020-12-15</td>\n",
       "      <td>2021-01-14</td>\n",
       "      <td>30</td>\n",
       "      <td>INV</td>\n",
       "      <td>SAR</td>\n",
       "      <td>Non Goods</td>\n",
       "      <td>47</td>\n",
       "      <td>1</td>\n",
       "    </tr>\n",
       "    <tr>\n",
       "      <th>4</th>\n",
       "      <td>WIRE</td>\n",
       "      <td>RADW Corp</td>\n",
       "      <td>4003</td>\n",
       "      <td>9.921000e+10</td>\n",
       "      <td>2021-01-31</td>\n",
       "      <td>PMT</td>\n",
       "      <td>SAR</td>\n",
       "      <td>157500.00</td>\n",
       "      <td>41991.60971</td>\n",
       "      <td>99200000039</td>\n",
       "      <td>2020-12-15</td>\n",
       "      <td>2021-01-14</td>\n",
       "      <td>30</td>\n",
       "      <td>INV</td>\n",
       "      <td>SAR</td>\n",
       "      <td>Non Goods</td>\n",
       "      <td>47</td>\n",
       "      <td>1</td>\n",
       "    </tr>\n",
       "  </tbody>\n",
       "</table>\n",
       "</div>"
      ],
      "text/plain": [
       "  RECEIPT_METHOD CUSTOMER_NAME CUSTOMER_NUMBER  RECEIPT_DOC_NO RECEIPT_DATE  \\\n",
       "0           WIRE     C EA Corp           37403    1.421000e+10   2021-04-20   \n",
       "1           WIRE     RADW Corp            4003    9.921000e+10   2021-01-31   \n",
       "2           WIRE     RADW Corp            4003    9.921000e+10   2021-01-31   \n",
       "3           WIRE     FARO Corp            1409    9.921000e+10   2021-01-31   \n",
       "4           WIRE     RADW Corp            4003    9.921000e+10   2021-01-31   \n",
       "\n",
       "  CLASS CURRENCY_CODE  Local Amount    USD Amount INVOICE_ALLOCATED  \\\n",
       "0   PMT           USD     370990.92  101018.63040       14200000001   \n",
       "1   PMT           SAR     183750.00   48990.21133       99200000043   \n",
       "2   PMT           SAR     157500.00   41991.60971       99210000003   \n",
       "3   PMT           SAR     157500.00   41991.60971       99200000038   \n",
       "4   PMT           SAR     157500.00   41991.60971       99200000039   \n",
       "\n",
       "  INVOICE_CREATION_DATE   DUE_DATE  PAYMENT_TERM INVOICE_CLASS  \\\n",
       "0            2020-11-02 2020-12-30            58           INV   \n",
       "1            2020-12-29 2021-01-28            30           INV   \n",
       "2            2021-01-30 2021-03-01            30           INV   \n",
       "3            2020-12-15 2021-01-14            30           INV   \n",
       "4            2020-12-15 2021-01-14            30           INV   \n",
       "\n",
       "  INVOICE_CURRENCY_CODE INVOICE_TYPE  AGE  TARGET  \n",
       "0                   AED    Non Goods  169       1  \n",
       "1                   SAR    Non Goods   33       1  \n",
       "2                   SAR    Non Goods    1       0  \n",
       "3                   SAR    Non Goods   47       1  \n",
       "4                   SAR    Non Goods   47       1  "
      ]
     },
     "execution_count": 1014,
     "metadata": {},
     "output_type": "execute_result"
    }
   ],
   "source": [
    "retail_df.head()"
   ]
  },
  {
   "cell_type": "code",
   "execution_count": 1015,
   "id": "456750fc",
   "metadata": {},
   "outputs": [
    {
     "name": "stdout",
     "output_type": "stream",
     "text": [
      "<class 'pandas.core.frame.DataFrame'>\n",
      "Int64Index: 92788 entries, 0 to 93936\n",
      "Data columns (total 18 columns):\n",
      " #   Column                 Non-Null Count  Dtype         \n",
      "---  ------                 --------------  -----         \n",
      " 0   RECEIPT_METHOD         92788 non-null  object        \n",
      " 1   CUSTOMER_NAME          92788 non-null  object        \n",
      " 2   CUSTOMER_NUMBER        92788 non-null  object        \n",
      " 3   RECEIPT_DOC_NO         92759 non-null  float64       \n",
      " 4   RECEIPT_DATE           92788 non-null  datetime64[ns]\n",
      " 5   CLASS                  92788 non-null  object        \n",
      " 6   CURRENCY_CODE          92788 non-null  object        \n",
      " 7   Local Amount           92788 non-null  float64       \n",
      " 8   USD Amount             92788 non-null  float64       \n",
      " 9   INVOICE_ALLOCATED      92788 non-null  object        \n",
      " 10  INVOICE_CREATION_DATE  92788 non-null  datetime64[ns]\n",
      " 11  DUE_DATE               92788 non-null  datetime64[ns]\n",
      " 12  PAYMENT_TERM           92788 non-null  int64         \n",
      " 13  INVOICE_CLASS          92788 non-null  object        \n",
      " 14  INVOICE_CURRENCY_CODE  92788 non-null  object        \n",
      " 15  INVOICE_TYPE           92788 non-null  object        \n",
      " 16  AGE                    92788 non-null  int64         \n",
      " 17  TARGET                 92788 non-null  int32         \n",
      "dtypes: datetime64[ns](3), float64(3), int32(1), int64(2), object(9)\n",
      "memory usage: 13.1+ MB\n"
     ]
    }
   ],
   "source": [
    "retail_df.info()"
   ]
  },
  {
   "cell_type": "code",
   "execution_count": 1016,
   "id": "5cac7aea",
   "metadata": {},
   "outputs": [],
   "source": [
    "#(retail_df[\"RECEIPT_DATE\"][0]-retail_df[\"INVOICE_CREATION_DATE\"][0]).days"
   ]
  },
  {
   "cell_type": "code",
   "execution_count": 1017,
   "id": "f638f522",
   "metadata": {},
   "outputs": [],
   "source": [
    "#retail_df['NO_OF_DAYS_PAYMENT'] = retail_df['AGE']"
   ]
  },
  {
   "cell_type": "code",
   "execution_count": 1018,
   "id": "9a69ea6a",
   "metadata": {
    "scrolled": true
   },
   "outputs": [],
   "source": [
    "#retail_df['NO_OF_DAYS_PAYMENT'] = retail_df.apply(lambda x: x['RECEIPT_DATE']-x['INVOICE_CREATION_DATE'], axis=1)\n",
    "#retail_df\n",
    "#Note: Above code gives new column as 'Object' type. Let's convert it to 'int' type\n",
    "#retail_df['NO_OF_DAYS_PAYMENT'] = retail_df['NO_OF_DAYS_PAYMENT'].astype('str').str.extractall('(\\d+)').unstack().fillna('').sum(axis=1).astype(int)\n",
    "#retail_df"
   ]
  },
  {
   "cell_type": "markdown",
   "id": "0c64f349",
   "metadata": {},
   "source": [
    "#### AGE column represents the number of days taken for payment post invoice generation"
   ]
  },
  {
   "cell_type": "markdown",
   "id": "a6deff6f",
   "metadata": {},
   "source": [
    "#### Calculating Mean and Standard Deviation for each customer for making the payment"
   ]
  },
  {
   "cell_type": "code",
   "execution_count": 1019,
   "id": "94c1968c",
   "metadata": {},
   "outputs": [],
   "source": [
    "customer_number_list = list(retail_df['CUSTOMER_NUMBER'].unique())\n",
    "#There are 1054 customers in total\n",
    "mean_days_payment = []\n",
    "std_days_payment = []\n",
    "#New dataframe with unique customer list\n",
    "cust_segment_df = pd.DataFrame(columns = ['CUSTOMER_NUMBER', 'MEAN_DAYS_PAYMENT', 'STD_DAYS_PAYMENT'])\n",
    "#now calculating Mean and STD of payment_days of each customer\n",
    "for each in customer_number_list:\n",
    "    dummy_df = retail_df[retail_df[\"CUSTOMER_NUMBER\"] == each]\n",
    "    dummy_df.reset_index(drop=True)\n",
    "    if len(dummy_df) > 1: #when each customer has at least two(i.e. two or more) transactions\n",
    "        mean_days_payment.append(dummy_df[\"AGE\"].mean())\n",
    "        std_days_payment.append(dummy_df[\"AGE\"].std())\n",
    "    else: #when the customer has only one transaction\n",
    "        mean_days_payment.append(dummy_df[\"AGE\"].mean())\n",
    "        std_days_payment.append(0) #STD of a single value is zero\n",
    "\n",
    "#Storing above results into the new dataframe\n",
    "cust_segment_df['CUSTOMER_NUMBER'] = customer_number_list\n",
    "cust_segment_df['MEAN_DAYS_PAYMENT'] = mean_days_payment\n",
    "cust_segment_df['STD_DAYS_PAYMENT'] = std_days_payment"
   ]
  },
  {
   "cell_type": "code",
   "execution_count": 1020,
   "id": "a456ad5b",
   "metadata": {},
   "outputs": [
    {
     "data": {
      "text/html": [
       "<div>\n",
       "<style scoped>\n",
       "    .dataframe tbody tr th:only-of-type {\n",
       "        vertical-align: middle;\n",
       "    }\n",
       "\n",
       "    .dataframe tbody tr th {\n",
       "        vertical-align: top;\n",
       "    }\n",
       "\n",
       "    .dataframe thead th {\n",
       "        text-align: right;\n",
       "    }\n",
       "</style>\n",
       "<table border=\"1\" class=\"dataframe\">\n",
       "  <thead>\n",
       "    <tr style=\"text-align: right;\">\n",
       "      <th></th>\n",
       "      <th>CUSTOMER_NUMBER</th>\n",
       "      <th>MEAN_DAYS_PAYMENT</th>\n",
       "      <th>STD_DAYS_PAYMENT</th>\n",
       "    </tr>\n",
       "  </thead>\n",
       "  <tbody>\n",
       "    <tr>\n",
       "      <th>0</th>\n",
       "      <td>37403</td>\n",
       "      <td>99.000000</td>\n",
       "      <td>64.490309</td>\n",
       "    </tr>\n",
       "    <tr>\n",
       "      <th>1</th>\n",
       "      <td>4003</td>\n",
       "      <td>52.588235</td>\n",
       "      <td>35.855932</td>\n",
       "    </tr>\n",
       "    <tr>\n",
       "      <th>2</th>\n",
       "      <td>1409</td>\n",
       "      <td>151.501837</td>\n",
       "      <td>256.743823</td>\n",
       "    </tr>\n",
       "    <tr>\n",
       "      <th>3</th>\n",
       "      <td>15768</td>\n",
       "      <td>138.138346</td>\n",
       "      <td>229.819959</td>\n",
       "    </tr>\n",
       "    <tr>\n",
       "      <th>4</th>\n",
       "      <td>20884</td>\n",
       "      <td>146.775362</td>\n",
       "      <td>101.357935</td>\n",
       "    </tr>\n",
       "    <tr>\n",
       "      <th>...</th>\n",
       "      <td>...</td>\n",
       "      <td>...</td>\n",
       "      <td>...</td>\n",
       "    </tr>\n",
       "    <tr>\n",
       "      <th>1043</th>\n",
       "      <td>1713</td>\n",
       "      <td>180.500000</td>\n",
       "      <td>82.731493</td>\n",
       "    </tr>\n",
       "    <tr>\n",
       "      <th>1044</th>\n",
       "      <td>49420</td>\n",
       "      <td>135.444444</td>\n",
       "      <td>38.665589</td>\n",
       "    </tr>\n",
       "    <tr>\n",
       "      <th>1045</th>\n",
       "      <td>50801</td>\n",
       "      <td>72.857143</td>\n",
       "      <td>19.187049</td>\n",
       "    </tr>\n",
       "    <tr>\n",
       "      <th>1046</th>\n",
       "      <td>51461</td>\n",
       "      <td>9.000000</td>\n",
       "      <td>1.732051</td>\n",
       "    </tr>\n",
       "    <tr>\n",
       "      <th>1047</th>\n",
       "      <td>21312</td>\n",
       "      <td>88.500000</td>\n",
       "      <td>26.162951</td>\n",
       "    </tr>\n",
       "  </tbody>\n",
       "</table>\n",
       "<p>1048 rows × 3 columns</p>\n",
       "</div>"
      ],
      "text/plain": [
       "     CUSTOMER_NUMBER  MEAN_DAYS_PAYMENT  STD_DAYS_PAYMENT\n",
       "0              37403          99.000000         64.490309\n",
       "1               4003          52.588235         35.855932\n",
       "2               1409         151.501837        256.743823\n",
       "3              15768         138.138346        229.819959\n",
       "4              20884         146.775362        101.357935\n",
       "...              ...                ...               ...\n",
       "1043            1713         180.500000         82.731493\n",
       "1044           49420         135.444444         38.665589\n",
       "1045           50801          72.857143         19.187049\n",
       "1046           51461           9.000000          1.732051\n",
       "1047           21312          88.500000         26.162951\n",
       "\n",
       "[1048 rows x 3 columns]"
      ]
     },
     "execution_count": 1020,
     "metadata": {},
     "output_type": "execute_result"
    }
   ],
   "source": [
    "cust_segment_df"
   ]
  },
  {
   "cell_type": "markdown",
   "id": "c7939dca",
   "metadata": {},
   "source": [
    "#### Note: Outlier treatment has not been performed"
   ]
  },
  {
   "cell_type": "markdown",
   "id": "01d43703",
   "metadata": {},
   "source": [
    "#### Rescaling: Standardization"
   ]
  },
  {
   "cell_type": "code",
   "execution_count": 1021,
   "id": "a00b5668",
   "metadata": {},
   "outputs": [
    {
     "data": {
      "text/plain": [
       "(1048, 2)"
      ]
     },
     "execution_count": 1021,
     "metadata": {},
     "output_type": "execute_result"
    }
   ],
   "source": [
    "# 2. rescaling\n",
    "rfm_df = cust_segment_df[['MEAN_DAYS_PAYMENT', 'STD_DAYS_PAYMENT']]\n",
    "\n",
    "# instantiate\n",
    "scaler = StandardScaler()\n",
    "\n",
    "# fit_transform\n",
    "rfm_df_scaled = scaler.fit_transform(rfm_df)\n",
    "rfm_df_scaled.shape"
   ]
  },
  {
   "cell_type": "code",
   "execution_count": 1022,
   "id": "a231541d",
   "metadata": {},
   "outputs": [
    {
     "data": {
      "text/html": [
       "<div>\n",
       "<style scoped>\n",
       "    .dataframe tbody tr th:only-of-type {\n",
       "        vertical-align: middle;\n",
       "    }\n",
       "\n",
       "    .dataframe tbody tr th {\n",
       "        vertical-align: top;\n",
       "    }\n",
       "\n",
       "    .dataframe thead th {\n",
       "        text-align: right;\n",
       "    }\n",
       "</style>\n",
       "<table border=\"1\" class=\"dataframe\">\n",
       "  <thead>\n",
       "    <tr style=\"text-align: right;\">\n",
       "      <th></th>\n",
       "      <th>MEAN_DAYS_PAYMENT</th>\n",
       "      <th>STD_DAYS_PAYMENT</th>\n",
       "    </tr>\n",
       "  </thead>\n",
       "  <tbody>\n",
       "    <tr>\n",
       "      <th>0</th>\n",
       "      <td>-0.002927</td>\n",
       "      <td>0.254778</td>\n",
       "    </tr>\n",
       "    <tr>\n",
       "      <th>1</th>\n",
       "      <td>-0.334093</td>\n",
       "      <td>-0.100637</td>\n",
       "    </tr>\n",
       "    <tr>\n",
       "      <th>2</th>\n",
       "      <td>0.371693</td>\n",
       "      <td>2.641068</td>\n",
       "    </tr>\n",
       "    <tr>\n",
       "      <th>3</th>\n",
       "      <td>0.276340</td>\n",
       "      <td>2.306884</td>\n",
       "    </tr>\n",
       "    <tr>\n",
       "      <th>4</th>\n",
       "      <td>0.337968</td>\n",
       "      <td>0.712387</td>\n",
       "    </tr>\n",
       "  </tbody>\n",
       "</table>\n",
       "</div>"
      ],
      "text/plain": [
       "   MEAN_DAYS_PAYMENT  STD_DAYS_PAYMENT\n",
       "0          -0.002927          0.254778\n",
       "1          -0.334093         -0.100637\n",
       "2           0.371693          2.641068\n",
       "3           0.276340          2.306884\n",
       "4           0.337968          0.712387"
      ]
     },
     "execution_count": 1022,
     "metadata": {},
     "output_type": "execute_result"
    }
   ],
   "source": [
    "rfm_df_scaled = pd.DataFrame(rfm_df_scaled)\n",
    "rfm_df_scaled.columns = ['MEAN_DAYS_PAYMENT', 'STD_DAYS_PAYMENT']\n",
    "rfm_df_scaled.head()"
   ]
  },
  {
   "cell_type": "code",
   "execution_count": 1023,
   "id": "42ceb42e",
   "metadata": {},
   "outputs": [
    {
     "name": "stdout",
     "output_type": "stream",
     "text": [
      "<class 'pandas.core.frame.DataFrame'>\n",
      "RangeIndex: 1048 entries, 0 to 1047\n",
      "Data columns (total 2 columns):\n",
      " #   Column             Non-Null Count  Dtype  \n",
      "---  ------             --------------  -----  \n",
      " 0   MEAN_DAYS_PAYMENT  1048 non-null   float64\n",
      " 1   STD_DAYS_PAYMENT   1048 non-null   float64\n",
      "dtypes: float64(2)\n",
      "memory usage: 16.5 KB\n"
     ]
    }
   ],
   "source": [
    "rfm_df_scaled.info()"
   ]
  },
  {
   "cell_type": "markdown",
   "id": "893f5650",
   "metadata": {},
   "source": [
    "### Modelling: K-Means clustering"
   ]
  },
  {
   "cell_type": "code",
   "execution_count": 1024,
   "id": "d62de93a",
   "metadata": {},
   "outputs": [
    {
     "data": {
      "text/plain": [
       "KMeans(max_iter=50, n_clusters=4)"
      ]
     },
     "execution_count": 1024,
     "metadata": {},
     "output_type": "execute_result"
    }
   ],
   "source": [
    "# k-means with some arbitrary k\n",
    "kmeans = KMeans(n_clusters=4, max_iter=50)\n",
    "kmeans.fit(rfm_df_scaled)"
   ]
  },
  {
   "cell_type": "code",
   "execution_count": 1025,
   "id": "5e3562eb",
   "metadata": {},
   "outputs": [
    {
     "data": {
      "text/plain": [
       "array([3, 1, 2, ..., 1, 1, 1])"
      ]
     },
     "execution_count": 1025,
     "metadata": {},
     "output_type": "execute_result"
    }
   ],
   "source": [
    "kmeans.labels_"
   ]
  },
  {
   "cell_type": "markdown",
   "id": "2c14e6f5",
   "metadata": {},
   "source": [
    "#### Finding the optimal no of clusters"
   ]
  },
  {
   "cell_type": "markdown",
   "id": "443782f3",
   "metadata": {},
   "source": [
    "#### A) SSD(Sum of Squared Distances)"
   ]
  },
  {
   "cell_type": "code",
   "execution_count": 1026,
   "id": "3ba4738d",
   "metadata": {},
   "outputs": [
    {
     "data": {
      "text/plain": [
       "[<matplotlib.lines.Line2D at 0x188021f98b0>]"
      ]
     },
     "execution_count": 1026,
     "metadata": {},
     "output_type": "execute_result"
    },
    {
     "data": {
      "image/png": "[encoded data removed]",
      "text/plain": [
       "<Figure size 432x288 with 1 Axes>"
      ]
     },
     "metadata": {
      "needs_background": "light"
     },
     "output_type": "display_data"
    }
   ],
   "source": [
    "# elbow-curve/SSD\n",
    "ssd = []\n",
    "range_n_clusters = [2, 3, 4, 5, 6, 7, 8]\n",
    "for num_clusters in range_n_clusters:\n",
    "    kmeans = KMeans(n_clusters=num_clusters, max_iter=50)\n",
    "    kmeans.fit(rfm_df_scaled)\n",
    "    \n",
    "    ssd.append(kmeans.inertia_)\n",
    "    \n",
    "# plot the SSDs for each n_clusters\n",
    "# ssd\n",
    "plt.plot(ssd)"
   ]
  },
  {
   "cell_type": "markdown",
   "id": "9683ef8d",
   "metadata": {},
   "source": [
    "#### Note: From above graph, the curve is stabilizing after index '3'. Means optimal k is 5"
   ]
  },
  {
   "cell_type": "code",
   "execution_count": 1027,
   "id": "3bdfb93b",
   "metadata": {},
   "outputs": [
    {
     "data": {
      "text/plain": [
       "KMeans(max_iter=50, n_clusters=5)"
      ]
     },
     "execution_count": 1027,
     "metadata": {},
     "output_type": "execute_result"
    }
   ],
   "source": [
    "# final model with k=5\n",
    "kmeans = KMeans(n_clusters=5, max_iter=50)\n",
    "kmeans.fit(rfm_df_scaled)"
   ]
  },
  {
   "cell_type": "code",
   "execution_count": 1028,
   "id": "bc8d8e2f",
   "metadata": {},
   "outputs": [
    {
     "data": {
      "text/plain": [
       "array([1, 0, 4, ..., 0, 0, 0])"
      ]
     },
     "execution_count": 1028,
     "metadata": {},
     "output_type": "execute_result"
    }
   ],
   "source": [
    "kmeans.labels_"
   ]
  },
  {
   "cell_type": "code",
   "execution_count": 1029,
   "id": "01371112",
   "metadata": {},
   "outputs": [
    {
     "data": {
      "text/html": [
       "<div>\n",
       "<style scoped>\n",
       "    .dataframe tbody tr th:only-of-type {\n",
       "        vertical-align: middle;\n",
       "    }\n",
       "\n",
       "    .dataframe tbody tr th {\n",
       "        vertical-align: top;\n",
       "    }\n",
       "\n",
       "    .dataframe thead th {\n",
       "        text-align: right;\n",
       "    }\n",
       "</style>\n",
       "<table border=\"1\" class=\"dataframe\">\n",
       "  <thead>\n",
       "    <tr style=\"text-align: right;\">\n",
       "      <th></th>\n",
       "      <th>CUSTOMER_NUMBER</th>\n",
       "      <th>MEAN_DAYS_PAYMENT</th>\n",
       "      <th>STD_DAYS_PAYMENT</th>\n",
       "      <th>SEGMENT_ID</th>\n",
       "    </tr>\n",
       "  </thead>\n",
       "  <tbody>\n",
       "    <tr>\n",
       "      <th>0</th>\n",
       "      <td>37403</td>\n",
       "      <td>99.000000</td>\n",
       "      <td>64.490309</td>\n",
       "      <td>1</td>\n",
       "    </tr>\n",
       "    <tr>\n",
       "      <th>1</th>\n",
       "      <td>4003</td>\n",
       "      <td>52.588235</td>\n",
       "      <td>35.855932</td>\n",
       "      <td>0</td>\n",
       "    </tr>\n",
       "    <tr>\n",
       "      <th>2</th>\n",
       "      <td>1409</td>\n",
       "      <td>151.501837</td>\n",
       "      <td>256.743823</td>\n",
       "      <td>4</td>\n",
       "    </tr>\n",
       "    <tr>\n",
       "      <th>3</th>\n",
       "      <td>15768</td>\n",
       "      <td>138.138346</td>\n",
       "      <td>229.819959</td>\n",
       "      <td>4</td>\n",
       "    </tr>\n",
       "    <tr>\n",
       "      <th>4</th>\n",
       "      <td>20884</td>\n",
       "      <td>146.775362</td>\n",
       "      <td>101.357935</td>\n",
       "      <td>1</td>\n",
       "    </tr>\n",
       "  </tbody>\n",
       "</table>\n",
       "</div>"
      ],
      "text/plain": [
       "  CUSTOMER_NUMBER  MEAN_DAYS_PAYMENT  STD_DAYS_PAYMENT  SEGMENT_ID\n",
       "0           37403          99.000000         64.490309           1\n",
       "1            4003          52.588235         35.855932           0\n",
       "2            1409         151.501837        256.743823           4\n",
       "3           15768         138.138346        229.819959           4\n",
       "4           20884         146.775362        101.357935           1"
      ]
     },
     "execution_count": 1029,
     "metadata": {},
     "output_type": "execute_result"
    }
   ],
   "source": [
    "#Assign the label to original dataframe\n",
    "cust_segment_df['SEGMENT_ID'] = kmeans.labels_\n",
    "cust_segment_df.head()"
   ]
  },
  {
   "cell_type": "code",
   "execution_count": 1030,
   "id": "5e6009cb",
   "metadata": {},
   "outputs": [
    {
     "data": {
      "text/plain": [
       "0    747\n",
       "1    204\n",
       "4     53\n",
       "2     32\n",
       "3     12\n",
       "Name: SEGMENT_ID, dtype: int64"
      ]
     },
     "execution_count": 1030,
     "metadata": {},
     "output_type": "execute_result"
    }
   ],
   "source": [
    "cust_segment_df.SEGMENT_ID.value_counts()"
   ]
  },
  {
   "cell_type": "markdown",
   "id": "a402deb2",
   "metadata": {},
   "source": [
    "#### Plotting above results "
   ]
  },
  {
   "cell_type": "code",
   "execution_count": 1031,
   "id": "7101dd6a",
   "metadata": {},
   "outputs": [
    {
     "data": {
      "text/plain": [
       "<AxesSubplot:xlabel='SEGMENT_ID', ylabel='MEAN_DAYS_PAYMENT'>"
      ]
     },
     "execution_count": 1031,
     "metadata": {},
     "output_type": "execute_result"
    },
    {
     "data": {
      "image/png": "[encoded data removed]",
      "text/plain": [
       "<Figure size 432x288 with 1 Axes>"
      ]
     },
     "metadata": {
      "needs_background": "light"
     },
     "output_type": "display_data"
    }
   ],
   "source": [
    "# plot: SEGMENT vs MEAN\n",
    "sns.boxplot(x='SEGMENT_ID', y='MEAN_DAYS_PAYMENT', data=cust_segment_df)"
   ]
  },
  {
   "cell_type": "code",
   "execution_count": 1032,
   "id": "0c796ef2",
   "metadata": {},
   "outputs": [
    {
     "data": {
      "text/plain": [
       "<AxesSubplot:xlabel='SEGMENT_ID', ylabel='STD_DAYS_PAYMENT'>"
      ]
     },
     "execution_count": 1032,
     "metadata": {},
     "output_type": "execute_result"
    },
    {
     "data": {
      "image/png": "[encoded data removed]",
      "text/plain": [
       "<Figure size 432x288 with 1 Axes>"
      ]
     },
     "metadata": {
      "needs_background": "light"
     },
     "output_type": "display_data"
    }
   ],
   "source": [
    "# plot: SEGMENT vs STD\n",
    "sns.boxplot(x='SEGMENT_ID', y='STD_DAYS_PAYMENT', data=cust_segment_df)"
   ]
  },
  {
   "cell_type": "markdown",
   "id": "c6db0681",
   "metadata": {},
   "source": [
    "#### Note: From Above Graphs: SEGMENTS '1' and '4' are best customers having less MEAN and STD"
   ]
  },
  {
   "cell_type": "markdown",
   "id": "0484a089",
   "metadata": {},
   "source": [
    "### <font color=blue>4. Model Building and Evaluation</font>"
   ]
  },
  {
   "cell_type": "markdown",
   "id": "59ffb215",
   "metadata": {},
   "source": [
    "#### Merging the datasets and preparing for modeling"
   ]
  },
  {
   "cell_type": "code",
   "execution_count": 1033,
   "id": "37c31c5a",
   "metadata": {},
   "outputs": [],
   "source": [
    "inp0 = pd.merge(inp0, cust_segment_df, on='CUSTOMER_NUMBER')"
   ]
  },
  {
   "cell_type": "code",
   "execution_count": 1034,
   "id": "eaceedc6",
   "metadata": {},
   "outputs": [
    {
     "data": {
      "text/html": [
       "<div>\n",
       "<style scoped>\n",
       "    .dataframe tbody tr th:only-of-type {\n",
       "        vertical-align: middle;\n",
       "    }\n",
       "\n",
       "    .dataframe tbody tr th {\n",
       "        vertical-align: top;\n",
       "    }\n",
       "\n",
       "    .dataframe thead th {\n",
       "        text-align: right;\n",
       "    }\n",
       "</style>\n",
       "<table border=\"1\" class=\"dataframe\">\n",
       "  <thead>\n",
       "    <tr style=\"text-align: right;\">\n",
       "      <th></th>\n",
       "      <th>RECEIPT_METHOD</th>\n",
       "      <th>CUSTOMER_NAME</th>\n",
       "      <th>CUSTOMER_NUMBER</th>\n",
       "      <th>RECEIPT_DOC_NO</th>\n",
       "      <th>RECEIPT_DATE</th>\n",
       "      <th>CLASS</th>\n",
       "      <th>CURRENCY_CODE</th>\n",
       "      <th>Local Amount</th>\n",
       "      <th>USD Amount</th>\n",
       "      <th>INVOICE_ALLOCATED</th>\n",
       "      <th>...</th>\n",
       "      <th>DUE_DATE</th>\n",
       "      <th>PAYMENT_TERM</th>\n",
       "      <th>INVOICE_CLASS</th>\n",
       "      <th>INVOICE_CURRENCY_CODE</th>\n",
       "      <th>INVOICE_TYPE</th>\n",
       "      <th>AGE</th>\n",
       "      <th>TARGET</th>\n",
       "      <th>MEAN_DAYS_PAYMENT</th>\n",
       "      <th>STD_DAYS_PAYMENT</th>\n",
       "      <th>SEGMENT_ID</th>\n",
       "    </tr>\n",
       "  </thead>\n",
       "  <tbody>\n",
       "    <tr>\n",
       "      <th>0</th>\n",
       "      <td>WIRE</td>\n",
       "      <td>C EA Corp</td>\n",
       "      <td>37403</td>\n",
       "      <td>1.421000e+10</td>\n",
       "      <td>2021-04-20</td>\n",
       "      <td>PMT</td>\n",
       "      <td>USD</td>\n",
       "      <td>370990.92</td>\n",
       "      <td>101018.630400</td>\n",
       "      <td>14200000001</td>\n",
       "      <td>...</td>\n",
       "      <td>2020-12-30</td>\n",
       "      <td>58</td>\n",
       "      <td>INV</td>\n",
       "      <td>AED</td>\n",
       "      <td>Non Goods</td>\n",
       "      <td>169</td>\n",
       "      <td>1</td>\n",
       "      <td>99.000000</td>\n",
       "      <td>64.490309</td>\n",
       "      <td>1</td>\n",
       "    </tr>\n",
       "    <tr>\n",
       "      <th>1</th>\n",
       "      <td>WIRE</td>\n",
       "      <td>C EA Corp</td>\n",
       "      <td>37403</td>\n",
       "      <td>1.270000e+11</td>\n",
       "      <td>2021-05-19</td>\n",
       "      <td>PMT</td>\n",
       "      <td>AED</td>\n",
       "      <td>2859.09</td>\n",
       "      <td>2859.090000</td>\n",
       "      <td>1.2721E+11</td>\n",
       "      <td>...</td>\n",
       "      <td>2021-05-30</td>\n",
       "      <td>53</td>\n",
       "      <td>INV</td>\n",
       "      <td>AED</td>\n",
       "      <td>Non Goods</td>\n",
       "      <td>42</td>\n",
       "      <td>0</td>\n",
       "      <td>99.000000</td>\n",
       "      <td>64.490309</td>\n",
       "      <td>1</td>\n",
       "    </tr>\n",
       "    <tr>\n",
       "      <th>2</th>\n",
       "      <td>WIRE</td>\n",
       "      <td>C EA Corp</td>\n",
       "      <td>37403</td>\n",
       "      <td>2.410000e+11</td>\n",
       "      <td>2021-02-20</td>\n",
       "      <td>PMT</td>\n",
       "      <td>AED</td>\n",
       "      <td>38.85</td>\n",
       "      <td>10.578625</td>\n",
       "      <td>2.412E+11</td>\n",
       "      <td>...</td>\n",
       "      <td>2020-12-26</td>\n",
       "      <td>30</td>\n",
       "      <td>INV</td>\n",
       "      <td>AED</td>\n",
       "      <td>Non Goods</td>\n",
       "      <td>86</td>\n",
       "      <td>1</td>\n",
       "      <td>99.000000</td>\n",
       "      <td>64.490309</td>\n",
       "      <td>1</td>\n",
       "    </tr>\n",
       "    <tr>\n",
       "      <th>3</th>\n",
       "      <td>WIRE</td>\n",
       "      <td>RADW Corp</td>\n",
       "      <td>4003</td>\n",
       "      <td>9.921000e+10</td>\n",
       "      <td>2021-01-31</td>\n",
       "      <td>PMT</td>\n",
       "      <td>SAR</td>\n",
       "      <td>183750.00</td>\n",
       "      <td>48990.211330</td>\n",
       "      <td>99200000043</td>\n",
       "      <td>...</td>\n",
       "      <td>2021-01-28</td>\n",
       "      <td>30</td>\n",
       "      <td>INV</td>\n",
       "      <td>SAR</td>\n",
       "      <td>Non Goods</td>\n",
       "      <td>33</td>\n",
       "      <td>1</td>\n",
       "      <td>52.588235</td>\n",
       "      <td>35.855932</td>\n",
       "      <td>0</td>\n",
       "    </tr>\n",
       "    <tr>\n",
       "      <th>4</th>\n",
       "      <td>WIRE</td>\n",
       "      <td>RADW Corp</td>\n",
       "      <td>4003</td>\n",
       "      <td>9.921000e+10</td>\n",
       "      <td>2021-01-31</td>\n",
       "      <td>PMT</td>\n",
       "      <td>SAR</td>\n",
       "      <td>157500.00</td>\n",
       "      <td>41991.609710</td>\n",
       "      <td>99210000003</td>\n",
       "      <td>...</td>\n",
       "      <td>2021-03-01</td>\n",
       "      <td>30</td>\n",
       "      <td>INV</td>\n",
       "      <td>SAR</td>\n",
       "      <td>Non Goods</td>\n",
       "      <td>1</td>\n",
       "      <td>0</td>\n",
       "      <td>52.588235</td>\n",
       "      <td>35.855932</td>\n",
       "      <td>0</td>\n",
       "    </tr>\n",
       "  </tbody>\n",
       "</table>\n",
       "<p>5 rows × 21 columns</p>\n",
       "</div>"
      ],
      "text/plain": [
       "  RECEIPT_METHOD CUSTOMER_NAME CUSTOMER_NUMBER  RECEIPT_DOC_NO RECEIPT_DATE  \\\n",
       "0           WIRE     C EA Corp           37403    1.421000e+10   2021-04-20   \n",
       "1           WIRE     C EA Corp           37403    1.270000e+11   2021-05-19   \n",
       "2           WIRE     C EA Corp           37403    2.410000e+11   2021-02-20   \n",
       "3           WIRE     RADW Corp            4003    9.921000e+10   2021-01-31   \n",
       "4           WIRE     RADW Corp            4003    9.921000e+10   2021-01-31   \n",
       "\n",
       "  CLASS CURRENCY_CODE  Local Amount     USD Amount INVOICE_ALLOCATED  ...  \\\n",
       "0   PMT           USD     370990.92  101018.630400       14200000001  ...   \n",
       "1   PMT           AED       2859.09    2859.090000        1.2721E+11  ...   \n",
       "2   PMT           AED         38.85      10.578625         2.412E+11  ...   \n",
       "3   PMT           SAR     183750.00   48990.211330       99200000043  ...   \n",
       "4   PMT           SAR     157500.00   41991.609710       99210000003  ...   \n",
       "\n",
       "    DUE_DATE PAYMENT_TERM  INVOICE_CLASS INVOICE_CURRENCY_CODE INVOICE_TYPE  \\\n",
       "0 2020-12-30           58            INV                   AED    Non Goods   \n",
       "1 2021-05-30           53            INV                   AED    Non Goods   \n",
       "2 2020-12-26           30            INV                   AED    Non Goods   \n",
       "3 2021-01-28           30            INV                   SAR    Non Goods   \n",
       "4 2021-03-01           30            INV                   SAR    Non Goods   \n",
       "\n",
       "   AGE  TARGET  MEAN_DAYS_PAYMENT  STD_DAYS_PAYMENT  SEGMENT_ID  \n",
       "0  169       1          99.000000         64.490309           1  \n",
       "1   42       0          99.000000         64.490309           1  \n",
       "2   86       1          99.000000         64.490309           1  \n",
       "3   33       1          52.588235         35.855932           0  \n",
       "4    1       0          52.588235         35.855932           0  \n",
       "\n",
       "[5 rows x 21 columns]"
      ]
     },
     "execution_count": 1034,
     "metadata": {},
     "output_type": "execute_result"
    }
   ],
   "source": [
    "inp0.head()"
   ]
  },
  {
   "cell_type": "code",
   "execution_count": 1035,
   "id": "8afc5503",
   "metadata": {},
   "outputs": [
    {
     "name": "stdout",
     "output_type": "stream",
     "text": [
      "<class 'pandas.core.frame.DataFrame'>\n",
      "Int64Index: 92788 entries, 0 to 92787\n",
      "Data columns (total 21 columns):\n",
      " #   Column                 Non-Null Count  Dtype         \n",
      "---  ------                 --------------  -----         \n",
      " 0   RECEIPT_METHOD         92788 non-null  object        \n",
      " 1   CUSTOMER_NAME          92788 non-null  object        \n",
      " 2   CUSTOMER_NUMBER        92788 non-null  object        \n",
      " 3   RECEIPT_DOC_NO         92759 non-null  float64       \n",
      " 4   RECEIPT_DATE           92788 non-null  datetime64[ns]\n",
      " 5   CLASS                  92788 non-null  object        \n",
      " 6   CURRENCY_CODE          92788 non-null  object        \n",
      " 7   Local Amount           92788 non-null  float64       \n",
      " 8   USD Amount             92788 non-null  float64       \n",
      " 9   INVOICE_ALLOCATED      92788 non-null  object        \n",
      " 10  INVOICE_CREATION_DATE  92788 non-null  datetime64[ns]\n",
      " 11  DUE_DATE               92788 non-null  datetime64[ns]\n",
      " 12  PAYMENT_TERM           92788 non-null  int64         \n",
      " 13  INVOICE_CLASS          92788 non-null  object        \n",
      " 14  INVOICE_CURRENCY_CODE  92788 non-null  object        \n",
      " 15  INVOICE_TYPE           92788 non-null  object        \n",
      " 16  AGE                    92788 non-null  int64         \n",
      " 17  TARGET                 92788 non-null  int32         \n",
      " 18  MEAN_DAYS_PAYMENT      92788 non-null  float64       \n",
      " 19  STD_DAYS_PAYMENT       92788 non-null  float64       \n",
      " 20  SEGMENT_ID             92788 non-null  int32         \n",
      "dtypes: datetime64[ns](3), float64(5), int32(2), int64(2), object(9)\n",
      "memory usage: 14.9+ MB\n"
     ]
    }
   ],
   "source": [
    "inp0.info()"
   ]
  },
  {
   "cell_type": "code",
   "execution_count": 1036,
   "id": "ff1f607c",
   "metadata": {},
   "outputs": [],
   "source": [
    "## convert segment to String for modeling\n",
    "\n",
    "inp0[\"SEGMENT_ID\"] = inp0[\"SEGMENT_ID\"].astype(str)"
   ]
  },
  {
   "cell_type": "markdown",
   "id": "fb91cb5f",
   "metadata": {},
   "source": [
    "##### Dropping unwanted columns"
   ]
  },
  {
   "cell_type": "code",
   "execution_count": 1037,
   "id": "38aad4e0",
   "metadata": {},
   "outputs": [],
   "source": [
    "## remove unwated columns, create a list of columns that can be removed from the modeling\n",
    "unwanted_cols=['RECEIPT_METHOD','CUSTOMER_NAME','RECEIPT_DOC_NO','RECEIPT_DATE','CLASS','CURRENCY_CODE',\n",
    "               'Local Amount','INVOICE_ALLOCATED','INVOICE_CREATION_DATE','DUE_DATE','INVOICE_TYPE', 'AGE',  \n",
    "               'MEAN_DAYS_PAYMENT', 'STD_DAYS_PAYMENT'\n",
    "]"
   ]
  },
  {
   "cell_type": "code",
   "execution_count": 1038,
   "id": "92e89ff2",
   "metadata": {},
   "outputs": [],
   "source": [
    "inp0 = inp0.drop(unwanted_cols, axis=1)"
   ]
  },
  {
   "cell_type": "code",
   "execution_count": 1039,
   "id": "832863c7",
   "metadata": {},
   "outputs": [],
   "source": [
    "X = inp0.drop(['TARGET','CUSTOMER_NUMBER'], axis=1)"
   ]
  },
  {
   "cell_type": "code",
   "execution_count": 1040,
   "id": "fe3772c5",
   "metadata": {},
   "outputs": [
    {
     "name": "stdout",
     "output_type": "stream",
     "text": [
      "<class 'pandas.core.frame.DataFrame'>\n",
      "Int64Index: 92788 entries, 0 to 92787\n",
      "Data columns (total 5 columns):\n",
      " #   Column                 Non-Null Count  Dtype  \n",
      "---  ------                 --------------  -----  \n",
      " 0   USD Amount             92788 non-null  float64\n",
      " 1   PAYMENT_TERM           92788 non-null  int64  \n",
      " 2   INVOICE_CLASS          92788 non-null  object \n",
      " 3   INVOICE_CURRENCY_CODE  92788 non-null  object \n",
      " 4   SEGMENT_ID             92788 non-null  object \n",
      "dtypes: float64(1), int64(1), object(3)\n",
      "memory usage: 4.2+ MB\n"
     ]
    }
   ],
   "source": [
    "X.info()"
   ]
  },
  {
   "cell_type": "markdown",
   "id": "296594a9",
   "metadata": {},
   "source": [
    "#### creating dummy variables for categorical values"
   ]
  },
  {
   "cell_type": "code",
   "execution_count": 1041,
   "id": "042eea01",
   "metadata": {},
   "outputs": [],
   "source": [
    "curr = pd.get_dummies(X['INVOICE_CURRENCY_CODE'],drop_first=True).add_prefix('curr_')\n",
    "segment = pd.get_dummies(X['SEGMENT_ID'],drop_first=True).add_prefix('segment_')\n",
    "invoice = pd.get_dummies(X['INVOICE_CLASS'],drop_first=True).add_prefix('invoice_')"
   ]
  },
  {
   "cell_type": "code",
   "execution_count": 1042,
   "id": "74f4731b",
   "metadata": {},
   "outputs": [],
   "source": [
    "X=pd.concat([X,curr],axis=1)\n",
    "X=pd.concat([X,segment],axis=1)\n",
    "X=pd.concat([X,invoice],axis=1)"
   ]
  },
  {
   "cell_type": "code",
   "execution_count": 1043,
   "id": "892636b2",
   "metadata": {},
   "outputs": [],
   "source": [
    "X.drop(['INVOICE_CURRENCY_CODE'], axis = 1, inplace = True)\n",
    "X.drop(['SEGMENT_ID'], axis = 1, inplace = True)\n",
    "X.drop(['INVOICE_CLASS'], axis = 1, inplace = True)"
   ]
  },
  {
   "cell_type": "code",
   "execution_count": 1044,
   "id": "cb465feb",
   "metadata": {},
   "outputs": [
    {
     "data": {
      "text/html": [
       "<div>\n",
       "<style scoped>\n",
       "    .dataframe tbody tr th:only-of-type {\n",
       "        vertical-align: middle;\n",
       "    }\n",
       "\n",
       "    .dataframe tbody tr th {\n",
       "        vertical-align: top;\n",
       "    }\n",
       "\n",
       "    .dataframe thead th {\n",
       "        text-align: right;\n",
       "    }\n",
       "</style>\n",
       "<table border=\"1\" class=\"dataframe\">\n",
       "  <thead>\n",
       "    <tr style=\"text-align: right;\">\n",
       "      <th></th>\n",
       "      <th>USD Amount</th>\n",
       "      <th>PAYMENT_TERM</th>\n",
       "      <th>curr_BHD</th>\n",
       "      <th>curr_EUR</th>\n",
       "      <th>curr_GBP</th>\n",
       "      <th>curr_JOD</th>\n",
       "      <th>curr_KWD</th>\n",
       "      <th>curr_QAR</th>\n",
       "      <th>curr_SAR</th>\n",
       "      <th>curr_USD</th>\n",
       "      <th>segment_1</th>\n",
       "      <th>segment_2</th>\n",
       "      <th>segment_3</th>\n",
       "      <th>segment_4</th>\n",
       "      <th>invoice_DM</th>\n",
       "      <th>invoice_INV</th>\n",
       "    </tr>\n",
       "  </thead>\n",
       "  <tbody>\n",
       "    <tr>\n",
       "      <th>0</th>\n",
       "      <td>101018.630400</td>\n",
       "      <td>58</td>\n",
       "      <td>0</td>\n",
       "      <td>0</td>\n",
       "      <td>0</td>\n",
       "      <td>0</td>\n",
       "      <td>0</td>\n",
       "      <td>0</td>\n",
       "      <td>0</td>\n",
       "      <td>0</td>\n",
       "      <td>1</td>\n",
       "      <td>0</td>\n",
       "      <td>0</td>\n",
       "      <td>0</td>\n",
       "      <td>0</td>\n",
       "      <td>1</td>\n",
       "    </tr>\n",
       "    <tr>\n",
       "      <th>1</th>\n",
       "      <td>2859.090000</td>\n",
       "      <td>53</td>\n",
       "      <td>0</td>\n",
       "      <td>0</td>\n",
       "      <td>0</td>\n",
       "      <td>0</td>\n",
       "      <td>0</td>\n",
       "      <td>0</td>\n",
       "      <td>0</td>\n",
       "      <td>0</td>\n",
       "      <td>1</td>\n",
       "      <td>0</td>\n",
       "      <td>0</td>\n",
       "      <td>0</td>\n",
       "      <td>0</td>\n",
       "      <td>1</td>\n",
       "    </tr>\n",
       "    <tr>\n",
       "      <th>2</th>\n",
       "      <td>10.578625</td>\n",
       "      <td>30</td>\n",
       "      <td>0</td>\n",
       "      <td>0</td>\n",
       "      <td>0</td>\n",
       "      <td>0</td>\n",
       "      <td>0</td>\n",
       "      <td>0</td>\n",
       "      <td>0</td>\n",
       "      <td>0</td>\n",
       "      <td>1</td>\n",
       "      <td>0</td>\n",
       "      <td>0</td>\n",
       "      <td>0</td>\n",
       "      <td>0</td>\n",
       "      <td>1</td>\n",
       "    </tr>\n",
       "    <tr>\n",
       "      <th>3</th>\n",
       "      <td>48990.211330</td>\n",
       "      <td>30</td>\n",
       "      <td>0</td>\n",
       "      <td>0</td>\n",
       "      <td>0</td>\n",
       "      <td>0</td>\n",
       "      <td>0</td>\n",
       "      <td>0</td>\n",
       "      <td>1</td>\n",
       "      <td>0</td>\n",
       "      <td>0</td>\n",
       "      <td>0</td>\n",
       "      <td>0</td>\n",
       "      <td>0</td>\n",
       "      <td>0</td>\n",
       "      <td>1</td>\n",
       "    </tr>\n",
       "    <tr>\n",
       "      <th>4</th>\n",
       "      <td>41991.609710</td>\n",
       "      <td>30</td>\n",
       "      <td>0</td>\n",
       "      <td>0</td>\n",
       "      <td>0</td>\n",
       "      <td>0</td>\n",
       "      <td>0</td>\n",
       "      <td>0</td>\n",
       "      <td>1</td>\n",
       "      <td>0</td>\n",
       "      <td>0</td>\n",
       "      <td>0</td>\n",
       "      <td>0</td>\n",
       "      <td>0</td>\n",
       "      <td>0</td>\n",
       "      <td>1</td>\n",
       "    </tr>\n",
       "  </tbody>\n",
       "</table>\n",
       "</div>"
      ],
      "text/plain": [
       "      USD Amount  PAYMENT_TERM  curr_BHD  curr_EUR  curr_GBP  curr_JOD  \\\n",
       "0  101018.630400            58         0         0         0         0   \n",
       "1    2859.090000            53         0         0         0         0   \n",
       "2      10.578625            30         0         0         0         0   \n",
       "3   48990.211330            30         0         0         0         0   \n",
       "4   41991.609710            30         0         0         0         0   \n",
       "\n",
       "   curr_KWD  curr_QAR  curr_SAR  curr_USD  segment_1  segment_2  segment_3  \\\n",
       "0         0         0         0         0          1          0          0   \n",
       "1         0         0         0         0          1          0          0   \n",
       "2         0         0         0         0          1          0          0   \n",
       "3         0         0         1         0          0          0          0   \n",
       "4         0         0         1         0          0          0          0   \n",
       "\n",
       "   segment_4  invoice_DM  invoice_INV  \n",
       "0          0           0            1  \n",
       "1          0           0            1  \n",
       "2          0           0            1  \n",
       "3          0           0            1  \n",
       "4          0           0            1  "
      ]
     },
     "execution_count": 1044,
     "metadata": {},
     "output_type": "execute_result"
    }
   ],
   "source": [
    "X.head()"
   ]
  },
  {
   "cell_type": "code",
   "execution_count": 1045,
   "id": "a421bed3",
   "metadata": {},
   "outputs": [],
   "source": [
    "y = inp0['TARGET']"
   ]
  },
  {
   "cell_type": "code",
   "execution_count": 1046,
   "id": "29e53f50",
   "metadata": {},
   "outputs": [
    {
     "data": {
      "text/plain": [
       "1    60910\n",
       "0    31878\n",
       "Name: TARGET, dtype: int64"
      ]
     },
     "execution_count": 1046,
     "metadata": {},
     "output_type": "execute_result"
    }
   ],
   "source": [
    "y.value_counts()"
   ]
  },
  {
   "cell_type": "markdown",
   "id": "50fad387",
   "metadata": {},
   "source": [
    "### Applying Random forest classification"
   ]
  },
  {
   "cell_type": "code",
   "execution_count": 1047,
   "id": "9b8cd988",
   "metadata": {},
   "outputs": [],
   "source": [
    "from sklearn.model_selection import train_test_split"
   ]
  },
  {
   "cell_type": "code",
   "execution_count": 1048,
   "id": "9844d9d0",
   "metadata": {},
   "outputs": [],
   "source": [
    "from sklearn.ensemble import RandomForestClassifier\n",
    "from sklearn.metrics import confusion_matrix, accuracy_score"
   ]
  },
  {
   "cell_type": "code",
   "execution_count": 1049,
   "id": "7248d3e5",
   "metadata": {},
   "outputs": [
    {
     "data": {
      "text/plain": [
       "((64951, 16), (27837, 16))"
      ]
     },
     "execution_count": 1049,
     "metadata": {},
     "output_type": "execute_result"
    }
   ],
   "source": [
    "X_train, X_test, y_train, y_test = train_test_split(X, y, train_size=0.7, random_state=42)\n",
    "X_train.shape, X_test.shape"
   ]
  },
  {
   "cell_type": "code",
   "execution_count": 1050,
   "id": "1954992f",
   "metadata": {},
   "outputs": [
    {
     "name": "stdout",
     "output_type": "stream",
     "text": [
      "<class 'pandas.core.frame.DataFrame'>\n",
      "Int64Index: 64951 entries, 78268 to 15795\n",
      "Data columns (total 16 columns):\n",
      " #   Column        Non-Null Count  Dtype  \n",
      "---  ------        --------------  -----  \n",
      " 0   USD Amount    64951 non-null  float64\n",
      " 1   PAYMENT_TERM  64951 non-null  int64  \n",
      " 2   curr_BHD      64951 non-null  uint8  \n",
      " 3   curr_EUR      64951 non-null  uint8  \n",
      " 4   curr_GBP      64951 non-null  uint8  \n",
      " 5   curr_JOD      64951 non-null  uint8  \n",
      " 6   curr_KWD      64951 non-null  uint8  \n",
      " 7   curr_QAR      64951 non-null  uint8  \n",
      " 8   curr_SAR      64951 non-null  uint8  \n",
      " 9   curr_USD      64951 non-null  uint8  \n",
      " 10  segment_1     64951 non-null  uint8  \n",
      " 11  segment_2     64951 non-null  uint8  \n",
      " 12  segment_3     64951 non-null  uint8  \n",
      " 13  segment_4     64951 non-null  uint8  \n",
      " 14  invoice_DM    64951 non-null  uint8  \n",
      " 15  invoice_INV   64951 non-null  uint8  \n",
      "dtypes: float64(1), int64(1), uint8(14)\n",
      "memory usage: 2.4 MB\n"
     ]
    }
   ],
   "source": [
    "X_train.info()"
   ]
  },
  {
   "cell_type": "code",
   "execution_count": 1051,
   "id": "a747c970",
   "metadata": {},
   "outputs": [],
   "source": [
    "rf = RandomForestClassifier(random_state=42, n_estimators=10, max_depth=10, max_features=10, min_samples_leaf=10)"
   ]
  },
  {
   "cell_type": "code",
   "execution_count": 1052,
   "id": "120ff545",
   "metadata": {},
   "outputs": [
    {
     "data": {
      "text/plain": [
       "RandomForestClassifier(max_depth=10, max_features=10, min_samples_leaf=10,\n",
       "                       n_estimators=10, random_state=42)"
      ]
     },
     "execution_count": 1052,
     "metadata": {},
     "output_type": "execute_result"
    }
   ],
   "source": [
    "rf.fit(X_train, y_train)"
   ]
  },
  {
   "cell_type": "code",
   "execution_count": 1053,
   "id": "495955e7",
   "metadata": {},
   "outputs": [],
   "source": [
    "y_train_pred = rf.predict(X_train)"
   ]
  },
  {
   "cell_type": "markdown",
   "id": "5c815fc0",
   "metadata": {},
   "source": [
    "#### Checking the performance of the model on train data"
   ]
  },
  {
   "cell_type": "code",
   "execution_count": 1054,
   "id": "86b61fe9",
   "metadata": {},
   "outputs": [
    {
     "data": {
      "text/plain": [
       "0.8301642776862558"
      ]
     },
     "execution_count": 1054,
     "metadata": {},
     "output_type": "execute_result"
    }
   ],
   "source": [
    "accuracy_score(y_train, y_train_pred)"
   ]
  },
  {
   "cell_type": "code",
   "execution_count": 1055,
   "id": "6ae19db2",
   "metadata": {},
   "outputs": [
    {
     "data": {
      "text/plain": [
       "array([[14178,  8153],\n",
       "       [ 2878, 39742]], dtype=int64)"
      ]
     },
     "execution_count": 1055,
     "metadata": {},
     "output_type": "execute_result"
    }
   ],
   "source": [
    "cm = confusion_matrix(y_train, y_train_pred)\n",
    "cm"
   ]
  },
  {
   "cell_type": "code",
   "execution_count": 1056,
   "id": "e3c56ccf",
   "metadata": {},
   "outputs": [
    {
     "name": "stdout",
     "output_type": "stream",
     "text": [
      "              precision    recall  f1-score   support\n",
      "\n",
      "           0       0.83      0.63      0.72     22331\n",
      "           1       0.83      0.93      0.88     42620\n",
      "\n",
      "    accuracy                           0.83     64951\n",
      "   macro avg       0.83      0.78      0.80     64951\n",
      "weighted avg       0.83      0.83      0.82     64951\n",
      "\n"
     ]
    }
   ],
   "source": [
    "print(sklearn.metrics.classification_report(y_train,y_train_pred))"
   ]
  },
  {
   "cell_type": "code",
   "execution_count": 1057,
   "id": "71558350",
   "metadata": {},
   "outputs": [
    {
     "data": {
      "text/plain": [
       "DecisionTreeClassifier(max_depth=10, max_features=10, min_samples_leaf=10,\n",
       "                       random_state=1608637542)"
      ]
     },
     "execution_count": 1057,
     "metadata": {},
     "output_type": "execute_result"
    }
   ],
   "source": [
    "rf.estimators_[0]"
   ]
  },
  {
   "cell_type": "code",
   "execution_count": 1058,
   "id": "dc6fec8b",
   "metadata": {},
   "outputs": [],
   "source": [
    "sample_tree = rf.estimators_[4]"
   ]
  },
  {
   "cell_type": "markdown",
   "id": "0f548d7c",
   "metadata": {},
   "source": [
    "#### Predicting the model on test data"
   ]
  },
  {
   "cell_type": "code",
   "execution_count": 1059,
   "id": "5008b586",
   "metadata": {},
   "outputs": [],
   "source": [
    "# Predict the test set labels\n",
    "y_test_pred = rf.predict(X_test)"
   ]
  },
  {
   "cell_type": "code",
   "execution_count": 1060,
   "id": "a17d2e08",
   "metadata": {},
   "outputs": [
    {
     "data": {
      "text/plain": [
       "0.8260229191364012"
      ]
     },
     "execution_count": 1060,
     "metadata": {},
     "output_type": "execute_result"
    }
   ],
   "source": [
    "accuracy_score(y_test, y_test_pred)"
   ]
  },
  {
   "cell_type": "code",
   "execution_count": 1061,
   "id": "7c8b7aee",
   "metadata": {},
   "outputs": [
    {
     "data": {
      "text/plain": [
       "array([[ 6068,  3479],\n",
       "       [ 1364, 16926]], dtype=int64)"
      ]
     },
     "execution_count": 1061,
     "metadata": {},
     "output_type": "execute_result"
    }
   ],
   "source": [
    "cm = confusion_matrix(y_test, y_test_pred)\n",
    "cm"
   ]
  },
  {
   "cell_type": "code",
   "execution_count": 1062,
   "id": "a675f150",
   "metadata": {},
   "outputs": [
    {
     "name": "stdout",
     "output_type": "stream",
     "text": [
      "              precision    recall  f1-score   support\n",
      "\n",
      "           0       0.82      0.64      0.71      9547\n",
      "           1       0.83      0.93      0.87     18290\n",
      "\n",
      "    accuracy                           0.83     27837\n",
      "   macro avg       0.82      0.78      0.79     27837\n",
      "weighted avg       0.83      0.83      0.82     27837\n",
      "\n"
     ]
    }
   ],
   "source": [
    "print(sklearn.metrics.classification_report(y_test,y_test_pred))"
   ]
  },
  {
   "cell_type": "markdown",
   "id": "9953c8b5",
   "metadata": {},
   "source": [
    "#### Accuracy and other parameters are similar for train and test indicating no over-fitting"
   ]
  },
  {
   "cell_type": "code",
   "execution_count": 1063,
   "id": "53338c60",
   "metadata": {},
   "outputs": [],
   "source": [
    "imp_df = pd.DataFrame({\n",
    "    \"Varname\": X_train.columns,\n",
    "    \"Imp\": rf.feature_importances_\n",
    "})"
   ]
  },
  {
   "cell_type": "code",
   "execution_count": 1064,
   "id": "ff4467ad",
   "metadata": {},
   "outputs": [
    {
     "data": {
      "text/html": [
       "<div>\n",
       "<style scoped>\n",
       "    .dataframe tbody tr th:only-of-type {\n",
       "        vertical-align: middle;\n",
       "    }\n",
       "\n",
       "    .dataframe tbody tr th {\n",
       "        vertical-align: top;\n",
       "    }\n",
       "\n",
       "    .dataframe thead th {\n",
       "        text-align: right;\n",
       "    }\n",
       "</style>\n",
       "<table border=\"1\" class=\"dataframe\">\n",
       "  <thead>\n",
       "    <tr style=\"text-align: right;\">\n",
       "      <th></th>\n",
       "      <th>Varname</th>\n",
       "      <th>Imp</th>\n",
       "    </tr>\n",
       "  </thead>\n",
       "  <tbody>\n",
       "    <tr>\n",
       "      <th>1</th>\n",
       "      <td>PAYMENT_TERM</td>\n",
       "      <td>0.455277</td>\n",
       "    </tr>\n",
       "    <tr>\n",
       "      <th>0</th>\n",
       "      <td>USD Amount</td>\n",
       "      <td>0.265619</td>\n",
       "    </tr>\n",
       "    <tr>\n",
       "      <th>13</th>\n",
       "      <td>segment_4</td>\n",
       "      <td>0.083679</td>\n",
       "    </tr>\n",
       "    <tr>\n",
       "      <th>8</th>\n",
       "      <td>curr_SAR</td>\n",
       "      <td>0.069747</td>\n",
       "    </tr>\n",
       "    <tr>\n",
       "      <th>10</th>\n",
       "      <td>segment_1</td>\n",
       "      <td>0.068180</td>\n",
       "    </tr>\n",
       "    <tr>\n",
       "      <th>9</th>\n",
       "      <td>curr_USD</td>\n",
       "      <td>0.020088</td>\n",
       "    </tr>\n",
       "    <tr>\n",
       "      <th>12</th>\n",
       "      <td>segment_3</td>\n",
       "      <td>0.014649</td>\n",
       "    </tr>\n",
       "    <tr>\n",
       "      <th>3</th>\n",
       "      <td>curr_EUR</td>\n",
       "      <td>0.013608</td>\n",
       "    </tr>\n",
       "    <tr>\n",
       "      <th>15</th>\n",
       "      <td>invoice_INV</td>\n",
       "      <td>0.004441</td>\n",
       "    </tr>\n",
       "    <tr>\n",
       "      <th>11</th>\n",
       "      <td>segment_2</td>\n",
       "      <td>0.001712</td>\n",
       "    </tr>\n",
       "    <tr>\n",
       "      <th>6</th>\n",
       "      <td>curr_KWD</td>\n",
       "      <td>0.001324</td>\n",
       "    </tr>\n",
       "    <tr>\n",
       "      <th>14</th>\n",
       "      <td>invoice_DM</td>\n",
       "      <td>0.001040</td>\n",
       "    </tr>\n",
       "    <tr>\n",
       "      <th>2</th>\n",
       "      <td>curr_BHD</td>\n",
       "      <td>0.000527</td>\n",
       "    </tr>\n",
       "    <tr>\n",
       "      <th>7</th>\n",
       "      <td>curr_QAR</td>\n",
       "      <td>0.000069</td>\n",
       "    </tr>\n",
       "    <tr>\n",
       "      <th>4</th>\n",
       "      <td>curr_GBP</td>\n",
       "      <td>0.000030</td>\n",
       "    </tr>\n",
       "    <tr>\n",
       "      <th>5</th>\n",
       "      <td>curr_JOD</td>\n",
       "      <td>0.000009</td>\n",
       "    </tr>\n",
       "  </tbody>\n",
       "</table>\n",
       "</div>"
      ],
      "text/plain": [
       "         Varname       Imp\n",
       "1   PAYMENT_TERM  0.455277\n",
       "0     USD Amount  0.265619\n",
       "13     segment_4  0.083679\n",
       "8       curr_SAR  0.069747\n",
       "10     segment_1  0.068180\n",
       "9       curr_USD  0.020088\n",
       "12     segment_3  0.014649\n",
       "3       curr_EUR  0.013608\n",
       "15   invoice_INV  0.004441\n",
       "11     segment_2  0.001712\n",
       "6       curr_KWD  0.001324\n",
       "14    invoice_DM  0.001040\n",
       "2       curr_BHD  0.000527\n",
       "7       curr_QAR  0.000069\n",
       "4       curr_GBP  0.000030\n",
       "5       curr_JOD  0.000009"
      ]
     },
     "execution_count": 1064,
     "metadata": {},
     "output_type": "execute_result"
    }
   ],
   "source": [
    "imp_df.sort_values(by=\"Imp\", ascending=False)"
   ]
  },
  {
   "cell_type": "markdown",
   "id": "77cc8050",
   "metadata": {},
   "source": [
    "### Hyperparameter tuning"
   ]
  },
  {
   "cell_type": "code",
   "execution_count": 1065,
   "id": "2ca747e2",
   "metadata": {},
   "outputs": [],
   "source": [
    "from sklearn.model_selection import GridSearchCV"
   ]
  },
  {
   "cell_type": "code",
   "execution_count": 1066,
   "id": "51a99a0b",
   "metadata": {},
   "outputs": [],
   "source": [
    "classifier_rf = RandomForestClassifier(random_state=42, n_jobs=-1)"
   ]
  },
  {
   "cell_type": "code",
   "execution_count": 1067,
   "id": "b6a8cfbf",
   "metadata": {},
   "outputs": [],
   "source": [
    "# Create the parameter grid based on the results of random search \n",
    "params = {\n",
    "    'max_depth': [3, 5, 10, 20],\n",
    "    'min_samples_leaf': [10, 20, 50],\n",
    "    'n_estimators': [10, 20, 30, 50]\n",
    "}"
   ]
  },
  {
   "cell_type": "code",
   "execution_count": 1068,
   "id": "ac5c0bb9",
   "metadata": {},
   "outputs": [],
   "source": [
    "# Instantiate the grid search model\n",
    "grid_search = GridSearchCV(estimator=classifier_rf, param_grid=params, \n",
    "                          cv=4, n_jobs=-1, verbose=1, scoring = \"accuracy\")"
   ]
  },
  {
   "cell_type": "code",
   "execution_count": 1069,
   "id": "39b7df6e",
   "metadata": {},
   "outputs": [
    {
     "name": "stdout",
     "output_type": "stream",
     "text": [
      "Fitting 4 folds for each of 48 candidates, totalling 192 fits\n",
      "CPU times: total: 6.16 s\n",
      "Wall time: 20.9 s\n"
     ]
    },
    {
     "data": {
      "text/plain": [
       "GridSearchCV(cv=4, estimator=RandomForestClassifier(n_jobs=-1, random_state=42),\n",
       "             n_jobs=-1,\n",
       "             param_grid={'max_depth': [3, 5, 10, 20],\n",
       "                         'min_samples_leaf': [10, 20, 50],\n",
       "                         'n_estimators': [10, 20, 30, 50]},\n",
       "             scoring='accuracy', verbose=1)"
      ]
     },
     "execution_count": 1069,
     "metadata": {},
     "output_type": "execute_result"
    }
   ],
   "source": [
    "%%time\n",
    "grid_search.fit(X_train,y_train)"
   ]
  },
  {
   "cell_type": "code",
   "execution_count": 1070,
   "id": "37eb466b",
   "metadata": {},
   "outputs": [
    {
     "data": {
      "text/plain": [
       "0.8422657242396"
      ]
     },
     "execution_count": 1070,
     "metadata": {},
     "output_type": "execute_result"
    }
   ],
   "source": [
    "grid_search.best_score_"
   ]
  },
  {
   "cell_type": "code",
   "execution_count": 1071,
   "id": "27022597",
   "metadata": {},
   "outputs": [],
   "source": [
    "rf_best = grid_search.best_estimator_"
   ]
  },
  {
   "cell_type": "code",
   "execution_count": 1072,
   "id": "5daf3eb6",
   "metadata": {},
   "outputs": [
    {
     "data": {
      "text/plain": [
       "RandomForestClassifier(max_depth=20, min_samples_leaf=10, n_estimators=50,\n",
       "                       n_jobs=-1, random_state=42)"
      ]
     },
     "execution_count": 1072,
     "metadata": {},
     "output_type": "execute_result"
    }
   ],
   "source": [
    "rf_best"
   ]
  },
  {
   "cell_type": "markdown",
   "id": "fd452cd7",
   "metadata": {},
   "source": [
    "#### Rerun the training with new parameters"
   ]
  },
  {
   "cell_type": "code",
   "execution_count": 1073,
   "id": "ab71e1c6",
   "metadata": {},
   "outputs": [],
   "source": [
    "rf = RandomForestClassifier(max_depth=20, max_features=10, min_samples_leaf=10,\n",
    "                       n_estimators=50, n_jobs=-1, random_state=42)"
   ]
  },
  {
   "cell_type": "code",
   "execution_count": 1074,
   "id": "e1048512",
   "metadata": {},
   "outputs": [
    {
     "data": {
      "text/plain": [
       "RandomForestClassifier(max_depth=20, max_features=10, min_samples_leaf=10,\n",
       "                       n_estimators=50, n_jobs=-1, random_state=42)"
      ]
     },
     "execution_count": 1074,
     "metadata": {},
     "output_type": "execute_result"
    }
   ],
   "source": [
    "rf.fit(X_train, y_train)"
   ]
  },
  {
   "cell_type": "code",
   "execution_count": 1075,
   "id": "6fd5863e",
   "metadata": {},
   "outputs": [],
   "source": [
    "y_train_pred = rf.predict(X_train)"
   ]
  },
  {
   "cell_type": "code",
   "execution_count": 1076,
   "id": "45f23910",
   "metadata": {},
   "outputs": [
    {
     "data": {
      "text/plain": [
       "0.8762143769918862"
      ]
     },
     "execution_count": 1076,
     "metadata": {},
     "output_type": "execute_result"
    }
   ],
   "source": [
    "accuracy_score(y_train, y_train_pred)"
   ]
  },
  {
   "cell_type": "code",
   "execution_count": 1077,
   "id": "97275a5c",
   "metadata": {},
   "outputs": [
    {
     "name": "stdout",
     "output_type": "stream",
     "text": [
      "              precision    recall  f1-score   support\n",
      "\n",
      "           0       0.88      0.74      0.80     22331\n",
      "           1       0.87      0.95      0.91     42620\n",
      "\n",
      "    accuracy                           0.88     64951\n",
      "   macro avg       0.88      0.84      0.86     64951\n",
      "weighted avg       0.88      0.88      0.87     64951\n",
      "\n"
     ]
    }
   ],
   "source": [
    "print(sklearn.metrics.classification_report(y_train,y_train_pred))"
   ]
  },
  {
   "cell_type": "code",
   "execution_count": 1078,
   "id": "e5406dda",
   "metadata": {},
   "outputs": [],
   "source": [
    "# Predict the test set labels\n",
    "y_pred = rf.predict(X_test)"
   ]
  },
  {
   "cell_type": "code",
   "execution_count": 1079,
   "id": "c4814e13",
   "metadata": {},
   "outputs": [
    {
     "data": {
      "text/plain": [
       "0.8619822538348242"
      ]
     },
     "execution_count": 1079,
     "metadata": {},
     "output_type": "execute_result"
    }
   ],
   "source": [
    "accuracy_score(y_test, y_pred)"
   ]
  },
  {
   "cell_type": "markdown",
   "id": "80a0aa1a",
   "metadata": {},
   "source": [
    "#### Accuracy and other metrics have improved after hyper parameter tuning"
   ]
  },
  {
   "cell_type": "code",
   "execution_count": 1080,
   "id": "4554a095",
   "metadata": {},
   "outputs": [
    {
     "name": "stdout",
     "output_type": "stream",
     "text": [
      "              precision    recall  f1-score   support\n",
      "\n",
      "           0       0.86      0.72      0.78      9547\n",
      "           1       0.86      0.94      0.90     18290\n",
      "\n",
      "    accuracy                           0.86     27837\n",
      "   macro avg       0.86      0.83      0.84     27837\n",
      "weighted avg       0.86      0.86      0.86     27837\n",
      "\n"
     ]
    }
   ],
   "source": [
    "print(sklearn.metrics.classification_report(y_test,y_pred))"
   ]
  },
  {
   "cell_type": "markdown",
   "id": "79a0450a",
   "metadata": {},
   "source": [
    "#### Identifying the important features"
   ]
  },
  {
   "cell_type": "code",
   "execution_count": 1081,
   "id": "a3a66618",
   "metadata": {},
   "outputs": [
    {
     "data": {
      "text/plain": [
       "array([3.66345219e-01, 3.88859611e-01, 1.08155698e-03, 1.23358749e-02,\n",
       "       2.25103448e-04, 5.86179476e-05, 2.22222463e-03, 3.60377542e-04,\n",
       "       6.51042647e-02, 2.12128805e-02, 5.55878402e-02, 2.34708457e-03,\n",
       "       1.26335912e-02, 6.54944816e-02, 5.73658917e-04, 5.55761249e-03])"
      ]
     },
     "execution_count": 1081,
     "metadata": {},
     "output_type": "execute_result"
    }
   ],
   "source": [
    "rf.feature_importances_"
   ]
  },
  {
   "cell_type": "code",
   "execution_count": 1082,
   "id": "772e5448",
   "metadata": {},
   "outputs": [
    {
     "data": {
      "text/plain": [
       "<BarContainer object of 14 artists>"
      ]
     },
     "execution_count": 1082,
     "metadata": {},
     "output_type": "execute_result"
    },
    {
     "data": {
      "image/png": "[encoded data removed]",
      "text/plain": [
       "<Figure size 1440x864 with 1 Axes>"
      ]
     },
     "metadata": {
      "needs_background": "light"
     },
     "output_type": "display_data"
    }
   ],
   "source": [
    "plt.figure(figsize=(20,12))\n",
    "sorted_idx = rf.feature_importances_.argsort()\n",
    "filter_arr = sorted_idx[-15:-1]\n",
    "#sorted_idx  = filter(lambda sorted_idx: sorted_idx >= 0.01, sorted_idx)\n",
    "plt.barh(X_train.columns[filter_arr], rf.feature_importances_[filter_arr])"
   ]
  },
  {
   "cell_type": "code",
   "execution_count": 1083,
   "id": "48ebb954",
   "metadata": {},
   "outputs": [
    {
     "data": {
      "text/plain": [
       "array([1, 0, 1, ..., 1, 1, 1])"
      ]
     },
     "execution_count": 1083,
     "metadata": {},
     "output_type": "execute_result"
    }
   ],
   "source": [
    "y_pred"
   ]
  },
  {
   "cell_type": "markdown",
   "id": "618e78cc",
   "metadata": {},
   "source": [
    "### <font color=blue> 5. Analysing Open Invoice data</font>"
   ]
  },
  {
   "cell_type": "code",
   "execution_count": 1084,
   "id": "13b6adec",
   "metadata": {},
   "outputs": [],
   "source": [
    "#read the data set of \"application_data\" in inp0.\n",
    "inp1= pd.read_csv(\"Open_Invoice_data.csv\",encoding= 'unicode_escape')"
   ]
  },
  {
   "cell_type": "code",
   "execution_count": 1085,
   "id": "a427ec62",
   "metadata": {},
   "outputs": [
    {
     "name": "stdout",
     "output_type": "stream",
     "text": [
      "<class 'pandas.core.frame.DataFrame'>\n",
      "RangeIndex: 88204 entries, 0 to 88203\n",
      "Data columns (total 14 columns):\n",
      " #   Column                Non-Null Count  Dtype  \n",
      "---  ------                --------------  -----  \n",
      " 0   AS_OF_DATE            88204 non-null  object \n",
      " 1   Customer Type         88204 non-null  object \n",
      " 2   Customer_Name         88204 non-null  object \n",
      " 3   Customer Account No   88201 non-null  float64\n",
      " 4   Transaction Number    88195 non-null  object \n",
      " 5   Transaction Date      88204 non-null  object \n",
      " 6   Payment Term          88204 non-null  object \n",
      " 7   Due Date              88204 non-null  object \n",
      " 8   Transaction Currency  88204 non-null  object \n",
      " 9   Local Amount          88204 non-null  object \n",
      " 10  Transaction Class     88204 non-null  object \n",
      " 11  AGE                   88204 non-null  int64  \n",
      " 12  USD Amount            88204 non-null  object \n",
      " 13  INV_CREATION_DATE     88204 non-null  object \n",
      "dtypes: float64(1), int64(1), object(12)\n",
      "memory usage: 9.4+ MB\n"
     ]
    }
   ],
   "source": [
    "inp1.info()"
   ]
  },
  {
   "cell_type": "code",
   "execution_count": 1086,
   "id": "dea47c5d",
   "metadata": {},
   "outputs": [
    {
     "data": {
      "text/html": [
       "<div>\n",
       "<style scoped>\n",
       "    .dataframe tbody tr th:only-of-type {\n",
       "        vertical-align: middle;\n",
       "    }\n",
       "\n",
       "    .dataframe tbody tr th {\n",
       "        vertical-align: top;\n",
       "    }\n",
       "\n",
       "    .dataframe thead th {\n",
       "        text-align: right;\n",
       "    }\n",
       "</style>\n",
       "<table border=\"1\" class=\"dataframe\">\n",
       "  <thead>\n",
       "    <tr style=\"text-align: right;\">\n",
       "      <th></th>\n",
       "      <th>AS_OF_DATE</th>\n",
       "      <th>Customer Type</th>\n",
       "      <th>Customer_Name</th>\n",
       "      <th>Customer Account No</th>\n",
       "      <th>Transaction Number</th>\n",
       "      <th>Transaction Date</th>\n",
       "      <th>Payment Term</th>\n",
       "      <th>Due Date</th>\n",
       "      <th>Transaction Currency</th>\n",
       "      <th>Local Amount</th>\n",
       "      <th>Transaction Class</th>\n",
       "      <th>AGE</th>\n",
       "      <th>USD Amount</th>\n",
       "      <th>INV_CREATION_DATE</th>\n",
       "    </tr>\n",
       "  </thead>\n",
       "  <tbody>\n",
       "    <tr>\n",
       "      <th>0</th>\n",
       "      <td>04-APR-2022 01:07:01</td>\n",
       "      <td>3rd Party</td>\n",
       "      <td>GIVE Corp</td>\n",
       "      <td>49144.0</td>\n",
       "      <td>100210000438</td>\n",
       "      <td>21/12/2021</td>\n",
       "      <td>Immediate</td>\n",
       "      <td>21/12/2021</td>\n",
       "      <td>AED</td>\n",
       "      <td>-3,088</td>\n",
       "      <td>CREDIT NOTE</td>\n",
       "      <td>105</td>\n",
       "      <td>-3,088</td>\n",
       "      <td>12/21/2021 12:53</td>\n",
       "    </tr>\n",
       "    <tr>\n",
       "      <th>1</th>\n",
       "      <td>04-APR-2022 01:07:01</td>\n",
       "      <td>Related Party</td>\n",
       "      <td>AL J Corp</td>\n",
       "      <td>23152.0</td>\n",
       "      <td>100220000052</td>\n",
       "      <td>01/02/2022</td>\n",
       "      <td>30 Days from Inv Date</td>\n",
       "      <td>03/03/2022</td>\n",
       "      <td>USD</td>\n",
       "      <td>2,000</td>\n",
       "      <td>INVOICE</td>\n",
       "      <td>33</td>\n",
       "      <td>2,000</td>\n",
       "      <td>2/1/2022 14:09</td>\n",
       "    </tr>\n",
       "    <tr>\n",
       "      <th>2</th>\n",
       "      <td>04-APR-2022 01:07:01</td>\n",
       "      <td>Related Party</td>\n",
       "      <td>AL J Corp</td>\n",
       "      <td>23152.0</td>\n",
       "      <td>100220000143</td>\n",
       "      <td>24/03/2022</td>\n",
       "      <td>30 Days from Inv Date</td>\n",
       "      <td>23/04/2022</td>\n",
       "      <td>USD</td>\n",
       "      <td>2,000</td>\n",
       "      <td>INVOICE</td>\n",
       "      <td>-18</td>\n",
       "      <td>2,000</td>\n",
       "      <td>3/24/2022 17:46</td>\n",
       "    </tr>\n",
       "    <tr>\n",
       "      <th>3</th>\n",
       "      <td>04-APR-2022 01:07:01</td>\n",
       "      <td>Related Party</td>\n",
       "      <td>AL R Corp</td>\n",
       "      <td>23312.0</td>\n",
       "      <td>100220000001</td>\n",
       "      <td>04/01/2022</td>\n",
       "      <td>15 Days from Inv Date</td>\n",
       "      <td>19/01/2022</td>\n",
       "      <td>AED</td>\n",
       "      <td>2,415</td>\n",
       "      <td>INVOICE</td>\n",
       "      <td>76</td>\n",
       "      <td>2,415</td>\n",
       "      <td>1/5/2022 11:49</td>\n",
       "    </tr>\n",
       "    <tr>\n",
       "      <th>4</th>\n",
       "      <td>04-APR-2022 01:07:01</td>\n",
       "      <td>Related Party</td>\n",
       "      <td>ALLI Corp</td>\n",
       "      <td>7530.0</td>\n",
       "      <td>100220000105</td>\n",
       "      <td>03/03/2022</td>\n",
       "      <td>30 Days from EOM</td>\n",
       "      <td>30/04/2022</td>\n",
       "      <td>AED</td>\n",
       "      <td>3,800</td>\n",
       "      <td>INVOICE</td>\n",
       "      <td>-25</td>\n",
       "      <td>3,800</td>\n",
       "      <td>3/3/2022 22:30</td>\n",
       "    </tr>\n",
       "  </tbody>\n",
       "</table>\n",
       "</div>"
      ],
      "text/plain": [
       "             AS_OF_DATE  Customer Type Customer_Name  Customer Account No  \\\n",
       "0  04-APR-2022 01:07:01      3rd Party     GIVE Corp              49144.0   \n",
       "1  04-APR-2022 01:07:01  Related Party     AL J Corp              23152.0   \n",
       "2  04-APR-2022 01:07:01  Related Party     AL J Corp              23152.0   \n",
       "3  04-APR-2022 01:07:01  Related Party     AL R Corp              23312.0   \n",
       "4  04-APR-2022 01:07:01  Related Party     ALLI Corp               7530.0   \n",
       "\n",
       "  Transaction Number Transaction Date           Payment Term    Due Date  \\\n",
       "0       100210000438       21/12/2021              Immediate  21/12/2021   \n",
       "1       100220000052       01/02/2022  30 Days from Inv Date  03/03/2022   \n",
       "2       100220000143       24/03/2022  30 Days from Inv Date  23/04/2022   \n",
       "3       100220000001       04/01/2022  15 Days from Inv Date  19/01/2022   \n",
       "4       100220000105       03/03/2022       30 Days from EOM  30/04/2022   \n",
       "\n",
       "  Transaction Currency Local Amount Transaction Class  AGE USD Amount  \\\n",
       "0                  AED       -3,088       CREDIT NOTE  105     -3,088   \n",
       "1                  USD        2,000           INVOICE   33      2,000   \n",
       "2                  USD        2,000           INVOICE  -18      2,000   \n",
       "3                  AED        2,415           INVOICE   76      2,415   \n",
       "4                  AED        3,800           INVOICE  -25      3,800   \n",
       "\n",
       "  INV_CREATION_DATE  \n",
       "0  12/21/2021 12:53  \n",
       "1    2/1/2022 14:09  \n",
       "2   3/24/2022 17:46  \n",
       "3    1/5/2022 11:49  \n",
       "4    3/3/2022 22:30  "
      ]
     },
     "execution_count": 1086,
     "metadata": {},
     "output_type": "execute_result"
    }
   ],
   "source": [
    "inp1.head()"
   ]
  },
  {
   "cell_type": "code",
   "execution_count": 1087,
   "id": "479e6747",
   "metadata": {},
   "outputs": [
    {
     "data": {
      "text/plain": [
       "(88204, 14)"
      ]
     },
     "execution_count": 1087,
     "metadata": {},
     "output_type": "execute_result"
    }
   ],
   "source": [
    "inp1.shape"
   ]
  },
  {
   "cell_type": "code",
   "execution_count": 1088,
   "id": "6920ab6a",
   "metadata": {},
   "outputs": [
    {
     "data": {
      "text/plain": [
       "AS_OF_DATE              0.000000\n",
       "Customer Type           0.000000\n",
       "Customer_Name           0.000000\n",
       "Customer Account No     0.003401\n",
       "Transaction Number      0.010204\n",
       "Transaction Date        0.000000\n",
       "Payment Term            0.000000\n",
       "Due Date                0.000000\n",
       "Transaction Currency    0.000000\n",
       "Local Amount            0.000000\n",
       "Transaction Class       0.000000\n",
       "AGE                     0.000000\n",
       "USD Amount              0.000000\n",
       "INV_CREATION_DATE       0.000000\n",
       "dtype: float64"
      ]
     },
     "execution_count": 1088,
     "metadata": {},
     "output_type": "execute_result"
    }
   ],
   "source": [
    "#identify columns with  null values\n",
    "empty_columns_prev= inp1.isnull().sum()*100/len(inp1)\n",
    "empty_columns_prev"
   ]
  },
  {
   "cell_type": "code",
   "execution_count": 1089,
   "id": "f901a4ba",
   "metadata": {},
   "outputs": [],
   "source": [
    "#dropping customer account column with null\n",
    "inp1 = inp1.dropna(subset=['Customer Account No'])"
   ]
  },
  {
   "cell_type": "code",
   "execution_count": 1090,
   "id": "fe599327",
   "metadata": {},
   "outputs": [
    {
     "name": "stdout",
     "output_type": "stream",
     "text": [
      "<class 'pandas.core.frame.DataFrame'>\n",
      "Int64Index: 88201 entries, 0 to 88203\n",
      "Data columns (total 14 columns):\n",
      " #   Column                Non-Null Count  Dtype  \n",
      "---  ------                --------------  -----  \n",
      " 0   AS_OF_DATE            88201 non-null  object \n",
      " 1   Customer Type         88201 non-null  object \n",
      " 2   Customer_Name         88201 non-null  object \n",
      " 3   Customer Account No   88201 non-null  float64\n",
      " 4   Transaction Number    88192 non-null  object \n",
      " 5   Transaction Date      88201 non-null  object \n",
      " 6   Payment Term          88201 non-null  object \n",
      " 7   Due Date              88201 non-null  object \n",
      " 8   Transaction Currency  88201 non-null  object \n",
      " 9   Local Amount          88201 non-null  object \n",
      " 10  Transaction Class     88201 non-null  object \n",
      " 11  AGE                   88201 non-null  int64  \n",
      " 12  USD Amount            88201 non-null  object \n",
      " 13  INV_CREATION_DATE     88201 non-null  object \n",
      "dtypes: float64(1), int64(1), object(12)\n",
      "memory usage: 10.1+ MB\n"
     ]
    }
   ],
   "source": [
    "inp1.info()"
   ]
  },
  {
   "cell_type": "code",
   "execution_count": 1091,
   "id": "53250c13",
   "metadata": {},
   "outputs": [],
   "source": [
    "## Transaction date seems to be a better fit than Inv generation date as Invoice generation is always late\n",
    "inp1['Transaction Date'] = pd.to_datetime(inp1['Transaction Date']).dt.date"
   ]
  },
  {
   "cell_type": "code",
   "execution_count": 1092,
   "id": "0989f0f1",
   "metadata": {},
   "outputs": [],
   "source": [
    "inp1['Due Date'] = pd.to_datetime(inp1['Due Date']).dt.date"
   ]
  },
  {
   "cell_type": "code",
   "execution_count": 1093,
   "id": "6a95994a",
   "metadata": {},
   "outputs": [],
   "source": [
    "inp1['PAYMENT_TERM'] = inp1['Due Date'] - inp1['Transaction Date']"
   ]
  },
  {
   "cell_type": "code",
   "execution_count": 1094,
   "id": "79d2b2aa",
   "metadata": {},
   "outputs": [],
   "source": [
    "inp1['PAYMENT_TERM'] =inp1['PAYMENT_TERM'].dt.days"
   ]
  },
  {
   "cell_type": "code",
   "execution_count": 1095,
   "id": "ac3abc7a",
   "metadata": {},
   "outputs": [
    {
     "data": {
      "text/plain": [
       "count    88201.000000\n",
       "mean        29.829118\n",
       "std         71.873618\n",
       "min       -333.000000\n",
       "25%          0.000000\n",
       "50%         30.000000\n",
       "75%         60.000000\n",
       "max       1980.000000\n",
       "Name: PAYMENT_TERM, dtype: float64"
      ]
     },
     "execution_count": 1095,
     "metadata": {},
     "output_type": "execute_result"
    }
   ],
   "source": [
    "inp1['PAYMENT_TERM'].describe()"
   ]
  },
  {
   "cell_type": "code",
   "execution_count": 1096,
   "id": "3252c1cb",
   "metadata": {
    "scrolled": true
   },
   "outputs": [
    {
     "data": {
      "text/html": [
       "<div>\n",
       "<style scoped>\n",
       "    .dataframe tbody tr th:only-of-type {\n",
       "        vertical-align: middle;\n",
       "    }\n",
       "\n",
       "    .dataframe tbody tr th {\n",
       "        vertical-align: top;\n",
       "    }\n",
       "\n",
       "    .dataframe thead th {\n",
       "        text-align: right;\n",
       "    }\n",
       "</style>\n",
       "<table border=\"1\" class=\"dataframe\">\n",
       "  <thead>\n",
       "    <tr style=\"text-align: right;\">\n",
       "      <th></th>\n",
       "      <th>AS_OF_DATE</th>\n",
       "      <th>Customer Type</th>\n",
       "      <th>Customer_Name</th>\n",
       "      <th>Customer Account No</th>\n",
       "      <th>Transaction Number</th>\n",
       "      <th>Transaction Date</th>\n",
       "      <th>Payment Term</th>\n",
       "      <th>Due Date</th>\n",
       "      <th>Transaction Currency</th>\n",
       "      <th>Local Amount</th>\n",
       "      <th>Transaction Class</th>\n",
       "      <th>AGE</th>\n",
       "      <th>USD Amount</th>\n",
       "      <th>INV_CREATION_DATE</th>\n",
       "      <th>PAYMENT_TERM</th>\n",
       "    </tr>\n",
       "  </thead>\n",
       "  <tbody>\n",
       "    <tr>\n",
       "      <th>3</th>\n",
       "      <td>04-APR-2022 01:07:01</td>\n",
       "      <td>Related Party</td>\n",
       "      <td>AL R Corp</td>\n",
       "      <td>23312.0</td>\n",
       "      <td>100220000001</td>\n",
       "      <td>2022-04-01</td>\n",
       "      <td>15 Days from Inv Date</td>\n",
       "      <td>2022-01-19</td>\n",
       "      <td>AED</td>\n",
       "      <td>2,415</td>\n",
       "      <td>INVOICE</td>\n",
       "      <td>76</td>\n",
       "      <td>2,415</td>\n",
       "      <td>1/5/2022 11:49</td>\n",
       "      <td>-72</td>\n",
       "    </tr>\n",
       "    <tr>\n",
       "      <th>28</th>\n",
       "      <td>04-APR-2022 01:07:01</td>\n",
       "      <td>Related Party</td>\n",
       "      <td>FITR Corp</td>\n",
       "      <td>1409.0</td>\n",
       "      <td>100220000070</td>\n",
       "      <td>2022-08-02</td>\n",
       "      <td>30 Days from EOM</td>\n",
       "      <td>2022-03-30</td>\n",
       "      <td>USD</td>\n",
       "      <td>2,300</td>\n",
       "      <td>INVOICE</td>\n",
       "      <td>6</td>\n",
       "      <td>2,300</td>\n",
       "      <td>2/8/2022 18:09</td>\n",
       "      <td>-125</td>\n",
       "    </tr>\n",
       "    <tr>\n",
       "      <th>29</th>\n",
       "      <td>04-APR-2022 01:07:01</td>\n",
       "      <td>Related Party</td>\n",
       "      <td>FITR Corp</td>\n",
       "      <td>1409.0</td>\n",
       "      <td>100220000071</td>\n",
       "      <td>2022-08-02</td>\n",
       "      <td>30 Days from EOM</td>\n",
       "      <td>2022-03-30</td>\n",
       "      <td>USD</td>\n",
       "      <td>2,000</td>\n",
       "      <td>INVOICE</td>\n",
       "      <td>6</td>\n",
       "      <td>2,000</td>\n",
       "      <td>2/8/2022 18:09</td>\n",
       "      <td>-125</td>\n",
       "    </tr>\n",
       "    <tr>\n",
       "      <th>30</th>\n",
       "      <td>04-APR-2022 01:07:01</td>\n",
       "      <td>Related Party</td>\n",
       "      <td>FITR Corp</td>\n",
       "      <td>1409.0</td>\n",
       "      <td>100220000072</td>\n",
       "      <td>2022-08-02</td>\n",
       "      <td>30 Days from EOM</td>\n",
       "      <td>2022-03-30</td>\n",
       "      <td>USD</td>\n",
       "      <td>2,500</td>\n",
       "      <td>INVOICE</td>\n",
       "      <td>6</td>\n",
       "      <td>2,500</td>\n",
       "      <td>2/8/2022 18:09</td>\n",
       "      <td>-125</td>\n",
       "    </tr>\n",
       "    <tr>\n",
       "      <th>31</th>\n",
       "      <td>04-APR-2022 01:07:01</td>\n",
       "      <td>Related Party</td>\n",
       "      <td>FITR Corp</td>\n",
       "      <td>1409.0</td>\n",
       "      <td>100220000073</td>\n",
       "      <td>2022-08-02</td>\n",
       "      <td>30 Days from EOM</td>\n",
       "      <td>2022-03-30</td>\n",
       "      <td>USD</td>\n",
       "      <td>2,300</td>\n",
       "      <td>INVOICE</td>\n",
       "      <td>6</td>\n",
       "      <td>2,300</td>\n",
       "      <td>2/8/2022 18:09</td>\n",
       "      <td>-125</td>\n",
       "    </tr>\n",
       "    <tr>\n",
       "      <th>...</th>\n",
       "      <td>...</td>\n",
       "      <td>...</td>\n",
       "      <td>...</td>\n",
       "      <td>...</td>\n",
       "      <td>...</td>\n",
       "      <td>...</td>\n",
       "      <td>...</td>\n",
       "      <td>...</td>\n",
       "      <td>...</td>\n",
       "      <td>...</td>\n",
       "      <td>...</td>\n",
       "      <td>...</td>\n",
       "      <td>...</td>\n",
       "      <td>...</td>\n",
       "      <td>...</td>\n",
       "    </tr>\n",
       "    <tr>\n",
       "      <th>88175</th>\n",
       "      <td>04-APR-2022 01:07:01</td>\n",
       "      <td>3rd Party</td>\n",
       "      <td>SAUD Corp</td>\n",
       "      <td>23136.0</td>\n",
       "      <td>165200000404</td>\n",
       "      <td>2020-06-10</td>\n",
       "      <td>60 Days from Inv Date</td>\n",
       "      <td>2020-05-12</td>\n",
       "      <td>USD</td>\n",
       "      <td>2,315</td>\n",
       "      <td>INVOICE</td>\n",
       "      <td>486</td>\n",
       "      <td>2,315</td>\n",
       "      <td>10/6/2020 12:38</td>\n",
       "      <td>-29</td>\n",
       "    </tr>\n",
       "    <tr>\n",
       "      <th>88176</th>\n",
       "      <td>04-APR-2022 01:07:01</td>\n",
       "      <td>3rd Party</td>\n",
       "      <td>SAUD Corp</td>\n",
       "      <td>23136.0</td>\n",
       "      <td>165200000408</td>\n",
       "      <td>2020-07-10</td>\n",
       "      <td>60 Days from Inv Date</td>\n",
       "      <td>2020-06-12</td>\n",
       "      <td>USD</td>\n",
       "      <td>1,477</td>\n",
       "      <td>INVOICE</td>\n",
       "      <td>485</td>\n",
       "      <td>1,477</td>\n",
       "      <td>10/7/2020 16:11</td>\n",
       "      <td>-28</td>\n",
       "    </tr>\n",
       "    <tr>\n",
       "      <th>88186</th>\n",
       "      <td>04-APR-2022 01:07:01</td>\n",
       "      <td>3rd Party</td>\n",
       "      <td>SAUD Corp</td>\n",
       "      <td>23136.0</td>\n",
       "      <td>165220000032</td>\n",
       "      <td>2022-07-03</td>\n",
       "      <td>60 Days from Inv Date</td>\n",
       "      <td>2022-06-05</td>\n",
       "      <td>USD</td>\n",
       "      <td>114,039</td>\n",
       "      <td>INVOICE</td>\n",
       "      <td>-31</td>\n",
       "      <td>114,039</td>\n",
       "      <td>3/7/2022 9:58</td>\n",
       "      <td>-28</td>\n",
       "    </tr>\n",
       "    <tr>\n",
       "      <th>88190</th>\n",
       "      <td>04-APR-2022 01:07:01</td>\n",
       "      <td>3rd Party</td>\n",
       "      <td>SCEN Corp</td>\n",
       "      <td>40146.0</td>\n",
       "      <td>165210000067</td>\n",
       "      <td>2021-08-05</td>\n",
       "      <td>60 Days from Inv Date</td>\n",
       "      <td>2021-07-07</td>\n",
       "      <td>USD</td>\n",
       "      <td>17,339</td>\n",
       "      <td>INVOICE</td>\n",
       "      <td>272</td>\n",
       "      <td>17,339</td>\n",
       "      <td>5/8/2021 12:24</td>\n",
       "      <td>-29</td>\n",
       "    </tr>\n",
       "    <tr>\n",
       "      <th>88195</th>\n",
       "      <td>04-APR-2022 01:07:01</td>\n",
       "      <td>Related Party</td>\n",
       "      <td>COTY Corp</td>\n",
       "      <td>4017.0</td>\n",
       "      <td>165210000106</td>\n",
       "      <td>2021-12-07</td>\n",
       "      <td>120 Days from Inv Date</td>\n",
       "      <td>2021-09-11</td>\n",
       "      <td>USD</td>\n",
       "      <td>1,385</td>\n",
       "      <td>INVOICE</td>\n",
       "      <td>147</td>\n",
       "      <td>1,385</td>\n",
       "      <td>7/12/2021 11:07</td>\n",
       "      <td>-87</td>\n",
       "    </tr>\n",
       "  </tbody>\n",
       "</table>\n",
       "<p>10786 rows × 15 columns</p>\n",
       "</div>"
      ],
      "text/plain": [
       "                 AS_OF_DATE  Customer Type Customer_Name  Customer Account No  \\\n",
       "3      04-APR-2022 01:07:01  Related Party     AL R Corp              23312.0   \n",
       "28     04-APR-2022 01:07:01  Related Party     FITR Corp               1409.0   \n",
       "29     04-APR-2022 01:07:01  Related Party     FITR Corp               1409.0   \n",
       "30     04-APR-2022 01:07:01  Related Party     FITR Corp               1409.0   \n",
       "31     04-APR-2022 01:07:01  Related Party     FITR Corp               1409.0   \n",
       "...                     ...            ...           ...                  ...   \n",
       "88175  04-APR-2022 01:07:01      3rd Party     SAUD Corp              23136.0   \n",
       "88176  04-APR-2022 01:07:01      3rd Party     SAUD Corp              23136.0   \n",
       "88186  04-APR-2022 01:07:01      3rd Party     SAUD Corp              23136.0   \n",
       "88190  04-APR-2022 01:07:01      3rd Party     SCEN Corp              40146.0   \n",
       "88195  04-APR-2022 01:07:01  Related Party     COTY Corp               4017.0   \n",
       "\n",
       "      Transaction Number Transaction Date            Payment Term    Due Date  \\\n",
       "3           100220000001       2022-04-01   15 Days from Inv Date  2022-01-19   \n",
       "28          100220000070       2022-08-02        30 Days from EOM  2022-03-30   \n",
       "29          100220000071       2022-08-02        30 Days from EOM  2022-03-30   \n",
       "30          100220000072       2022-08-02        30 Days from EOM  2022-03-30   \n",
       "31          100220000073       2022-08-02        30 Days from EOM  2022-03-30   \n",
       "...                  ...              ...                     ...         ...   \n",
       "88175       165200000404       2020-06-10   60 Days from Inv Date  2020-05-12   \n",
       "88176       165200000408       2020-07-10   60 Days from Inv Date  2020-06-12   \n",
       "88186       165220000032       2022-07-03   60 Days from Inv Date  2022-06-05   \n",
       "88190       165210000067       2021-08-05   60 Days from Inv Date  2021-07-07   \n",
       "88195       165210000106       2021-12-07  120 Days from Inv Date  2021-09-11   \n",
       "\n",
       "      Transaction Currency Local Amount Transaction Class  AGE USD Amount  \\\n",
       "3                      AED        2,415           INVOICE   76      2,415   \n",
       "28                     USD        2,300           INVOICE    6      2,300   \n",
       "29                     USD        2,000           INVOICE    6      2,000   \n",
       "30                     USD        2,500           INVOICE    6      2,500   \n",
       "31                     USD        2,300           INVOICE    6      2,300   \n",
       "...                    ...          ...               ...  ...        ...   \n",
       "88175                  USD        2,315           INVOICE  486      2,315   \n",
       "88176                  USD        1,477           INVOICE  485      1,477   \n",
       "88186                  USD      114,039           INVOICE  -31    114,039   \n",
       "88190                  USD       17,339           INVOICE  272     17,339   \n",
       "88195                  USD        1,385           INVOICE  147      1,385   \n",
       "\n",
       "      INV_CREATION_DATE  PAYMENT_TERM  \n",
       "3        1/5/2022 11:49           -72  \n",
       "28       2/8/2022 18:09          -125  \n",
       "29       2/8/2022 18:09          -125  \n",
       "30       2/8/2022 18:09          -125  \n",
       "31       2/8/2022 18:09          -125  \n",
       "...                 ...           ...  \n",
       "88175   10/6/2020 12:38           -29  \n",
       "88176   10/7/2020 16:11           -28  \n",
       "88186     3/7/2022 9:58           -28  \n",
       "88190    5/8/2021 12:24           -29  \n",
       "88195   7/12/2021 11:07           -87  \n",
       "\n",
       "[10786 rows x 15 columns]"
      ]
     },
     "execution_count": 1096,
     "metadata": {},
     "output_type": "execute_result"
    }
   ],
   "source": [
    "#Check all entries of payment term that is negative\n",
    "inp1[inp1['PAYMENT_TERM']<0]"
   ]
  },
  {
   "cell_type": "markdown",
   "id": "94b28030",
   "metadata": {},
   "source": [
    "#### Resetting the Payment term to zero wherever it is negative"
   ]
  },
  {
   "cell_type": "code",
   "execution_count": 1097,
   "id": "de5d827f",
   "metadata": {},
   "outputs": [],
   "source": [
    "inp1['PAYMENT_TERM'] = np.where(inp1['PAYMENT_TERM']<0, 0, inp1['PAYMENT_TERM'])"
   ]
  },
  {
   "cell_type": "code",
   "execution_count": 1098,
   "id": "aa1af651",
   "metadata": {},
   "outputs": [
    {
     "name": "stdout",
     "output_type": "stream",
     "text": [
      "<class 'pandas.core.frame.DataFrame'>\n",
      "Int64Index: 88201 entries, 0 to 88203\n",
      "Data columns (total 15 columns):\n",
      " #   Column                Non-Null Count  Dtype  \n",
      "---  ------                --------------  -----  \n",
      " 0   AS_OF_DATE            88201 non-null  object \n",
      " 1   Customer Type         88201 non-null  object \n",
      " 2   Customer_Name         88201 non-null  object \n",
      " 3   Customer Account No   88201 non-null  float64\n",
      " 4   Transaction Number    88192 non-null  object \n",
      " 5   Transaction Date      88201 non-null  object \n",
      " 6   Payment Term          88201 non-null  object \n",
      " 7   Due Date              88201 non-null  object \n",
      " 8   Transaction Currency  88201 non-null  object \n",
      " 9   Local Amount          88201 non-null  object \n",
      " 10  Transaction Class     88201 non-null  object \n",
      " 11  AGE                   88201 non-null  int64  \n",
      " 12  USD Amount            88201 non-null  object \n",
      " 13  INV_CREATION_DATE     88201 non-null  object \n",
      " 14  PAYMENT_TERM          88201 non-null  int64  \n",
      "dtypes: float64(1), int64(2), object(12)\n",
      "memory usage: 10.8+ MB\n"
     ]
    }
   ],
   "source": [
    "inp1.info()"
   ]
  },
  {
   "cell_type": "markdown",
   "id": "c547c832",
   "metadata": {},
   "source": [
    "#### Drop all records with AGE positive as we only need to deal with the ones where AGE is negative"
   ]
  },
  {
   "cell_type": "code",
   "execution_count": 1099,
   "id": "41aa1279",
   "metadata": {},
   "outputs": [],
   "source": [
    "inp1 = inp1[inp1['AGE']<0]"
   ]
  },
  {
   "cell_type": "markdown",
   "id": "0f3921e3",
   "metadata": {},
   "source": [
    "### Preparing to use this dataset as a test data "
   ]
  },
  {
   "cell_type": "code",
   "execution_count": 1100,
   "id": "e19dfba0",
   "metadata": {},
   "outputs": [
    {
     "data": {
      "text/plain": [
       "(28080, 15)"
      ]
     },
     "execution_count": 1100,
     "metadata": {},
     "output_type": "execute_result"
    }
   ],
   "source": [
    "inp1.shape"
   ]
  },
  {
   "cell_type": "code",
   "execution_count": 1101,
   "id": "3470c7dc",
   "metadata": {},
   "outputs": [],
   "source": [
    "unwanted_cols=['AS_OF_DATE','Customer Type', 'Customer_Name',\n",
    "                    'Transaction Number', 'Transaction Date', 'Due Date','INV_CREATION_DATE', 'Local Amount','AGE',\n",
    "                   'INV_CREATION_DATE', 'Payment Term'\n",
    "              ]\n",
    "                    "
   ]
  },
  {
   "cell_type": "code",
   "execution_count": 1102,
   "id": "df3c5892",
   "metadata": {},
   "outputs": [],
   "source": [
    "inp1.drop(columns=unwanted_cols,inplace=True)"
   ]
  },
  {
   "cell_type": "code",
   "execution_count": 1103,
   "id": "9d6acefe",
   "metadata": {},
   "outputs": [
    {
     "name": "stdout",
     "output_type": "stream",
     "text": [
      "<class 'pandas.core.frame.DataFrame'>\n",
      "Int64Index: 28080 entries, 2 to 88189\n",
      "Data columns (total 5 columns):\n",
      " #   Column                Non-Null Count  Dtype  \n",
      "---  ------                --------------  -----  \n",
      " 0   Customer Account No   28080 non-null  float64\n",
      " 1   Transaction Currency  28080 non-null  object \n",
      " 2   Transaction Class     28080 non-null  object \n",
      " 3   USD Amount            28080 non-null  object \n",
      " 4   PAYMENT_TERM          28080 non-null  int64  \n",
      "dtypes: float64(1), int64(1), object(3)\n",
      "memory usage: 1.3+ MB\n"
     ]
    }
   ],
   "source": [
    "inp1.info()"
   ]
  },
  {
   "cell_type": "markdown",
   "id": "8a37ea12",
   "metadata": {},
   "source": [
    "#### Rename columns to make it consistent with the train data"
   ]
  },
  {
   "cell_type": "code",
   "execution_count": 1104,
   "id": "9428a2f4",
   "metadata": {},
   "outputs": [],
   "source": [
    "inp1.rename(columns ={'Customer Account No':'CUSTOMER_NUMBER', 'Transaction Currency':'INVOICE_CURRENCY_CODE', \n",
    "                      'Transaction Class': 'INVOICE_CLASS'}, inplace=True)"
   ]
  },
  {
   "cell_type": "code",
   "execution_count": 1105,
   "id": "7b996084",
   "metadata": {},
   "outputs": [
    {
     "name": "stdout",
     "output_type": "stream",
     "text": [
      "<class 'pandas.core.frame.DataFrame'>\n",
      "Int64Index: 28080 entries, 2 to 88189\n",
      "Data columns (total 5 columns):\n",
      " #   Column                 Non-Null Count  Dtype  \n",
      "---  ------                 --------------  -----  \n",
      " 0   CUSTOMER_NUMBER        28080 non-null  float64\n",
      " 1   INVOICE_CURRENCY_CODE  28080 non-null  object \n",
      " 2   INVOICE_CLASS          28080 non-null  object \n",
      " 3   USD Amount             28080 non-null  object \n",
      " 4   PAYMENT_TERM           28080 non-null  int64  \n",
      "dtypes: float64(1), int64(1), object(3)\n",
      "memory usage: 1.3+ MB\n"
     ]
    }
   ],
   "source": [
    "inp1.info()"
   ]
  },
  {
   "cell_type": "code",
   "execution_count": 1106,
   "id": "f918b578",
   "metadata": {
    "scrolled": true
   },
   "outputs": [
    {
     "data": {
      "text/plain": [
       "INVOICE       27770\n",
       "DEBIT NOTE      285\n",
       "PAYMENT          25\n",
       "Name: INVOICE_CLASS, dtype: int64"
      ]
     },
     "execution_count": 1106,
     "metadata": {},
     "output_type": "execute_result"
    }
   ],
   "source": [
    "inp1['INVOICE_CLASS'].value_counts()"
   ]
  },
  {
   "cell_type": "code",
   "execution_count": 1107,
   "id": "07a85b71",
   "metadata": {},
   "outputs": [
    {
     "data": {
      "text/plain": [
       "INV    87290\n",
       "CM      4946\n",
       "DM       552\n",
       "Name: INVOICE_CLASS, dtype: int64"
      ]
     },
     "execution_count": 1107,
     "metadata": {},
     "output_type": "execute_result"
    }
   ],
   "source": [
    "inp0['INVOICE_CLASS'].value_counts()"
   ]
  },
  {
   "cell_type": "code",
   "execution_count": 1108,
   "id": "debd40bf",
   "metadata": {},
   "outputs": [],
   "source": [
    "## Modifying the invoice_class categories to make it consistent with train data\n",
    "\n",
    "inp1['INVOICE_CLASS'] = inp1['INVOICE_CLASS'].replace(['INVOICE','DEBIT NOTE','PAYMENT'],['INV','DM','CM'])"
   ]
  },
  {
   "cell_type": "code",
   "execution_count": 1109,
   "id": "36ca9df3",
   "metadata": {},
   "outputs": [
    {
     "data": {
      "text/html": [
       "<div>\n",
       "<style scoped>\n",
       "    .dataframe tbody tr th:only-of-type {\n",
       "        vertical-align: middle;\n",
       "    }\n",
       "\n",
       "    .dataframe tbody tr th {\n",
       "        vertical-align: top;\n",
       "    }\n",
       "\n",
       "    .dataframe thead th {\n",
       "        text-align: right;\n",
       "    }\n",
       "</style>\n",
       "<table border=\"1\" class=\"dataframe\">\n",
       "  <thead>\n",
       "    <tr style=\"text-align: right;\">\n",
       "      <th></th>\n",
       "      <th>CUSTOMER_NUMBER</th>\n",
       "      <th>INVOICE_CURRENCY_CODE</th>\n",
       "      <th>INVOICE_CLASS</th>\n",
       "      <th>USD Amount</th>\n",
       "      <th>PAYMENT_TERM</th>\n",
       "    </tr>\n",
       "  </thead>\n",
       "  <tbody>\n",
       "    <tr>\n",
       "      <th>2</th>\n",
       "      <td>23152.0</td>\n",
       "      <td>USD</td>\n",
       "      <td>INV</td>\n",
       "      <td>2,000</td>\n",
       "      <td>30</td>\n",
       "    </tr>\n",
       "    <tr>\n",
       "      <th>4</th>\n",
       "      <td>7530.0</td>\n",
       "      <td>AED</td>\n",
       "      <td>INV</td>\n",
       "      <td>3,800</td>\n",
       "      <td>58</td>\n",
       "    </tr>\n",
       "    <tr>\n",
       "      <th>5</th>\n",
       "      <td>7530.0</td>\n",
       "      <td>AED</td>\n",
       "      <td>INV</td>\n",
       "      <td>1,264</td>\n",
       "      <td>58</td>\n",
       "    </tr>\n",
       "    <tr>\n",
       "      <th>6</th>\n",
       "      <td>7530.0</td>\n",
       "      <td>AED</td>\n",
       "      <td>INV</td>\n",
       "      <td>25,858</td>\n",
       "      <td>46</td>\n",
       "    </tr>\n",
       "    <tr>\n",
       "      <th>7</th>\n",
       "      <td>7530.0</td>\n",
       "      <td>AED</td>\n",
       "      <td>INV</td>\n",
       "      <td>39,873</td>\n",
       "      <td>46</td>\n",
       "    </tr>\n",
       "  </tbody>\n",
       "</table>\n",
       "</div>"
      ],
      "text/plain": [
       "   CUSTOMER_NUMBER INVOICE_CURRENCY_CODE INVOICE_CLASS USD Amount  \\\n",
       "2          23152.0                   USD           INV      2,000   \n",
       "4           7530.0                   AED           INV      3,800   \n",
       "5           7530.0                   AED           INV      1,264   \n",
       "6           7530.0                   AED           INV     25,858   \n",
       "7           7530.0                   AED           INV     39,873   \n",
       "\n",
       "   PAYMENT_TERM  \n",
       "2            30  \n",
       "4            58  \n",
       "5            58  \n",
       "6            46  \n",
       "7            46  "
      ]
     },
     "execution_count": 1109,
     "metadata": {},
     "output_type": "execute_result"
    }
   ],
   "source": [
    "inp1.head()"
   ]
  },
  {
   "cell_type": "markdown",
   "id": "1e3d1ce0",
   "metadata": {},
   "source": [
    "#### Convert data types"
   ]
  },
  {
   "cell_type": "code",
   "execution_count": 1110,
   "id": "e28107ad",
   "metadata": {},
   "outputs": [],
   "source": [
    "inp1[\"CUSTOMER_NUMBER\"] = inp1[\"CUSTOMER_NUMBER\"].astype('Int64').astype('str')"
   ]
  },
  {
   "cell_type": "code",
   "execution_count": 1111,
   "id": "88f52d4e",
   "metadata": {},
   "outputs": [],
   "source": [
    "inp1['USD Amount'] = inp1['USD Amount'].str.replace(',', '').astype(float)"
   ]
  },
  {
   "cell_type": "code",
   "execution_count": 1112,
   "id": "2b0326bb",
   "metadata": {},
   "outputs": [
    {
     "name": "stdout",
     "output_type": "stream",
     "text": [
      "<class 'pandas.core.frame.DataFrame'>\n",
      "Int64Index: 28080 entries, 2 to 88189\n",
      "Data columns (total 5 columns):\n",
      " #   Column                 Non-Null Count  Dtype  \n",
      "---  ------                 --------------  -----  \n",
      " 0   CUSTOMER_NUMBER        28080 non-null  object \n",
      " 1   INVOICE_CURRENCY_CODE  28080 non-null  object \n",
      " 2   INVOICE_CLASS          28080 non-null  object \n",
      " 3   USD Amount             28080 non-null  float64\n",
      " 4   PAYMENT_TERM           28080 non-null  int64  \n",
      "dtypes: float64(1), int64(1), object(3)\n",
      "memory usage: 1.3+ MB\n"
     ]
    }
   ],
   "source": [
    "inp1.info()"
   ]
  },
  {
   "cell_type": "code",
   "execution_count": 1113,
   "id": "19bb692e",
   "metadata": {},
   "outputs": [
    {
     "data": {
      "text/html": [
       "<div>\n",
       "<style scoped>\n",
       "    .dataframe tbody tr th:only-of-type {\n",
       "        vertical-align: middle;\n",
       "    }\n",
       "\n",
       "    .dataframe tbody tr th {\n",
       "        vertical-align: top;\n",
       "    }\n",
       "\n",
       "    .dataframe thead th {\n",
       "        text-align: right;\n",
       "    }\n",
       "</style>\n",
       "<table border=\"1\" class=\"dataframe\">\n",
       "  <thead>\n",
       "    <tr style=\"text-align: right;\">\n",
       "      <th></th>\n",
       "      <th>CUSTOMER_NUMBER</th>\n",
       "      <th>INVOICE_CURRENCY_CODE</th>\n",
       "      <th>INVOICE_CLASS</th>\n",
       "      <th>USD Amount</th>\n",
       "      <th>PAYMENT_TERM</th>\n",
       "    </tr>\n",
       "  </thead>\n",
       "  <tbody>\n",
       "    <tr>\n",
       "      <th>2</th>\n",
       "      <td>23152</td>\n",
       "      <td>USD</td>\n",
       "      <td>INV</td>\n",
       "      <td>2000.0</td>\n",
       "      <td>30</td>\n",
       "    </tr>\n",
       "    <tr>\n",
       "      <th>4</th>\n",
       "      <td>7530</td>\n",
       "      <td>AED</td>\n",
       "      <td>INV</td>\n",
       "      <td>3800.0</td>\n",
       "      <td>58</td>\n",
       "    </tr>\n",
       "    <tr>\n",
       "      <th>5</th>\n",
       "      <td>7530</td>\n",
       "      <td>AED</td>\n",
       "      <td>INV</td>\n",
       "      <td>1264.0</td>\n",
       "      <td>58</td>\n",
       "    </tr>\n",
       "    <tr>\n",
       "      <th>6</th>\n",
       "      <td>7530</td>\n",
       "      <td>AED</td>\n",
       "      <td>INV</td>\n",
       "      <td>25858.0</td>\n",
       "      <td>46</td>\n",
       "    </tr>\n",
       "    <tr>\n",
       "      <th>7</th>\n",
       "      <td>7530</td>\n",
       "      <td>AED</td>\n",
       "      <td>INV</td>\n",
       "      <td>39873.0</td>\n",
       "      <td>46</td>\n",
       "    </tr>\n",
       "  </tbody>\n",
       "</table>\n",
       "</div>"
      ],
      "text/plain": [
       "  CUSTOMER_NUMBER INVOICE_CURRENCY_CODE INVOICE_CLASS  USD Amount  \\\n",
       "2           23152                   USD           INV      2000.0   \n",
       "4            7530                   AED           INV      3800.0   \n",
       "5            7530                   AED           INV      1264.0   \n",
       "6            7530                   AED           INV     25858.0   \n",
       "7            7530                   AED           INV     39873.0   \n",
       "\n",
       "   PAYMENT_TERM  \n",
       "2            30  \n",
       "4            58  \n",
       "5            58  \n",
       "6            46  \n",
       "7            46  "
      ]
     },
     "execution_count": 1113,
     "metadata": {},
     "output_type": "execute_result"
    }
   ],
   "source": [
    "inp1.head()"
   ]
  },
  {
   "cell_type": "markdown",
   "id": "4ab918c2",
   "metadata": {},
   "source": [
    "#### Drop currency codes that are not in the train data"
   ]
  },
  {
   "cell_type": "code",
   "execution_count": 1114,
   "id": "e254eb12",
   "metadata": {
    "scrolled": true
   },
   "outputs": [
    {
     "data": {
      "text/plain": [
       "SAR    38491\n",
       "AED    32119\n",
       "USD    18389\n",
       "EUR     1518\n",
       "KWD     1088\n",
       "QAR      611\n",
       "BHD      400\n",
       "GBP      134\n",
       "JOD       38\n",
       "Name: INVOICE_CURRENCY_CODE, dtype: int64"
      ]
     },
     "execution_count": 1114,
     "metadata": {},
     "output_type": "execute_result"
    }
   ],
   "source": [
    "inp0.INVOICE_CURRENCY_CODE.value_counts()"
   ]
  },
  {
   "cell_type": "code",
   "execution_count": 1115,
   "id": "72d4b323",
   "metadata": {
    "scrolled": false
   },
   "outputs": [
    {
     "data": {
      "text/plain": [
       "SAR    10148\n",
       "AED     8895\n",
       "USD     4136\n",
       "KWD     2890\n",
       "BHD      697\n",
       "QAR      503\n",
       "EGP      403\n",
       "EUR      384\n",
       "GBP       12\n",
       "JOD        5\n",
       "OMR        4\n",
       "HKD        1\n",
       "SGD        1\n",
       "ZAR        1\n",
       "Name: INVOICE_CURRENCY_CODE, dtype: int64"
      ]
     },
     "execution_count": 1115,
     "metadata": {},
     "output_type": "execute_result"
    }
   ],
   "source": [
    "inp1.INVOICE_CURRENCY_CODE.value_counts()"
   ]
  },
  {
   "cell_type": "code",
   "execution_count": 1116,
   "id": "39a81336",
   "metadata": {},
   "outputs": [],
   "source": [
    "indexCurr = inp1[ (inp1['INVOICE_CURRENCY_CODE'] == 'EGP') | (inp1['INVOICE_CURRENCY_CODE'] == 'HKD') |\n",
    "                 (inp1['INVOICE_CURRENCY_CODE'] == 'OMR') |  (inp1['INVOICE_CURRENCY_CODE'] == 'SGD')].index\n",
    "inp1.drop(indexCurr , inplace=True)"
   ]
  },
  {
   "cell_type": "code",
   "execution_count": 1117,
   "id": "d1042448",
   "metadata": {
    "scrolled": true
   },
   "outputs": [
    {
     "name": "stdout",
     "output_type": "stream",
     "text": [
      "<class 'pandas.core.frame.DataFrame'>\n",
      "Int64Index: 27671 entries, 2 to 88189\n",
      "Data columns (total 5 columns):\n",
      " #   Column                 Non-Null Count  Dtype  \n",
      "---  ------                 --------------  -----  \n",
      " 0   CUSTOMER_NUMBER        27671 non-null  object \n",
      " 1   INVOICE_CURRENCY_CODE  27671 non-null  object \n",
      " 2   INVOICE_CLASS          27671 non-null  object \n",
      " 3   USD Amount             27671 non-null  float64\n",
      " 4   PAYMENT_TERM           27671 non-null  int64  \n",
      "dtypes: float64(1), int64(1), object(3)\n",
      "memory usage: 1.3+ MB\n"
     ]
    }
   ],
   "source": [
    "inp1.info()"
   ]
  },
  {
   "cell_type": "markdown",
   "id": "b9e7e1ae",
   "metadata": {},
   "source": [
    "#### Adding Segment ID for each customer"
   ]
  },
  {
   "cell_type": "code",
   "execution_count": 1118,
   "id": "1e762311",
   "metadata": {},
   "outputs": [],
   "source": [
    "inp2 = pd.merge(inp1, cust_segment_df, on='CUSTOMER_NUMBER')"
   ]
  },
  {
   "cell_type": "code",
   "execution_count": 1119,
   "id": "e38a810e",
   "metadata": {},
   "outputs": [
    {
     "data": {
      "text/html": [
       "<div>\n",
       "<style scoped>\n",
       "    .dataframe tbody tr th:only-of-type {\n",
       "        vertical-align: middle;\n",
       "    }\n",
       "\n",
       "    .dataframe tbody tr th {\n",
       "        vertical-align: top;\n",
       "    }\n",
       "\n",
       "    .dataframe thead th {\n",
       "        text-align: right;\n",
       "    }\n",
       "</style>\n",
       "<table border=\"1\" class=\"dataframe\">\n",
       "  <thead>\n",
       "    <tr style=\"text-align: right;\">\n",
       "      <th></th>\n",
       "      <th>CUSTOMER_NUMBER</th>\n",
       "      <th>INVOICE_CURRENCY_CODE</th>\n",
       "      <th>INVOICE_CLASS</th>\n",
       "      <th>USD Amount</th>\n",
       "      <th>PAYMENT_TERM</th>\n",
       "      <th>MEAN_DAYS_PAYMENT</th>\n",
       "      <th>STD_DAYS_PAYMENT</th>\n",
       "      <th>SEGMENT_ID</th>\n",
       "    </tr>\n",
       "  </thead>\n",
       "  <tbody>\n",
       "    <tr>\n",
       "      <th>0</th>\n",
       "      <td>23152</td>\n",
       "      <td>USD</td>\n",
       "      <td>INV</td>\n",
       "      <td>2000.0</td>\n",
       "      <td>30</td>\n",
       "      <td>67.130208</td>\n",
       "      <td>69.369024</td>\n",
       "      <td>1</td>\n",
       "    </tr>\n",
       "    <tr>\n",
       "      <th>1</th>\n",
       "      <td>23152</td>\n",
       "      <td>SAR</td>\n",
       "      <td>INV</td>\n",
       "      <td>21462.0</td>\n",
       "      <td>30</td>\n",
       "      <td>67.130208</td>\n",
       "      <td>69.369024</td>\n",
       "      <td>1</td>\n",
       "    </tr>\n",
       "    <tr>\n",
       "      <th>2</th>\n",
       "      <td>23152</td>\n",
       "      <td>USD</td>\n",
       "      <td>INV</td>\n",
       "      <td>36866.0</td>\n",
       "      <td>30</td>\n",
       "      <td>67.130208</td>\n",
       "      <td>69.369024</td>\n",
       "      <td>1</td>\n",
       "    </tr>\n",
       "    <tr>\n",
       "      <th>3</th>\n",
       "      <td>23152</td>\n",
       "      <td>USD</td>\n",
       "      <td>INV</td>\n",
       "      <td>372768.0</td>\n",
       "      <td>30</td>\n",
       "      <td>67.130208</td>\n",
       "      <td>69.369024</td>\n",
       "      <td>1</td>\n",
       "    </tr>\n",
       "    <tr>\n",
       "      <th>4</th>\n",
       "      <td>23152</td>\n",
       "      <td>SAR</td>\n",
       "      <td>INV</td>\n",
       "      <td>1210.0</td>\n",
       "      <td>30</td>\n",
       "      <td>67.130208</td>\n",
       "      <td>69.369024</td>\n",
       "      <td>1</td>\n",
       "    </tr>\n",
       "  </tbody>\n",
       "</table>\n",
       "</div>"
      ],
      "text/plain": [
       "  CUSTOMER_NUMBER INVOICE_CURRENCY_CODE INVOICE_CLASS  USD Amount  \\\n",
       "0           23152                   USD           INV      2000.0   \n",
       "1           23152                   SAR           INV     21462.0   \n",
       "2           23152                   USD           INV     36866.0   \n",
       "3           23152                   USD           INV    372768.0   \n",
       "4           23152                   SAR           INV      1210.0   \n",
       "\n",
       "   PAYMENT_TERM  MEAN_DAYS_PAYMENT  STD_DAYS_PAYMENT  SEGMENT_ID  \n",
       "0            30          67.130208         69.369024           1  \n",
       "1            30          67.130208         69.369024           1  \n",
       "2            30          67.130208         69.369024           1  \n",
       "3            30          67.130208         69.369024           1  \n",
       "4            30          67.130208         69.369024           1  "
      ]
     },
     "execution_count": 1119,
     "metadata": {},
     "output_type": "execute_result"
    }
   ],
   "source": [
    "inp2.head()"
   ]
  },
  {
   "cell_type": "code",
   "execution_count": 1120,
   "id": "3a301f94",
   "metadata": {},
   "outputs": [
    {
     "data": {
      "text/plain": [
       "0    10561\n",
       "4     9719\n",
       "1     4913\n",
       "3      283\n",
       "2       13\n",
       "Name: SEGMENT_ID, dtype: int64"
      ]
     },
     "execution_count": 1120,
     "metadata": {},
     "output_type": "execute_result"
    }
   ],
   "source": [
    "inp2.SEGMENT_ID.value_counts()"
   ]
  },
  {
   "cell_type": "code",
   "execution_count": 1121,
   "id": "9d525267",
   "metadata": {},
   "outputs": [],
   "source": [
    "inp2.drop(columns=['MEAN_DAYS_PAYMENT','STD_DAYS_PAYMENT'], inplace=True)"
   ]
  },
  {
   "cell_type": "code",
   "execution_count": 1122,
   "id": "a85da958",
   "metadata": {},
   "outputs": [
    {
     "name": "stdout",
     "output_type": "stream",
     "text": [
      "<class 'pandas.core.frame.DataFrame'>\n",
      "Int64Index: 25489 entries, 0 to 25488\n",
      "Data columns (total 6 columns):\n",
      " #   Column                 Non-Null Count  Dtype  \n",
      "---  ------                 --------------  -----  \n",
      " 0   CUSTOMER_NUMBER        25489 non-null  object \n",
      " 1   INVOICE_CURRENCY_CODE  25489 non-null  object \n",
      " 2   INVOICE_CLASS          25489 non-null  object \n",
      " 3   USD Amount             25489 non-null  float64\n",
      " 4   PAYMENT_TERM           25489 non-null  int64  \n",
      " 5   SEGMENT_ID             25489 non-null  int32  \n",
      "dtypes: float64(1), int32(1), int64(1), object(3)\n",
      "memory usage: 1.3+ MB\n"
     ]
    }
   ],
   "source": [
    "inp2.info()"
   ]
  },
  {
   "cell_type": "code",
   "execution_count": 1123,
   "id": "0f5c4adf",
   "metadata": {},
   "outputs": [
    {
     "name": "stdout",
     "output_type": "stream",
     "text": [
      "<class 'pandas.core.frame.DataFrame'>\n",
      "Int64Index: 92788 entries, 0 to 92787\n",
      "Data columns (total 7 columns):\n",
      " #   Column                 Non-Null Count  Dtype  \n",
      "---  ------                 --------------  -----  \n",
      " 0   CUSTOMER_NUMBER        92788 non-null  object \n",
      " 1   USD Amount             92788 non-null  float64\n",
      " 2   PAYMENT_TERM           92788 non-null  int64  \n",
      " 3   INVOICE_CLASS          92788 non-null  object \n",
      " 4   INVOICE_CURRENCY_CODE  92788 non-null  object \n",
      " 5   TARGET                 92788 non-null  int32  \n",
      " 6   SEGMENT_ID             92788 non-null  object \n",
      "dtypes: float64(1), int32(1), int64(1), object(4)\n",
      "memory usage: 5.3+ MB\n"
     ]
    }
   ],
   "source": [
    "inp0.info()"
   ]
  },
  {
   "cell_type": "markdown",
   "id": "5897e5ce",
   "metadata": {},
   "source": [
    "### Testing with the model"
   ]
  },
  {
   "cell_type": "code",
   "execution_count": 1124,
   "id": "43243a3a",
   "metadata": {},
   "outputs": [],
   "source": [
    "X_test2 = inp2.copy()"
   ]
  },
  {
   "cell_type": "code",
   "execution_count": 1125,
   "id": "4df2bfee",
   "metadata": {},
   "outputs": [],
   "source": [
    "# creating dummy variables for categorical values\n",
    "curr = pd.get_dummies(X_test2['INVOICE_CURRENCY_CODE'],drop_first=True).add_prefix('curr_')\n",
    "segment = pd.get_dummies(X_test2['SEGMENT_ID'],drop_first=True).add_prefix('segment_')\n",
    "invoice = pd.get_dummies(X_test2['INVOICE_CLASS'],drop_first=True).add_prefix('invoice_')"
   ]
  },
  {
   "cell_type": "code",
   "execution_count": 1126,
   "id": "75691687",
   "metadata": {},
   "outputs": [],
   "source": [
    "X_test2=pd.concat([X_test2,curr],axis=1)\n",
    "X_test2=pd.concat([X_test2,segment],axis=1)\n",
    "X_test2=pd.concat([X_test2,invoice],axis=1)"
   ]
  },
  {
   "cell_type": "code",
   "execution_count": 1127,
   "id": "c5845438",
   "metadata": {},
   "outputs": [],
   "source": [
    "X_test2.drop(['INVOICE_CURRENCY_CODE'], axis = 1, inplace = True)\n",
    "X_test2.drop(['SEGMENT_ID'], axis = 1, inplace = True)\n",
    "X_test2.drop(['INVOICE_CLASS'], axis = 1, inplace = True)"
   ]
  },
  {
   "cell_type": "code",
   "execution_count": 1128,
   "id": "e17067f0",
   "metadata": {},
   "outputs": [],
   "source": [
    "X_test2.drop(['CUSTOMER_NUMBER'], axis = 1, inplace = True)"
   ]
  },
  {
   "cell_type": "code",
   "execution_count": 1129,
   "id": "4c6e8347",
   "metadata": {},
   "outputs": [
    {
     "name": "stdout",
     "output_type": "stream",
     "text": [
      "<class 'pandas.core.frame.DataFrame'>\n",
      "Int64Index: 25489 entries, 0 to 25488\n",
      "Data columns (total 16 columns):\n",
      " #   Column        Non-Null Count  Dtype  \n",
      "---  ------        --------------  -----  \n",
      " 0   USD Amount    25489 non-null  float64\n",
      " 1   PAYMENT_TERM  25489 non-null  int64  \n",
      " 2   curr_BHD      25489 non-null  uint8  \n",
      " 3   curr_EUR      25489 non-null  uint8  \n",
      " 4   curr_GBP      25489 non-null  uint8  \n",
      " 5   curr_JOD      25489 non-null  uint8  \n",
      " 6   curr_KWD      25489 non-null  uint8  \n",
      " 7   curr_QAR      25489 non-null  uint8  \n",
      " 8   curr_SAR      25489 non-null  uint8  \n",
      " 9   curr_USD      25489 non-null  uint8  \n",
      " 10  segment_1     25489 non-null  uint8  \n",
      " 11  segment_2     25489 non-null  uint8  \n",
      " 12  segment_3     25489 non-null  uint8  \n",
      " 13  segment_4     25489 non-null  uint8  \n",
      " 14  invoice_DM    25489 non-null  uint8  \n",
      " 15  invoice_INV   25489 non-null  uint8  \n",
      "dtypes: float64(1), int64(1), uint8(14)\n",
      "memory usage: 945.9 KB\n"
     ]
    }
   ],
   "source": [
    "X_test2.info()"
   ]
  },
  {
   "cell_type": "code",
   "execution_count": 1130,
   "id": "2bcfaf45",
   "metadata": {},
   "outputs": [
    {
     "name": "stdout",
     "output_type": "stream",
     "text": [
      "<class 'pandas.core.frame.DataFrame'>\n",
      "Int64Index: 64951 entries, 78268 to 15795\n",
      "Data columns (total 16 columns):\n",
      " #   Column        Non-Null Count  Dtype  \n",
      "---  ------        --------------  -----  \n",
      " 0   USD Amount    64951 non-null  float64\n",
      " 1   PAYMENT_TERM  64951 non-null  int64  \n",
      " 2   curr_BHD      64951 non-null  uint8  \n",
      " 3   curr_EUR      64951 non-null  uint8  \n",
      " 4   curr_GBP      64951 non-null  uint8  \n",
      " 5   curr_JOD      64951 non-null  uint8  \n",
      " 6   curr_KWD      64951 non-null  uint8  \n",
      " 7   curr_QAR      64951 non-null  uint8  \n",
      " 8   curr_SAR      64951 non-null  uint8  \n",
      " 9   curr_USD      64951 non-null  uint8  \n",
      " 10  segment_1     64951 non-null  uint8  \n",
      " 11  segment_2     64951 non-null  uint8  \n",
      " 12  segment_3     64951 non-null  uint8  \n",
      " 13  segment_4     64951 non-null  uint8  \n",
      " 14  invoice_DM    64951 non-null  uint8  \n",
      " 15  invoice_INV   64951 non-null  uint8  \n",
      "dtypes: float64(1), int64(1), uint8(14)\n",
      "memory usage: 2.4 MB\n"
     ]
    }
   ],
   "source": [
    "X_train.info()"
   ]
  },
  {
   "cell_type": "markdown",
   "id": "7b497aa5",
   "metadata": {},
   "source": [
    "### Making predications using the test data"
   ]
  },
  {
   "cell_type": "code",
   "execution_count": 1131,
   "id": "35bbd997",
   "metadata": {},
   "outputs": [],
   "source": [
    "y_pred1 = rf.predict(X_test2)"
   ]
  },
  {
   "cell_type": "code",
   "execution_count": 1132,
   "id": "f2905ec5",
   "metadata": {},
   "outputs": [
    {
     "data": {
      "text/plain": [
       "array([1, 1, 1, ..., 1, 0, 1])"
      ]
     },
     "execution_count": 1132,
     "metadata": {},
     "output_type": "execute_result"
    }
   ],
   "source": [
    "y_pred1"
   ]
  },
  {
   "cell_type": "code",
   "execution_count": 1133,
   "id": "46dbd0cd",
   "metadata": {},
   "outputs": [],
   "source": [
    "y_pred_df = pd.DataFrame(y_pred1)"
   ]
  },
  {
   "cell_type": "code",
   "execution_count": 1134,
   "id": "953d60fa",
   "metadata": {},
   "outputs": [
    {
     "data": {
      "text/plain": [
       "(25489, 1)"
      ]
     },
     "execution_count": 1134,
     "metadata": {},
     "output_type": "execute_result"
    }
   ],
   "source": [
    "y_pred_df.shape"
   ]
  },
  {
   "cell_type": "code",
   "execution_count": 1135,
   "id": "47614d67",
   "metadata": {},
   "outputs": [
    {
     "data": {
      "text/html": [
       "<div>\n",
       "<style scoped>\n",
       "    .dataframe tbody tr th:only-of-type {\n",
       "        vertical-align: middle;\n",
       "    }\n",
       "\n",
       "    .dataframe tbody tr th {\n",
       "        vertical-align: top;\n",
       "    }\n",
       "\n",
       "    .dataframe thead th {\n",
       "        text-align: right;\n",
       "    }\n",
       "</style>\n",
       "<table border=\"1\" class=\"dataframe\">\n",
       "  <thead>\n",
       "    <tr style=\"text-align: right;\">\n",
       "      <th></th>\n",
       "      <th>0</th>\n",
       "    </tr>\n",
       "  </thead>\n",
       "  <tbody>\n",
       "    <tr>\n",
       "      <th>25484</th>\n",
       "      <td>1</td>\n",
       "    </tr>\n",
       "    <tr>\n",
       "      <th>25485</th>\n",
       "      <td>0</td>\n",
       "    </tr>\n",
       "    <tr>\n",
       "      <th>25486</th>\n",
       "      <td>1</td>\n",
       "    </tr>\n",
       "    <tr>\n",
       "      <th>25487</th>\n",
       "      <td>0</td>\n",
       "    </tr>\n",
       "    <tr>\n",
       "      <th>25488</th>\n",
       "      <td>1</td>\n",
       "    </tr>\n",
       "  </tbody>\n",
       "</table>\n",
       "</div>"
      ],
      "text/plain": [
       "       0\n",
       "25484  1\n",
       "25485  0\n",
       "25486  1\n",
       "25487  0\n",
       "25488  1"
      ]
     },
     "execution_count": 1135,
     "metadata": {},
     "output_type": "execute_result"
    }
   ],
   "source": [
    "y_pred_df.tail()"
   ]
  },
  {
   "cell_type": "code",
   "execution_count": 1136,
   "id": "43965aa9",
   "metadata": {},
   "outputs": [
    {
     "data": {
      "text/html": [
       "<div>\n",
       "<style scoped>\n",
       "    .dataframe tbody tr th:only-of-type {\n",
       "        vertical-align: middle;\n",
       "    }\n",
       "\n",
       "    .dataframe tbody tr th {\n",
       "        vertical-align: top;\n",
       "    }\n",
       "\n",
       "    .dataframe thead th {\n",
       "        text-align: right;\n",
       "    }\n",
       "</style>\n",
       "<table border=\"1\" class=\"dataframe\">\n",
       "  <thead>\n",
       "    <tr style=\"text-align: right;\">\n",
       "      <th></th>\n",
       "      <th>CUSTOMER_NUMBER</th>\n",
       "      <th>INVOICE_CURRENCY_CODE</th>\n",
       "      <th>INVOICE_CLASS</th>\n",
       "      <th>USD Amount</th>\n",
       "      <th>PAYMENT_TERM</th>\n",
       "      <th>SEGMENT_ID</th>\n",
       "    </tr>\n",
       "  </thead>\n",
       "  <tbody>\n",
       "    <tr>\n",
       "      <th>25484</th>\n",
       "      <td>21135</td>\n",
       "      <td>USD</td>\n",
       "      <td>INV</td>\n",
       "      <td>58939.0</td>\n",
       "      <td>0</td>\n",
       "      <td>0</td>\n",
       "    </tr>\n",
       "    <tr>\n",
       "      <th>25485</th>\n",
       "      <td>21135</td>\n",
       "      <td>USD</td>\n",
       "      <td>INV</td>\n",
       "      <td>135463.0</td>\n",
       "      <td>61</td>\n",
       "      <td>0</td>\n",
       "    </tr>\n",
       "    <tr>\n",
       "      <th>25486</th>\n",
       "      <td>20867</td>\n",
       "      <td>USD</td>\n",
       "      <td>INV</td>\n",
       "      <td>79446.0</td>\n",
       "      <td>60</td>\n",
       "      <td>0</td>\n",
       "    </tr>\n",
       "    <tr>\n",
       "      <th>25487</th>\n",
       "      <td>20867</td>\n",
       "      <td>USD</td>\n",
       "      <td>INV</td>\n",
       "      <td>35624.0</td>\n",
       "      <td>60</td>\n",
       "      <td>0</td>\n",
       "    </tr>\n",
       "    <tr>\n",
       "      <th>25488</th>\n",
       "      <td>20867</td>\n",
       "      <td>USD</td>\n",
       "      <td>INV</td>\n",
       "      <td>3435.0</td>\n",
       "      <td>60</td>\n",
       "      <td>0</td>\n",
       "    </tr>\n",
       "  </tbody>\n",
       "</table>\n",
       "</div>"
      ],
      "text/plain": [
       "      CUSTOMER_NUMBER INVOICE_CURRENCY_CODE INVOICE_CLASS  USD Amount  \\\n",
       "25484           21135                   USD           INV     58939.0   \n",
       "25485           21135                   USD           INV    135463.0   \n",
       "25486           20867                   USD           INV     79446.0   \n",
       "25487           20867                   USD           INV     35624.0   \n",
       "25488           20867                   USD           INV      3435.0   \n",
       "\n",
       "       PAYMENT_TERM  SEGMENT_ID  \n",
       "25484             0           0  \n",
       "25485            61           0  \n",
       "25486            60           0  \n",
       "25487            60           0  \n",
       "25488            60           0  "
      ]
     },
     "execution_count": 1136,
     "metadata": {},
     "output_type": "execute_result"
    }
   ],
   "source": [
    "inp2.tail()"
   ]
  },
  {
   "cell_type": "markdown",
   "id": "cd2618b0",
   "metadata": {},
   "source": [
    "#### Concatinating the customer number with each predictions"
   ]
  },
  {
   "cell_type": "code",
   "execution_count": 1137,
   "id": "d990544d",
   "metadata": {},
   "outputs": [],
   "source": [
    "y_pred_df['CUSTOMER_NUMBER'] = inp2['CUSTOMER_NUMBER']"
   ]
  },
  {
   "cell_type": "code",
   "execution_count": 1138,
   "id": "cb335709",
   "metadata": {},
   "outputs": [
    {
     "data": {
      "text/html": [
       "<div>\n",
       "<style scoped>\n",
       "    .dataframe tbody tr th:only-of-type {\n",
       "        vertical-align: middle;\n",
       "    }\n",
       "\n",
       "    .dataframe tbody tr th {\n",
       "        vertical-align: top;\n",
       "    }\n",
       "\n",
       "    .dataframe thead th {\n",
       "        text-align: right;\n",
       "    }\n",
       "</style>\n",
       "<table border=\"1\" class=\"dataframe\">\n",
       "  <thead>\n",
       "    <tr style=\"text-align: right;\">\n",
       "      <th></th>\n",
       "      <th>0</th>\n",
       "      <th>CUSTOMER_NUMBER</th>\n",
       "    </tr>\n",
       "  </thead>\n",
       "  <tbody>\n",
       "    <tr>\n",
       "      <th>25484</th>\n",
       "      <td>1</td>\n",
       "      <td>21135</td>\n",
       "    </tr>\n",
       "    <tr>\n",
       "      <th>25485</th>\n",
       "      <td>0</td>\n",
       "      <td>21135</td>\n",
       "    </tr>\n",
       "    <tr>\n",
       "      <th>25486</th>\n",
       "      <td>1</td>\n",
       "      <td>20867</td>\n",
       "    </tr>\n",
       "    <tr>\n",
       "      <th>25487</th>\n",
       "      <td>0</td>\n",
       "      <td>20867</td>\n",
       "    </tr>\n",
       "    <tr>\n",
       "      <th>25488</th>\n",
       "      <td>1</td>\n",
       "      <td>20867</td>\n",
       "    </tr>\n",
       "  </tbody>\n",
       "</table>\n",
       "</div>"
      ],
      "text/plain": [
       "       0 CUSTOMER_NUMBER\n",
       "25484  1           21135\n",
       "25485  0           21135\n",
       "25486  1           20867\n",
       "25487  0           20867\n",
       "25488  1           20867"
      ]
     },
     "execution_count": 1138,
     "metadata": {},
     "output_type": "execute_result"
    }
   ],
   "source": [
    "y_pred_df.tail()"
   ]
  },
  {
   "cell_type": "markdown",
   "id": "f95b1e08",
   "metadata": {},
   "source": [
    "#### Prediction indicates whether late payment is predicted per transaction"
   ]
  },
  {
   "cell_type": "code",
   "execution_count": 1139,
   "id": "6516b99e",
   "metadata": {},
   "outputs": [
    {
     "data": {
      "text/html": [
       "<div>\n",
       "<style scoped>\n",
       "    .dataframe tbody tr th:only-of-type {\n",
       "        vertical-align: middle;\n",
       "    }\n",
       "\n",
       "    .dataframe tbody tr th {\n",
       "        vertical-align: top;\n",
       "    }\n",
       "\n",
       "    .dataframe thead th {\n",
       "        text-align: right;\n",
       "    }\n",
       "</style>\n",
       "<table border=\"1\" class=\"dataframe\">\n",
       "  <thead>\n",
       "    <tr style=\"text-align: right;\">\n",
       "      <th></th>\n",
       "      <th>PREDICTION</th>\n",
       "      <th>CUSTOMER_NUMBER</th>\n",
       "    </tr>\n",
       "  </thead>\n",
       "  <tbody>\n",
       "    <tr>\n",
       "      <th>0</th>\n",
       "      <td>1</td>\n",
       "      <td>23152</td>\n",
       "    </tr>\n",
       "    <tr>\n",
       "      <th>1</th>\n",
       "      <td>1</td>\n",
       "      <td>23152</td>\n",
       "    </tr>\n",
       "    <tr>\n",
       "      <th>2</th>\n",
       "      <td>1</td>\n",
       "      <td>23152</td>\n",
       "    </tr>\n",
       "    <tr>\n",
       "      <th>3</th>\n",
       "      <td>1</td>\n",
       "      <td>23152</td>\n",
       "    </tr>\n",
       "    <tr>\n",
       "      <th>4</th>\n",
       "      <td>1</td>\n",
       "      <td>23152</td>\n",
       "    </tr>\n",
       "    <tr>\n",
       "      <th>...</th>\n",
       "      <td>...</td>\n",
       "      <td>...</td>\n",
       "    </tr>\n",
       "    <tr>\n",
       "      <th>25484</th>\n",
       "      <td>1</td>\n",
       "      <td>21135</td>\n",
       "    </tr>\n",
       "    <tr>\n",
       "      <th>25485</th>\n",
       "      <td>0</td>\n",
       "      <td>21135</td>\n",
       "    </tr>\n",
       "    <tr>\n",
       "      <th>25486</th>\n",
       "      <td>1</td>\n",
       "      <td>20867</td>\n",
       "    </tr>\n",
       "    <tr>\n",
       "      <th>25487</th>\n",
       "      <td>0</td>\n",
       "      <td>20867</td>\n",
       "    </tr>\n",
       "    <tr>\n",
       "      <th>25488</th>\n",
       "      <td>1</td>\n",
       "      <td>20867</td>\n",
       "    </tr>\n",
       "  </tbody>\n",
       "</table>\n",
       "<p>25489 rows × 2 columns</p>\n",
       "</div>"
      ],
      "text/plain": [
       "       PREDICTION CUSTOMER_NUMBER\n",
       "0               1           23152\n",
       "1               1           23152\n",
       "2               1           23152\n",
       "3               1           23152\n",
       "4               1           23152\n",
       "...           ...             ...\n",
       "25484           1           21135\n",
       "25485           0           21135\n",
       "25486           1           20867\n",
       "25487           0           20867\n",
       "25488           1           20867\n",
       "\n",
       "[25489 rows x 2 columns]"
      ]
     },
     "execution_count": 1139,
     "metadata": {},
     "output_type": "execute_result"
    }
   ],
   "source": [
    "y_pred_df.columns = [\"PREDICTION\", \"CUSTOMER_NUMBER\"]\n",
    "y_pred_df"
   ]
  },
  {
   "cell_type": "code",
   "execution_count": 1140,
   "id": "d3263d02",
   "metadata": {},
   "outputs": [
    {
     "data": {
      "text/plain": [
       "(25489, 2)"
      ]
     },
     "execution_count": 1140,
     "metadata": {},
     "output_type": "execute_result"
    }
   ],
   "source": [
    "y_pred_df.shape"
   ]
  },
  {
   "cell_type": "code",
   "execution_count": 1141,
   "id": "8589de5d",
   "metadata": {
    "scrolled": true
   },
   "outputs": [
    {
     "data": {
      "text/html": [
       "<div>\n",
       "<style scoped>\n",
       "    .dataframe tbody tr th:only-of-type {\n",
       "        vertical-align: middle;\n",
       "    }\n",
       "\n",
       "    .dataframe tbody tr th {\n",
       "        vertical-align: top;\n",
       "    }\n",
       "\n",
       "    .dataframe thead th {\n",
       "        text-align: right;\n",
       "    }\n",
       "</style>\n",
       "<table border=\"1\" class=\"dataframe\">\n",
       "  <thead>\n",
       "    <tr style=\"text-align: right;\">\n",
       "      <th></th>\n",
       "      <th>PREDICTION</th>\n",
       "      <th>CUSTOMER_NUMBER</th>\n",
       "    </tr>\n",
       "  </thead>\n",
       "  <tbody>\n",
       "    <tr>\n",
       "      <th>0</th>\n",
       "      <td>1</td>\n",
       "      <td>23152</td>\n",
       "    </tr>\n",
       "    <tr>\n",
       "      <th>1</th>\n",
       "      <td>1</td>\n",
       "      <td>23152</td>\n",
       "    </tr>\n",
       "    <tr>\n",
       "      <th>2</th>\n",
       "      <td>1</td>\n",
       "      <td>23152</td>\n",
       "    </tr>\n",
       "    <tr>\n",
       "      <th>3</th>\n",
       "      <td>1</td>\n",
       "      <td>23152</td>\n",
       "    </tr>\n",
       "    <tr>\n",
       "      <th>4</th>\n",
       "      <td>1</td>\n",
       "      <td>23152</td>\n",
       "    </tr>\n",
       "  </tbody>\n",
       "</table>\n",
       "</div>"
      ],
      "text/plain": [
       "   PREDICTION CUSTOMER_NUMBER\n",
       "0           1           23152\n",
       "1           1           23152\n",
       "2           1           23152\n",
       "3           1           23152\n",
       "4           1           23152"
      ]
     },
     "execution_count": 1141,
     "metadata": {},
     "output_type": "execute_result"
    }
   ],
   "source": [
    "y_pred_df.head()"
   ]
  },
  {
   "cell_type": "code",
   "execution_count": 1142,
   "id": "a05ae61d",
   "metadata": {},
   "outputs": [
    {
     "data": {
      "text/plain": [
       "543"
      ]
     },
     "execution_count": 1142,
     "metadata": {},
     "output_type": "execute_result"
    }
   ],
   "source": [
    "y_pred_df['CUSTOMER_NUMBER'].nunique()"
   ]
  },
  {
   "cell_type": "markdown",
   "id": "eaec84c3",
   "metadata": {},
   "source": [
    "#### Prediction on late payment is aggregated at the customer level"
   ]
  },
  {
   "cell_type": "code",
   "execution_count": 1143,
   "id": "a29c6b56",
   "metadata": {},
   "outputs": [],
   "source": [
    "customer_df = y_pred_df.groupby('CUSTOMER_NUMBER')['PREDICTION'].mean()"
   ]
  },
  {
   "cell_type": "code",
   "execution_count": 1144,
   "id": "55accceb",
   "metadata": {},
   "outputs": [],
   "source": [
    "customer_df = customer_df.reset_index()"
   ]
  },
  {
   "cell_type": "code",
   "execution_count": 1145,
   "id": "673fe346",
   "metadata": {},
   "outputs": [
    {
     "data": {
      "text/html": [
       "<div>\n",
       "<style scoped>\n",
       "    .dataframe tbody tr th:only-of-type {\n",
       "        vertical-align: middle;\n",
       "    }\n",
       "\n",
       "    .dataframe tbody tr th {\n",
       "        vertical-align: top;\n",
       "    }\n",
       "\n",
       "    .dataframe thead th {\n",
       "        text-align: right;\n",
       "    }\n",
       "</style>\n",
       "<table border=\"1\" class=\"dataframe\">\n",
       "  <thead>\n",
       "    <tr style=\"text-align: right;\">\n",
       "      <th></th>\n",
       "      <th>CUSTOMER_NUMBER</th>\n",
       "      <th>PREDICTION</th>\n",
       "    </tr>\n",
       "  </thead>\n",
       "  <tbody>\n",
       "    <tr>\n",
       "      <th>0</th>\n",
       "      <td>10360</td>\n",
       "      <td>0.000000</td>\n",
       "    </tr>\n",
       "    <tr>\n",
       "      <th>1</th>\n",
       "      <td>1044</td>\n",
       "      <td>0.712297</td>\n",
       "    </tr>\n",
       "    <tr>\n",
       "      <th>2</th>\n",
       "      <td>1076</td>\n",
       "      <td>0.875000</td>\n",
       "    </tr>\n",
       "    <tr>\n",
       "      <th>3</th>\n",
       "      <td>1146</td>\n",
       "      <td>0.500000</td>\n",
       "    </tr>\n",
       "    <tr>\n",
       "      <th>4</th>\n",
       "      <td>1154</td>\n",
       "      <td>0.932203</td>\n",
       "    </tr>\n",
       "  </tbody>\n",
       "</table>\n",
       "</div>"
      ],
      "text/plain": [
       "  CUSTOMER_NUMBER  PREDICTION\n",
       "0           10360    0.000000\n",
       "1            1044    0.712297\n",
       "2            1076    0.875000\n",
       "3            1146    0.500000\n",
       "4            1154    0.932203"
      ]
     },
     "execution_count": 1145,
     "metadata": {},
     "output_type": "execute_result"
    }
   ],
   "source": [
    "customer_df.head()"
   ]
  },
  {
   "cell_type": "code",
   "execution_count": 1146,
   "id": "4597ec3d",
   "metadata": {},
   "outputs": [],
   "source": [
    "customer_df['PROBABILTY'] = (customer_df['PREDICTION']*100).astype(int)"
   ]
  },
  {
   "cell_type": "markdown",
   "id": "fc5a5ec6",
   "metadata": {},
   "source": [
    "#### Probability indicates what % of the transactions are likely to be delayed"
   ]
  },
  {
   "cell_type": "code",
   "execution_count": 1147,
   "id": "4068d0dc",
   "metadata": {},
   "outputs": [
    {
     "data": {
      "text/html": [
       "<div>\n",
       "<style scoped>\n",
       "    .dataframe tbody tr th:only-of-type {\n",
       "        vertical-align: middle;\n",
       "    }\n",
       "\n",
       "    .dataframe tbody tr th {\n",
       "        vertical-align: top;\n",
       "    }\n",
       "\n",
       "    .dataframe thead th {\n",
       "        text-align: right;\n",
       "    }\n",
       "</style>\n",
       "<table border=\"1\" class=\"dataframe\">\n",
       "  <thead>\n",
       "    <tr style=\"text-align: right;\">\n",
       "      <th></th>\n",
       "      <th>CUSTOMER_NUMBER</th>\n",
       "      <th>PREDICTION</th>\n",
       "      <th>PROBABILTY</th>\n",
       "    </tr>\n",
       "  </thead>\n",
       "  <tbody>\n",
       "    <tr>\n",
       "      <th>0</th>\n",
       "      <td>10360</td>\n",
       "      <td>0.000000</td>\n",
       "      <td>0</td>\n",
       "    </tr>\n",
       "    <tr>\n",
       "      <th>1</th>\n",
       "      <td>1044</td>\n",
       "      <td>0.712297</td>\n",
       "      <td>71</td>\n",
       "    </tr>\n",
       "    <tr>\n",
       "      <th>2</th>\n",
       "      <td>1076</td>\n",
       "      <td>0.875000</td>\n",
       "      <td>87</td>\n",
       "    </tr>\n",
       "    <tr>\n",
       "      <th>3</th>\n",
       "      <td>1146</td>\n",
       "      <td>0.500000</td>\n",
       "      <td>50</td>\n",
       "    </tr>\n",
       "    <tr>\n",
       "      <th>4</th>\n",
       "      <td>1154</td>\n",
       "      <td>0.932203</td>\n",
       "      <td>93</td>\n",
       "    </tr>\n",
       "  </tbody>\n",
       "</table>\n",
       "</div>"
      ],
      "text/plain": [
       "  CUSTOMER_NUMBER  PREDICTION  PROBABILTY\n",
       "0           10360    0.000000           0\n",
       "1            1044    0.712297          71\n",
       "2            1076    0.875000          87\n",
       "3            1146    0.500000          50\n",
       "4            1154    0.932203          93"
      ]
     },
     "execution_count": 1147,
     "metadata": {},
     "output_type": "execute_result"
    }
   ],
   "source": [
    "customer_df.head()"
   ]
  },
  {
   "cell_type": "code",
   "execution_count": 1148,
   "id": "a59a23ed",
   "metadata": {},
   "outputs": [
    {
     "data": {
      "text/plain": [
       "(543, 3)"
      ]
     },
     "execution_count": 1148,
     "metadata": {},
     "output_type": "execute_result"
    }
   ],
   "source": [
    "customer_df.shape"
   ]
  },
  {
   "cell_type": "code",
   "execution_count": 1149,
   "id": "d42d9c72",
   "metadata": {},
   "outputs": [],
   "source": [
    "customer_df['DELAYED_PAYMENT'] = np.where(customer_df['PREDICTION']==0,'N','Y')"
   ]
  },
  {
   "cell_type": "code",
   "execution_count": 1150,
   "id": "e81d3060",
   "metadata": {},
   "outputs": [
    {
     "data": {
      "text/html": [
       "<div>\n",
       "<style scoped>\n",
       "    .dataframe tbody tr th:only-of-type {\n",
       "        vertical-align: middle;\n",
       "    }\n",
       "\n",
       "    .dataframe tbody tr th {\n",
       "        vertical-align: top;\n",
       "    }\n",
       "\n",
       "    .dataframe thead th {\n",
       "        text-align: right;\n",
       "    }\n",
       "</style>\n",
       "<table border=\"1\" class=\"dataframe\">\n",
       "  <thead>\n",
       "    <tr style=\"text-align: right;\">\n",
       "      <th></th>\n",
       "      <th>CUSTOMER_NUMBER</th>\n",
       "      <th>PREDICTION</th>\n",
       "      <th>PROBABILTY</th>\n",
       "      <th>DELAYED_PAYMENT</th>\n",
       "    </tr>\n",
       "  </thead>\n",
       "  <tbody>\n",
       "    <tr>\n",
       "      <th>0</th>\n",
       "      <td>10360</td>\n",
       "      <td>0.000000</td>\n",
       "      <td>0</td>\n",
       "      <td>N</td>\n",
       "    </tr>\n",
       "    <tr>\n",
       "      <th>1</th>\n",
       "      <td>1044</td>\n",
       "      <td>0.712297</td>\n",
       "      <td>71</td>\n",
       "      <td>Y</td>\n",
       "    </tr>\n",
       "    <tr>\n",
       "      <th>2</th>\n",
       "      <td>1076</td>\n",
       "      <td>0.875000</td>\n",
       "      <td>87</td>\n",
       "      <td>Y</td>\n",
       "    </tr>\n",
       "    <tr>\n",
       "      <th>3</th>\n",
       "      <td>1146</td>\n",
       "      <td>0.500000</td>\n",
       "      <td>50</td>\n",
       "      <td>Y</td>\n",
       "    </tr>\n",
       "    <tr>\n",
       "      <th>4</th>\n",
       "      <td>1154</td>\n",
       "      <td>0.932203</td>\n",
       "      <td>93</td>\n",
       "      <td>Y</td>\n",
       "    </tr>\n",
       "  </tbody>\n",
       "</table>\n",
       "</div>"
      ],
      "text/plain": [
       "  CUSTOMER_NUMBER  PREDICTION  PROBABILTY DELAYED_PAYMENT\n",
       "0           10360    0.000000           0               N\n",
       "1            1044    0.712297          71               Y\n",
       "2            1076    0.875000          87               Y\n",
       "3            1146    0.500000          50               Y\n",
       "4            1154    0.932203          93               Y"
      ]
     },
     "execution_count": 1150,
     "metadata": {},
     "output_type": "execute_result"
    }
   ],
   "source": [
    "customer_df.head()"
   ]
  },
  {
   "cell_type": "code",
   "execution_count": 1151,
   "id": "91b62ff2",
   "metadata": {},
   "outputs": [
    {
     "data": {
      "text/plain": [
       "(464, 4)"
      ]
     },
     "execution_count": 1151,
     "metadata": {},
     "output_type": "execute_result"
    }
   ],
   "source": [
    "## customers who are lickley to default\n",
    "\n",
    "customer_df[customer_df.PREDICTION!=0].shape"
   ]
  },
  {
   "cell_type": "code",
   "execution_count": 1152,
   "id": "ca38760b",
   "metadata": {},
   "outputs": [
    {
     "data": {
      "text/plain": [
       "(79, 4)"
      ]
     },
     "execution_count": 1152,
     "metadata": {},
     "output_type": "execute_result"
    }
   ],
   "source": [
    "customer_df[customer_df.PREDICTION == 0].shape"
   ]
  },
  {
   "cell_type": "code",
   "execution_count": 1153,
   "id": "265f027d",
   "metadata": {
    "scrolled": true
   },
   "outputs": [
    {
     "data": {
      "image/png": "[encoded data removed]",
      "text/plain": [
       "<Figure size 432x288 with 1 Axes>"
      ]
     },
     "metadata": {},
     "output_type": "display_data"
    }
   ],
   "source": [
    "customer_df.DELAYED_PAYMENT.value_counts(normalize= True).plot.pie(autopct='%1.1f%%')\n",
    "plt.show()"
   ]
  },
  {
   "cell_type": "markdown",
   "id": "e57c0caa",
   "metadata": {},
   "source": [
    "### 14% of the customers are predicted to pay on time on all transactions"
   ]
  },
  {
   "cell_type": "markdown",
   "id": "8925e372",
   "metadata": {},
   "source": [
    "### 86% of the customers are likely to delay on atleast one of their payments"
   ]
  },
  {
   "cell_type": "code",
   "execution_count": 1154,
   "id": "de50ce23",
   "metadata": {},
   "outputs": [
    {
     "data": {
      "image/png": "[encoded data removed]",
      "text/plain": [
       "<Figure size 432x288 with 1 Axes>"
      ]
     },
     "metadata": {
      "needs_background": "light"
     },
     "output_type": "display_data"
    }
   ],
   "source": [
    "sns.histplot(customer_df['PROBABILTY'],bins=10, stat='percent')\n",
    "plt.show()"
   ]
  },
  {
   "cell_type": "markdown",
   "id": "263317ea",
   "metadata": {},
   "source": [
    "### 50% of the customers are likely to default on ~100% of their invoices"
   ]
  },
  {
   "cell_type": "code",
   "execution_count": 1155,
   "id": "da696173",
   "metadata": {},
   "outputs": [
    {
     "data": {
      "text/plain": [
       "<AxesSubplot:xlabel='PROBABILTY', ylabel='Proportion'>"
      ]
     },
     "execution_count": 1155,
     "metadata": {},
     "output_type": "execute_result"
    },
    {
     "data": {
      "image/png": "[encoded data removed]",
      "text/plain": [
       "<Figure size 432x288 with 1 Axes>"
      ]
     },
     "metadata": {
      "needs_background": "light"
     },
     "output_type": "display_data"
    }
   ],
   "source": [
    "sns.histplot(customer_df['PROBABILTY'], stat=\"proportion\", cumulative=True, alpha=.4)\n",
    "sns.ecdfplot(customer_df['PROBABILTY'], stat=\"proportion\")"
   ]
  },
  {
   "cell_type": "markdown",
   "id": "ab3a4821",
   "metadata": {},
   "source": [
    "### 70% of the customers default on more than 50% of the invoices"
   ]
  },
  {
   "cell_type": "code",
   "execution_count": 1156,
   "id": "b43bc149",
   "metadata": {},
   "outputs": [],
   "source": [
    "segment_df = pd.merge(customer_df, cust_segment_df[['CUSTOMER_NUMBER', 'SEGMENT_ID']], on='CUSTOMER_NUMBER')"
   ]
  },
  {
   "cell_type": "code",
   "execution_count": 1157,
   "id": "e0ac064a",
   "metadata": {},
   "outputs": [],
   "source": [
    "## Aggregating based on Segment ID"
   ]
  },
  {
   "cell_type": "code",
   "execution_count": 1158,
   "id": "a9506298",
   "metadata": {},
   "outputs": [
    {
     "data": {
      "text/plain": [
       "(543, 5)"
      ]
     },
     "execution_count": 1158,
     "metadata": {},
     "output_type": "execute_result"
    }
   ],
   "source": [
    "segment_df.shape"
   ]
  },
  {
   "cell_type": "code",
   "execution_count": 1159,
   "id": "2dab0ae0",
   "metadata": {},
   "outputs": [
    {
     "data": {
      "text/plain": [
       "(1048, 4)"
      ]
     },
     "execution_count": 1159,
     "metadata": {},
     "output_type": "execute_result"
    }
   ],
   "source": [
    "cust_segment_df.shape"
   ]
  },
  {
   "cell_type": "code",
   "execution_count": 1160,
   "id": "76afff6c",
   "metadata": {},
   "outputs": [
    {
     "data": {
      "text/html": [
       "<div>\n",
       "<style scoped>\n",
       "    .dataframe tbody tr th:only-of-type {\n",
       "        vertical-align: middle;\n",
       "    }\n",
       "\n",
       "    .dataframe tbody tr th {\n",
       "        vertical-align: top;\n",
       "    }\n",
       "\n",
       "    .dataframe thead th {\n",
       "        text-align: right;\n",
       "    }\n",
       "</style>\n",
       "<table border=\"1\" class=\"dataframe\">\n",
       "  <thead>\n",
       "    <tr style=\"text-align: right;\">\n",
       "      <th></th>\n",
       "      <th>CUSTOMER_NUMBER</th>\n",
       "      <th>PREDICTION</th>\n",
       "      <th>PROBABILTY</th>\n",
       "      <th>DELAYED_PAYMENT</th>\n",
       "      <th>SEGMENT_ID</th>\n",
       "    </tr>\n",
       "  </thead>\n",
       "  <tbody>\n",
       "    <tr>\n",
       "      <th>0</th>\n",
       "      <td>10360</td>\n",
       "      <td>0.000000</td>\n",
       "      <td>0</td>\n",
       "      <td>N</td>\n",
       "      <td>0</td>\n",
       "    </tr>\n",
       "    <tr>\n",
       "      <th>1</th>\n",
       "      <td>1044</td>\n",
       "      <td>0.712297</td>\n",
       "      <td>71</td>\n",
       "      <td>Y</td>\n",
       "      <td>4</td>\n",
       "    </tr>\n",
       "    <tr>\n",
       "      <th>2</th>\n",
       "      <td>1076</td>\n",
       "      <td>0.875000</td>\n",
       "      <td>87</td>\n",
       "      <td>Y</td>\n",
       "      <td>0</td>\n",
       "    </tr>\n",
       "    <tr>\n",
       "      <th>3</th>\n",
       "      <td>1146</td>\n",
       "      <td>0.500000</td>\n",
       "      <td>50</td>\n",
       "      <td>Y</td>\n",
       "      <td>4</td>\n",
       "    </tr>\n",
       "    <tr>\n",
       "      <th>4</th>\n",
       "      <td>1154</td>\n",
       "      <td>0.932203</td>\n",
       "      <td>93</td>\n",
       "      <td>Y</td>\n",
       "      <td>1</td>\n",
       "    </tr>\n",
       "  </tbody>\n",
       "</table>\n",
       "</div>"
      ],
      "text/plain": [
       "  CUSTOMER_NUMBER  PREDICTION  PROBABILTY DELAYED_PAYMENT  SEGMENT_ID\n",
       "0           10360    0.000000           0               N           0\n",
       "1            1044    0.712297          71               Y           4\n",
       "2            1076    0.875000          87               Y           0\n",
       "3            1146    0.500000          50               Y           4\n",
       "4            1154    0.932203          93               Y           1"
      ]
     },
     "execution_count": 1160,
     "metadata": {},
     "output_type": "execute_result"
    }
   ],
   "source": [
    "segment_df.head()"
   ]
  },
  {
   "cell_type": "code",
   "execution_count": 1161,
   "id": "3223b405",
   "metadata": {},
   "outputs": [
    {
     "data": {
      "text/plain": [
       "0    370\n",
       "1    127\n",
       "4     37\n",
       "2      5\n",
       "3      4\n",
       "Name: SEGMENT_ID, dtype: int64"
      ]
     },
     "execution_count": 1161,
     "metadata": {},
     "output_type": "execute_result"
    }
   ],
   "source": [
    "segment_df.SEGMENT_ID.value_counts()"
   ]
  },
  {
   "cell_type": "code",
   "execution_count": 1162,
   "id": "13edcf7d",
   "metadata": {},
   "outputs": [
    {
     "data": {
      "image/png": "[encoded data removed]",
      "text/plain": [
       "<Figure size 576x432 with 1 Axes>"
      ]
     },
     "metadata": {
      "needs_background": "light"
     },
     "output_type": "display_data"
    }
   ],
   "source": [
    "univariate_count(segment_df,'SEGMENT_ID')"
   ]
  },
  {
   "cell_type": "markdown",
   "id": "92aa4f57",
   "metadata": {},
   "source": [
    "### Customers with open invoice mostly fall in Segments 0 and 1"
   ]
  },
  {
   "cell_type": "markdown",
   "id": "382dfc71",
   "metadata": {},
   "source": [
    "##### <font color=red>*Note: Segment IDs may vary from the above when K-Means clustering is re-run</font>"
   ]
  },
  {
   "cell_type": "code",
   "execution_count": 1164,
   "id": "74c74fd0",
   "metadata": {},
   "outputs": [
    {
     "data": {
      "image/png": "[encoded data removed]",
      "text/plain": [
       "<Figure size 432x288 with 1 Axes>"
      ]
     },
     "metadata": {
      "needs_background": "light"
     },
     "output_type": "display_data"
    }
   ],
   "source": [
    "sns.histplot(data=segment_df, x='SEGMENT_ID', bins=10, stat='percent', multiple='dodge',hue='DELAYED_PAYMENT',palette='hls')\n",
    "plt.show()"
   ]
  },
  {
   "cell_type": "markdown",
   "id": "cc143b7e",
   "metadata": {},
   "source": [
    "### Most of the good customers among the open invoices are from Segment-0"
   ]
  },
  {
   "cell_type": "code",
   "execution_count": null,
   "id": "bf384032",
   "metadata": {},
   "outputs": [],
   "source": []
  }
 ],
 "metadata": {
  "kernelspec": {
   "display_name": "Python 3 (ipykernel)",
   "language": "python",
   "name": "python3"
  },
  "language_info": {
   "codemirror_mode": {
    "name": "ipython",
    "version": 3
   },
   "file_extension": ".py",
   "mimetype": "text/x-python",
   "name": "python",
   "nbconvert_exporter": "python",
   "pygments_lexer": "ipython3",
   "version": "3.9.12"
  }
 },
 "nbformat": 4,
 "nbformat_minor": 5
}
